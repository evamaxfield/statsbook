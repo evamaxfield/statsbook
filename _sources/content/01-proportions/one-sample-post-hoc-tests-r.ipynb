{
 "cells": [
  {
   "cell_type": "code",
   "execution_count": null,
   "id": "ede14ef8-27da-40af-ba3e-65549a1477b6",
   "metadata": {},
   "outputs": [],
   "source": []
  },
  {
   "cell_type": "markdown",
   "id": "def1485a-7b5a-4530-9fe3-3e1cabdaeb43",
   "metadata": {},
   "source": [
    "## One Sample Post Hoc Tests"
   ]
  },
  {
   "cell_type": "markdown",
   "id": "c77e1012-6124-42b0-ae16-e11a3c695254",
   "metadata": {},
   "source": [
    "### Post Hoc Test for Multinomial Test\n",
    "\n",
    "* **Samples:** `1`\n",
    "* **Response Categories:** `≥2`\n",
    "* **Omnibus Test(s):** [Multinomial Test](#multinomial-test)\n",
    "* **Contrast Test:** [Binomial Test](#binomial-test)\n",
    "* **Reporting:** \"Pairwise comparisons using exact binomial tests, corrected with Holm’s sequential Bonferroni procedure, indicated that the proportions of ‘x’ and ‘z’ and ‘y’ and ‘z’ were statistically significantly different (p < .05), but that the proportions of ‘x’ and ‘y’ were not.\""
   ]
  },
  {
   "cell_type": "code",
   "execution_count": null,
   "id": "91f32eae-e175-4efe-99f1-7ed3c3998777",
   "metadata": {},
   "outputs": [
    {
     "data": {
      "text/plain": [
       "\n",
       "\tPairwise comparisons using exact binomial tests \n",
       "\n",
       "data:  xt \n",
       "\n",
       "   8       17     \n",
       "17 0.10775 -      \n",
       "35 0.00013 0.03507\n",
       "\n",
       "P value adjustment method: holm "
      ]
     },
     "metadata": {},
     "output_type": "display_data"
    }
   ],
   "source": [
    "# install.packages(\"RVAideMemoire\")\n",
    "# on Ubuntu you may have trouble installing, see: TODO\n",
    "library(RVAideMemoire) # for multinomial.multcomp\n",
    "multinomial.multcomp(xt, p.method=\"holm\") # xt shows levels"
   ]
  },
  {
   "cell_type": "markdown",
   "id": "34532828-2997-4e2f-b39f-a1666ba0c60c",
   "metadata": {},
   "source": [
    "### Post Hoc Test for One Sample Pearson Chi-Squared Test\n",
    "\n",
    "* **Samples:** `1`\n",
    "* **Response Categories:** `≥2`\n",
    "* **Omnibus Test(s):** [One Sample Pearson Chi-Squared Test](#one-sample-pearson-chi-squared-test)\n",
    "* **Contrast Test:** [Chi-Squared Test](#one-sample-chi-squared-test)\n",
    "* **Reporting:** \"Pairwise comparisons using Pearson Chi-Squared tests, corrected with Holm’s sequential Bonferroni procedure, indicated that the proportions of ‘x’ and ‘z’ were statistically significantly different (χ2(1, N=52) = 5.02, p < .05), as were the proportions of ‘y’ and ‘z’ (χ2(1, N=43) = 14.96, p < .001), but that the proportions of ‘x’ and ‘y’ were only marginal (χ2(1, N=25) = 3.24, p = .072).\""
   ]
  },
  {
   "cell_type": "code",
   "execution_count": 11,
   "id": "30638882-df93-4efc-9970-e0f14a99b4da",
   "metadata": {},
   "outputs": [
    {
     "data": {
      "text/plain": [
       "\n",
       "\tPairwise comparisons using chi-squared tests \n",
       "\n",
       "data:  xt \n",
       "\n",
       "   8       17     \n",
       "17 0.07186 -      \n",
       "35 0.00011 0.02511\n",
       "\n",
       "P value adjustment method: holm "
      ]
     },
     "metadata": {},
     "output_type": "display_data"
    }
   ],
   "source": [
    "# install.packages(\"RVAideMemoire\")\n",
    "# on Ubuntu you may have trouble installing, see: TODO\n",
    "library(RVAideMemoire) # for chisq.multcomp\n",
    "chisq.multcomp(xt, p.method=\"holm\") # xt shows levels"
   ]
  },
  {
   "cell_type": "code",
   "execution_count": 15,
   "id": "91ddfe26-0a0d-4dd6-953d-0c16c94406b8",
   "metadata": {},
   "outputs": [
    {
     "data": {
      "text/html": [
       "3.24001455110448"
      ],
      "text/latex": [
       "3.24001455110448"
      ],
      "text/markdown": [
       "3.24001455110448"
      ],
      "text/plain": [
       "[1] 3.240015"
      ]
     },
     "metadata": {},
     "output_type": "display_data"
    },
    {
     "data": {
      "text/html": [
       "14.9568155823045"
      ],
      "text/latex": [
       "14.9568155823045"
      ],
      "text/markdown": [
       "14.9568155823045"
      ],
      "text/plain": [
       "[1] 14.95682"
      ]
     },
     "metadata": {},
     "output_type": "display_data"
    },
    {
     "data": {
      "text/html": [
       "5.01628405548254"
      ],
      "text/latex": [
       "5.01628405548254"
      ],
      "text/markdown": [
       "5.01628405548254"
      ],
      "text/plain": [
       "[1] 5.016284"
      ]
     },
     "metadata": {},
     "output_type": "display_data"
    }
   ],
   "source": [
    "# for the Chi-Squared values, use qchisq(1-p, df=1), where p is the pairwise p-value.\n",
    "qchisq(1-0.07186, df=1)\n",
    "qchisq(1-0.00011, df=1)\n",
    "qchisq(1-0.02511, df=1)"
   ]
  },
  {
   "cell_type": "markdown",
   "id": "89e9030d-fa33-4040-a991-fbbedbca996c",
   "metadata": {},
   "source": [
    "### Post Hoc Test for Multinom\n",
    "\n",
    "* **Samples:** `1`\n",
    "* **Response Categories:** `≥2`\n",
    "* **Omnibus Test(s):** [Multinomial Test](#multinomial-test), [One Sample Pearson Chi-Squared Test](#one-sample-pearson-chi-squared-test)\n",
    "* **Contrast Test:** [Binomial Test](#binomial-test)\n",
    "* **Reporting:** \"Three post hoc binomial tests, corrected with Holm’s sequential Bonferroni procedure, indicated that the proportions of ‘y’ and ‘z’ were statistically significantly different from chance (p < .05), but not the proportion of ‘x’. Specifically, the proportion of ‘y’ at 8 was significantly lower than 20, and the proportion of ‘z’ at 35 was significantly higher than 20.\""
   ]
  },
  {
   "cell_type": "code",
   "execution_count": 16,
   "id": "a089abd1-7137-4755-87ca-2ff4423d2af3",
   "metadata": {},
   "outputs": [
    {
     "data": {
      "text/html": [
       "<style>\n",
       ".list-inline {list-style: none; margin:0; padding: 0}\n",
       ".list-inline>li {display: inline-block}\n",
       ".list-inline>li:not(:last-child)::after {content: \"\\00b7\"; padding: 0 .5ex}\n",
       "</style>\n",
       "<ol class=list-inline><li>0.493902062492867</li><li>0.00110663604834825</li><li>0.000266387917877191</li></ol>\n"
      ],
      "text/latex": [
       "\\begin{enumerate*}\n",
       "\\item 0.493902062492867\n",
       "\\item 0.00110663604834825\n",
       "\\item 0.000266387917877191\n",
       "\\end{enumerate*}\n"
      ],
      "text/markdown": [
       "1. 0.493902062492867\n",
       "2. 0.00110663604834825\n",
       "3. 0.000266387917877191\n",
       "\n",
       "\n"
      ],
      "text/plain": [
       "[1] 0.4939020625 0.0011066360 0.0002663879"
      ]
     },
     "metadata": {},
     "output_type": "display_data"
    }
   ],
   "source": [
    "# A different kind of post hoc test for one sample. For Y's response categories (x,y,z), \n",
    "# test each proportion against chance.\n",
    "x = binom.test(sum(df$Y == \"x\"), nrow(df), p=1/3) # proportion of \"x\" rows\n",
    "y = binom.test(sum(df$Y == \"y\"), nrow(df), p=1/3) # proportion of \"y\" rows\n",
    "z = binom.test(sum(df$Y == \"z\"), nrow(df), p=1/3) # proportion of \"z\" rows\n",
    "p.adjust(c(x$p.value, y$p.value, z$p.value), method=\"holm\")"
   ]
  }
 ],
 "metadata": {
  "kernelspec": {
   "display_name": "R",
   "language": "R",
   "name": "ir"
  },
  "language_info": {
   "codemirror_mode": "r",
   "file_extension": ".r",
   "mimetype": "text/x-r-source",
   "name": "R",
   "pygments_lexer": "r",
   "version": "4.2.2"
  }
 },
 "nbformat": 4,
 "nbformat_minor": 5
}
