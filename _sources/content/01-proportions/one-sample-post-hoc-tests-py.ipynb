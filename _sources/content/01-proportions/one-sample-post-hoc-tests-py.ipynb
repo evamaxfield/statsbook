{
 "cells": [
  {
   "cell_type": "markdown",
   "id": "32423ca4-b699-4154-abb2-1bca92197ab2",
   "metadata": {},
   "source": [
    "# Post Hoc Analysis for One Sample Tests of Proportion - Python"
   ]
  },
  {
   "cell_type": "markdown",
   "id": "4a8ae25a-fb93-48f6-bb5e-6d296a57b670",
   "metadata": {},
   "source": [
    "## Binomial Tests\n",
    "\n",
    "* **Samples:** `1`\n",
    "* **Response Categories:** `>=2`\n",
    "* **Omnibus Test:** Multinomial Test\n",
    "* **Contrast Test:** Binomial Test\n",
    "* **Reporting:** \"Pairwise comparisons using exact binomial tests, corrected with Holm’s sequential Bonferroni procedure, indicated that the proportions of ‘x’ and ‘z’ and ‘y’ and ‘z’ were statistically significantly different (p < .05), but that the proportions of ‘x’ and ‘y’ were not.\""
   ]
  },
  {
   "cell_type": "code",
   "execution_count": 1,
   "id": "775ed9e6-09b3-48d5-b93d-c1799ac1e8d5",
   "metadata": {},
   "outputs": [
    {
     "data": {
      "text/html": [
       "<div>\n",
       "<style scoped>\n",
       "    .dataframe tbody tr th:only-of-type {\n",
       "        vertical-align: middle;\n",
       "    }\n",
       "\n",
       "    .dataframe tbody tr th {\n",
       "        vertical-align: top;\n",
       "    }\n",
       "\n",
       "    .dataframe thead th {\n",
       "        text-align: right;\n",
       "    }\n",
       "</style>\n",
       "<table border=\"1\" class=\"dataframe\">\n",
       "  <thead>\n",
       "    <tr style=\"text-align: right;\">\n",
       "      <th></th>\n",
       "      <th>S</th>\n",
       "      <th>Y</th>\n",
       "    </tr>\n",
       "  </thead>\n",
       "  <tbody>\n",
       "    <tr>\n",
       "      <th>0</th>\n",
       "      <td>1</td>\n",
       "      <td>z</td>\n",
       "    </tr>\n",
       "    <tr>\n",
       "      <th>1</th>\n",
       "      <td>2</td>\n",
       "      <td>z</td>\n",
       "    </tr>\n",
       "    <tr>\n",
       "      <th>2</th>\n",
       "      <td>3</td>\n",
       "      <td>z</td>\n",
       "    </tr>\n",
       "    <tr>\n",
       "      <th>3</th>\n",
       "      <td>4</td>\n",
       "      <td>x</td>\n",
       "    </tr>\n",
       "    <tr>\n",
       "      <th>4</th>\n",
       "      <td>5</td>\n",
       "      <td>z</td>\n",
       "    </tr>\n",
       "    <tr>\n",
       "      <th>5</th>\n",
       "      <td>6</td>\n",
       "      <td>z</td>\n",
       "    </tr>\n",
       "    <tr>\n",
       "      <th>6</th>\n",
       "      <td>7</td>\n",
       "      <td>z</td>\n",
       "    </tr>\n",
       "    <tr>\n",
       "      <th>7</th>\n",
       "      <td>8</td>\n",
       "      <td>z</td>\n",
       "    </tr>\n",
       "    <tr>\n",
       "      <th>8</th>\n",
       "      <td>9</td>\n",
       "      <td>z</td>\n",
       "    </tr>\n",
       "    <tr>\n",
       "      <th>9</th>\n",
       "      <td>10</td>\n",
       "      <td>z</td>\n",
       "    </tr>\n",
       "    <tr>\n",
       "      <th>10</th>\n",
       "      <td>11</td>\n",
       "      <td>z</td>\n",
       "    </tr>\n",
       "    <tr>\n",
       "      <th>11</th>\n",
       "      <td>12</td>\n",
       "      <td>x</td>\n",
       "    </tr>\n",
       "    <tr>\n",
       "      <th>12</th>\n",
       "      <td>13</td>\n",
       "      <td>z</td>\n",
       "    </tr>\n",
       "    <tr>\n",
       "      <th>13</th>\n",
       "      <td>14</td>\n",
       "      <td>y</td>\n",
       "    </tr>\n",
       "    <tr>\n",
       "      <th>14</th>\n",
       "      <td>15</td>\n",
       "      <td>z</td>\n",
       "    </tr>\n",
       "    <tr>\n",
       "      <th>15</th>\n",
       "      <td>16</td>\n",
       "      <td>y</td>\n",
       "    </tr>\n",
       "    <tr>\n",
       "      <th>16</th>\n",
       "      <td>17</td>\n",
       "      <td>x</td>\n",
       "    </tr>\n",
       "    <tr>\n",
       "      <th>17</th>\n",
       "      <td>18</td>\n",
       "      <td>z</td>\n",
       "    </tr>\n",
       "    <tr>\n",
       "      <th>18</th>\n",
       "      <td>19</td>\n",
       "      <td>z</td>\n",
       "    </tr>\n",
       "    <tr>\n",
       "      <th>19</th>\n",
       "      <td>20</td>\n",
       "      <td>z</td>\n",
       "    </tr>\n",
       "  </tbody>\n",
       "</table>\n",
       "</div>"
      ],
      "text/plain": [
       "     S  Y\n",
       "0    1  z\n",
       "1    2  z\n",
       "2    3  z\n",
       "3    4  x\n",
       "4    5  z\n",
       "5    6  z\n",
       "6    7  z\n",
       "7    8  z\n",
       "8    9  z\n",
       "9   10  z\n",
       "10  11  z\n",
       "11  12  x\n",
       "12  13  z\n",
       "13  14  y\n",
       "14  15  z\n",
       "15  16  y\n",
       "16  17  x\n",
       "17  18  z\n",
       "18  19  z\n",
       "19  20  z"
      ]
     },
     "execution_count": 1,
     "metadata": {},
     "output_type": "execute_result"
    }
   ],
   "source": [
    "import pandas as pd\n",
    "\n",
    "df = pd.read_csv(\"data/0F0LBs_multinomial.csv\")\n",
    "df.head(20)"
   ]
  },
  {
   "cell_type": "code",
   "execution_count": 5,
   "id": "fab78f81-791c-4385-a537-5223bea2a120",
   "metadata": {},
   "outputs": [
    {
     "data": {
      "text/plain": [
       "BinomTestResult(k=17, n=60, alternative='two-sided', proportion_estimate=0.2833333333333333, pvalue=0.49390206249286706)"
      ]
     },
     "execution_count": 5,
     "metadata": {},
     "output_type": "execute_result"
    }
   ],
   "source": [
    "# counts = df[\"Y\"].value_counts()\n",
    "# x = binomtest(counts[\"x\"], counts.sum(), p=1/len(counts))\n",
    "# x"
   ]
  },
  {
   "cell_type": "code",
   "execution_count": null,
   "id": "cbe0f695-bf4b-43c6-b200-3e6d8ae8fd97",
   "metadata": {},
   "outputs": [
    {
     "data": {
      "text/plain": [
       "[BinomTestResult(k=35, n=60, alternative='two-sided', proportion_estimate=0.5833333333333334, pvalue=8.879597262573076e-05),\n",
       " BinomTestResult(k=17, n=60, alternative='two-sided', proportion_estimate=0.2833333333333333, pvalue=0.49390206249286706),\n",
       " BinomTestResult(k=8, n=60, alternative='two-sided', proportion_estimate=0.13333333333333333, pvalue=0.0005533180241741244)]"
      ]
     },
     "execution_count": 12,
     "metadata": {},
     "output_type": "execute_result"
    }
   ],
   "source": [
    "# from scipy.stats import binomtest\n",
    "\n",
    "# binom_results = [\n",
    "#     binomtest(counts[level], counts.sum(), p=1/len(counts))\n",
    "#     for level in counts.index\n",
    "# ]\n",
    "# binom_results"
   ]
  },
  {
   "cell_type": "code",
   "execution_count": 13,
   "id": "c6cd0e0f-1240-4515-919c-a1921e869d41",
   "metadata": {},
   "outputs": [
    {
     "data": {
      "text/plain": [
       "[8.879597262573076e-05, 0.49390206249286706, 0.0005533180241741244]"
      ]
     },
     "execution_count": 13,
     "metadata": {},
     "output_type": "execute_result"
    }
   ],
   "source": [
    "# binom_p_values = [r.pvalue for r in binom_results]\n",
    "# binom_p_values"
   ]
  },
  {
   "cell_type": "code",
   "execution_count": 18,
   "id": "eb42d5a9-75d8-4666-9f98-722090cfa658",
   "metadata": {},
   "outputs": [
    {
     "data": {
      "text/plain": [
       "(array([ True, False,  True]),\n",
       " array([2.66387918e-04, 4.93902062e-01, 1.10663605e-03]))"
      ]
     },
     "execution_count": 18,
     "metadata": {},
     "output_type": "execute_result"
    }
   ],
   "source": [
    "# from statsmodels.stats.multitest import multipletests\n",
    "\n",
    "# reject, pvals_corrected, _, _ = multipletests(binom_p_values, method=\"holm\")\n",
    "# reject, pvals_corrected"
   ]
  },
  {
   "cell_type": "code",
   "execution_count": null,
   "id": "dc531a51-c268-476c-a498-a5818074aab4",
   "metadata": {},
   "outputs": [],
   "source": []
  }
 ],
 "metadata": {
  "kernelspec": {
   "display_name": "Python 3.10.6 64-bit",
   "language": "python",
   "name": "python3"
  },
  "language_info": {
   "codemirror_mode": {
    "name": "ipython",
    "version": 3
   },
   "file_extension": ".py",
   "mimetype": "text/x-python",
   "name": "python",
   "nbconvert_exporter": "python",
   "pygments_lexer": "ipython3",
   "version": "3.10.6"
  },
  "vscode": {
   "interpreter": {
    "hash": "916dbcbb3f70747c44a77c7bcd40155683ae19c65e1c03b4aa3499c5328201f1"
   }
  }
 },
 "nbformat": 4,
 "nbformat_minor": 5
}
