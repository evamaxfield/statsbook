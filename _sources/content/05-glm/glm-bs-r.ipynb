{
 "cells": [
  {
   "cell_type": "markdown",
   "id": "c47ebc4d-d172-4e70-9e16-cf6a0ba7153a",
   "metadata": {},
   "source": [
    "# GLM for Between Subjects Data - R"
   ]
  },
  {
   "cell_type": "markdown",
   "id": "4ecefac5-3aac-4309-a413-d1e62eb0fc81",
   "metadata": {},
   "source": [
    "## GLM for Normal Distribution Data\n",
    "\n",
    "* **Distribution:** Normal\n",
    "* **Link:** identity\n",
    "* **Typical Uses:** Linear Regression: equivalent to linear (mixed) model (`lm` / `lmm`)\n",
    "* **Reporting:** \"Figure 12a shows an interaction plot with ±1 standard deviation error bars for X1 and X2. An analysis of variance based on linear regression indicated a statistically significant effect on Y of X1 (F(1, 56) = 7.06, p < .05), but not of X2 (F(1, 56) = 1.02, n.s.). Also, the X1×X2 interaction was not statistically significant (F(1, 56) = 2.74, n.s.).\""
   ]
  },
  {
   "cell_type": "code",
   "execution_count": 1,
   "id": "c7fa707e-af25-4dab-a4f6-cddd99a5ca4e",
   "metadata": {
    "vscode": {
     "languageId": "r"
    }
   },
   "outputs": [
    {
     "data": {
      "text/html": [
       "<table class=\"dataframe\">\n",
       "<caption>A data.frame: 20 × 4</caption>\n",
       "<thead>\n",
       "\t<tr><th></th><th scope=col>S</th><th scope=col>X1</th><th scope=col>X2</th><th scope=col>Y</th></tr>\n",
       "\t<tr><th></th><th scope=col>&lt;int&gt;</th><th scope=col>&lt;chr&gt;</th><th scope=col>&lt;chr&gt;</th><th scope=col>&lt;dbl&gt;</th></tr>\n",
       "</thead>\n",
       "<tbody>\n",
       "\t<tr><th scope=row>1</th><td> 1</td><td>a</td><td>a</td><td> 9.587838</td></tr>\n",
       "\t<tr><th scope=row>2</th><td> 2</td><td>a</td><td>b</td><td> 9.217284</td></tr>\n",
       "\t<tr><th scope=row>3</th><td> 3</td><td>b</td><td>a</td><td>10.663489</td></tr>\n",
       "\t<tr><th scope=row>4</th><td> 4</td><td>b</td><td>b</td><td>14.932123</td></tr>\n",
       "\t<tr><th scope=row>5</th><td> 5</td><td>a</td><td>a</td><td> 5.157908</td></tr>\n",
       "\t<tr><th scope=row>6</th><td> 6</td><td>a</td><td>b</td><td>11.025094</td></tr>\n",
       "\t<tr><th scope=row>7</th><td> 7</td><td>b</td><td>a</td><td>10.741292</td></tr>\n",
       "\t<tr><th scope=row>8</th><td> 8</td><td>b</td><td>b</td><td> 3.169121</td></tr>\n",
       "\t<tr><th scope=row>9</th><td> 9</td><td>a</td><td>a</td><td>10.863238</td></tr>\n",
       "\t<tr><th scope=row>10</th><td>10</td><td>a</td><td>b</td><td> 6.244845</td></tr>\n",
       "\t<tr><th scope=row>11</th><td>11</td><td>b</td><td>a</td><td>14.949621</td></tr>\n",
       "\t<tr><th scope=row>12</th><td>12</td><td>b</td><td>b</td><td>10.081778</td></tr>\n",
       "\t<tr><th scope=row>13</th><td>13</td><td>a</td><td>a</td><td> 6.167002</td></tr>\n",
       "\t<tr><th scope=row>14</th><td>14</td><td>a</td><td>b</td><td> 7.761871</td></tr>\n",
       "\t<tr><th scope=row>15</th><td>15</td><td>b</td><td>a</td><td>12.335185</td></tr>\n",
       "\t<tr><th scope=row>16</th><td>16</td><td>b</td><td>b</td><td> 8.212590</td></tr>\n",
       "\t<tr><th scope=row>17</th><td>17</td><td>a</td><td>a</td><td> 6.552768</td></tr>\n",
       "\t<tr><th scope=row>18</th><td>18</td><td>a</td><td>b</td><td>10.075766</td></tr>\n",
       "\t<tr><th scope=row>19</th><td>19</td><td>b</td><td>a</td><td>13.765247</td></tr>\n",
       "\t<tr><th scope=row>20</th><td>20</td><td>b</td><td>b</td><td> 9.038398</td></tr>\n",
       "</tbody>\n",
       "</table>\n"
      ],
      "text/latex": [
       "A data.frame: 20 × 4\n",
       "\\begin{tabular}{r|llll}\n",
       "  & S & X1 & X2 & Y\\\\\n",
       "  & <int> & <chr> & <chr> & <dbl>\\\\\n",
       "\\hline\n",
       "\t1 &  1 & a & a &  9.587838\\\\\n",
       "\t2 &  2 & a & b &  9.217284\\\\\n",
       "\t3 &  3 & b & a & 10.663489\\\\\n",
       "\t4 &  4 & b & b & 14.932123\\\\\n",
       "\t5 &  5 & a & a &  5.157908\\\\\n",
       "\t6 &  6 & a & b & 11.025094\\\\\n",
       "\t7 &  7 & b & a & 10.741292\\\\\n",
       "\t8 &  8 & b & b &  3.169121\\\\\n",
       "\t9 &  9 & a & a & 10.863238\\\\\n",
       "\t10 & 10 & a & b &  6.244845\\\\\n",
       "\t11 & 11 & b & a & 14.949621\\\\\n",
       "\t12 & 12 & b & b & 10.081778\\\\\n",
       "\t13 & 13 & a & a &  6.167002\\\\\n",
       "\t14 & 14 & a & b &  7.761871\\\\\n",
       "\t15 & 15 & b & a & 12.335185\\\\\n",
       "\t16 & 16 & b & b &  8.212590\\\\\n",
       "\t17 & 17 & a & a &  6.552768\\\\\n",
       "\t18 & 18 & a & b & 10.075766\\\\\n",
       "\t19 & 19 & b & a & 13.765247\\\\\n",
       "\t20 & 20 & b & b &  9.038398\\\\\n",
       "\\end{tabular}\n"
      ],
      "text/markdown": [
       "\n",
       "A data.frame: 20 × 4\n",
       "\n",
       "| <!--/--> | S &lt;int&gt; | X1 &lt;chr&gt; | X2 &lt;chr&gt; | Y &lt;dbl&gt; |\n",
       "|---|---|---|---|---|\n",
       "| 1 |  1 | a | a |  9.587838 |\n",
       "| 2 |  2 | a | b |  9.217284 |\n",
       "| 3 |  3 | b | a | 10.663489 |\n",
       "| 4 |  4 | b | b | 14.932123 |\n",
       "| 5 |  5 | a | a |  5.157908 |\n",
       "| 6 |  6 | a | b | 11.025094 |\n",
       "| 7 |  7 | b | a | 10.741292 |\n",
       "| 8 |  8 | b | b |  3.169121 |\n",
       "| 9 |  9 | a | a | 10.863238 |\n",
       "| 10 | 10 | a | b |  6.244845 |\n",
       "| 11 | 11 | b | a | 14.949621 |\n",
       "| 12 | 12 | b | b | 10.081778 |\n",
       "| 13 | 13 | a | a |  6.167002 |\n",
       "| 14 | 14 | a | b |  7.761871 |\n",
       "| 15 | 15 | b | a | 12.335185 |\n",
       "| 16 | 16 | b | b |  8.212590 |\n",
       "| 17 | 17 | a | a |  6.552768 |\n",
       "| 18 | 18 | a | b | 10.075766 |\n",
       "| 19 | 19 | b | a | 13.765247 |\n",
       "| 20 | 20 | b | b |  9.038398 |\n",
       "\n"
      ],
      "text/plain": [
       "   S  X1 X2 Y        \n",
       "1   1 a  a   9.587838\n",
       "2   2 a  b   9.217284\n",
       "3   3 b  a  10.663489\n",
       "4   4 b  b  14.932123\n",
       "5   5 a  a   5.157908\n",
       "6   6 a  b  11.025094\n",
       "7   7 b  a  10.741292\n",
       "8   8 b  b   3.169121\n",
       "9   9 a  a  10.863238\n",
       "10 10 a  b   6.244845\n",
       "11 11 b  a  14.949621\n",
       "12 12 b  b  10.081778\n",
       "13 13 a  a   6.167002\n",
       "14 14 a  b   7.761871\n",
       "15 15 b  a  12.335185\n",
       "16 16 b  b   8.212590\n",
       "17 17 a  a   6.552768\n",
       "18 18 a  b  10.075766\n",
       "19 19 b  a  13.765247\n",
       "20 20 b  b   9.038398"
      ]
     },
     "metadata": {},
     "output_type": "display_data"
    }
   ],
   "source": [
    "# Example data\n",
    "# df has subjects (S), two between-Ss factors (X1,X2) each w/levels (a,b), and continuous response (Y)\n",
    "df <- read.csv(\"data/2F2LBs_normal.csv\")\n",
    "head(df, 20)"
   ]
  },
  {
   "cell_type": "code",
   "execution_count": 2,
   "id": "16232a79-412b-4f96-9665-843bb01774b7",
   "metadata": {
    "vscode": {
     "languageId": "r"
    }
   },
   "outputs": [
    {
     "name": "stderr",
     "output_type": "stream",
     "text": [
      "Loading required package: carData\n",
      "\n"
     ]
    },
    {
     "data": {
      "text/html": [
       "<table class=\"dataframe\">\n",
       "<caption>A anova: 4 × 4</caption>\n",
       "<thead>\n",
       "\t<tr><th></th><th scope=col>Sum Sq</th><th scope=col>Df</th><th scope=col>F values</th><th scope=col>Pr(&gt;F)</th></tr>\n",
       "\t<tr><th></th><th scope=col>&lt;dbl&gt;</th><th scope=col>&lt;dbl&gt;</th><th scope=col>&lt;dbl&gt;</th><th scope=col>&lt;dbl&gt;</th></tr>\n",
       "</thead>\n",
       "<tbody>\n",
       "\t<tr><th scope=row>X1</th><td> 61.014582</td><td> 1</td><td>7.061331</td><td>0.01024486</td></tr>\n",
       "\t<tr><th scope=row>X2</th><td>  8.787594</td><td> 1</td><td>1.017005</td><td>0.31756830</td></tr>\n",
       "\t<tr><th scope=row>X1:X2</th><td> 23.639063</td><td> 1</td><td>2.735793</td><td>0.10371815</td></tr>\n",
       "\t<tr><th scope=row>Residuals</th><td>483.877154</td><td>56</td><td>      NA</td><td>        NA</td></tr>\n",
       "</tbody>\n",
       "</table>\n"
      ],
      "text/latex": [
       "A anova: 4 × 4\n",
       "\\begin{tabular}{r|llll}\n",
       "  & Sum Sq & Df & F values & Pr(>F)\\\\\n",
       "  & <dbl> & <dbl> & <dbl> & <dbl>\\\\\n",
       "\\hline\n",
       "\tX1 &  61.014582 &  1 & 7.061331 & 0.01024486\\\\\n",
       "\tX2 &   8.787594 &  1 & 1.017005 & 0.31756830\\\\\n",
       "\tX1:X2 &  23.639063 &  1 & 2.735793 & 0.10371815\\\\\n",
       "\tResiduals & 483.877154 & 56 &       NA &         NA\\\\\n",
       "\\end{tabular}\n"
      ],
      "text/markdown": [
       "\n",
       "A anova: 4 × 4\n",
       "\n",
       "| <!--/--> | Sum Sq &lt;dbl&gt; | Df &lt;dbl&gt; | F values &lt;dbl&gt; | Pr(&gt;F) &lt;dbl&gt; |\n",
       "|---|---|---|---|---|\n",
       "| X1 |  61.014582 |  1 | 7.061331 | 0.01024486 |\n",
       "| X2 |   8.787594 |  1 | 1.017005 | 0.31756830 |\n",
       "| X1:X2 |  23.639063 |  1 | 2.735793 | 0.10371815 |\n",
       "| Residuals | 483.877154 | 56 |       NA |         NA |\n",
       "\n"
      ],
      "text/plain": [
       "          Sum Sq     Df F values Pr(>F)    \n",
       "X1         61.014582  1 7.061331 0.01024486\n",
       "X2          8.787594  1 1.017005 0.31756830\n",
       "X1:X2      23.639063  1 2.735793 0.10371815\n",
       "Residuals 483.877154 56       NA         NA"
      ]
     },
     "metadata": {},
     "output_type": "display_data"
    }
   ],
   "source": [
    "library(car) # for Anova\n",
    "df$S = factor(df$S)\n",
    "df$X1 = factor(df$X1)\n",
    "df$X2 = factor(df$X2)\n",
    "contrasts(df$X1) <- \"contr.sum\"\n",
    "contrasts(df$X2) <- \"contr.sum\"\n",
    "m = glm(Y ~ X1*X2, data=df, family=gaussian)\n",
    "Anova(m, type=3, test.statistic=\"F\")"
   ]
  },
  {
   "cell_type": "code",
   "execution_count": 3,
   "id": "a5b211d2-4b30-4357-b80c-6c814c9302fa",
   "metadata": {
    "vscode": {
     "languageId": "r"
    }
   },
   "outputs": [
    {
     "data": {
      "image/png": "[encoded data removed]",
      "text/plain": [
       "plot without title"
      ]
     },
     "metadata": {
      "image/png": {
       "height": 420,
       "width": 420
      }
     },
     "output_type": "display_data"
    }
   ],
   "source": [
    "library(ggplot2)\n",
    "library(ggthemes)\n",
    "library(scales)\n",
    "library(plyr)\n",
    "\n",
    "# Interaction plot\n",
    "# http://www.sthda.com/english/wiki/ggplot2-line-plot-quick-start-guide-r-software-and-data-visualization\n",
    "# http://www.sthda.com/english/wiki/ggplot2-error-bars-quick-start-guide-r-software-and-data-visualization\n",
    "# http://www.sthda.com/english/wiki/ggplot2-point-shapes\n",
    "# http://www.sthda.com/english/wiki/ggplot2-line-types-how-to-change-line-types-of-a-graph-in-r-software\n",
    "df2 <- ddply(df, ~ X1*X2, function(d) # make a summary data table\n",
    "  c(NROW(d$Y),\n",
    "    sum(is.na(d$Y)),\n",
    "    sum(!is.na(d$Y)),\n",
    "    mean(d$Y, na.rm=TRUE),\n",
    "    sd(d$Y, na.rm=TRUE),\n",
    "    median(d$Y, na.rm=TRUE),\n",
    "    IQR(d$Y, na.rm=TRUE)))\n",
    "colnames(df2) <- c(\"X1\",\"X2\",\"Rows\",\"NAs\",\"NotNAs\",\"Mean\",\"SD\",\"Median\",\"IQR\")\n",
    "ggplot(data=df2, aes(x=X1, y=Mean, color=X2, group=X2)) + theme_minimal() + \n",
    "  # set the font styles for the plot title and axis titles\n",
    "  theme(plot.title   = element_text(face=\"bold\",  color=\"black\", size=18, hjust=0.5, vjust=0.0, angle=0)) + \n",
    "  theme(axis.title.x = element_text(face=\"bold\",  color=\"black\", size=16, hjust=0.5, vjust=0.0, angle=0)) + \n",
    "  theme(axis.title.y = element_text(face=\"bold\",  color=\"black\", size=16, hjust=0.5, vjust=0.0, angle=90)) + \n",
    "  # set the font styles for the value labels that show on each axis\n",
    "  theme(axis.text.x  = element_text(face=\"plain\", color=\"black\", size=14, hjust=0.5, vjust=0.0, angle=0)) + \n",
    "  theme(axis.text.y  = element_text(face=\"plain\", color=\"black\", size=12, hjust=0.0, vjust=0.5, angle=0)) + \n",
    "  # set the font styles for the legend\n",
    "  theme(legend.title = element_text(face=\"bold\", color=\"black\", size=14, hjust=0.5, vjust=0.0, angle=0)) +\n",
    "  theme(legend.text  = element_text(face=\"plain\", color=\"black\", size=14, hjust=0.5, vjust=0.0, angle=0)) +\n",
    "  # create the plot lines, points, and error bars\n",
    "  geom_line(aes(linetype=X2), position=position_dodge(0.05)) + \n",
    "  geom_point(aes(shape=X2, size=X2), position=position_dodge(0.05)) + \n",
    "  geom_errorbar(aes(ymin=Mean-SD, ymax=Mean+SD), position=position_dodge(0.05), width=0.1) + \n",
    "  # place text labels on each bar\n",
    "  geom_text(aes(label=sprintf(\"%.2f (±%.2f)\", Mean, SD)), position=position_dodge(0.05), hjust=0.0, vjust=-1.0, color=\"black\", size=3.5) +\n",
    "  # set the labels for the title and each axis\n",
    "  labs(title=\"Y by X1, X2\", x=\"X1\", y=\"Y\") + \n",
    "  # set the ranges and value labels for each axis\n",
    "  scale_x_discrete(labels=c(\"a\",\"b\")) + \n",
    "  scale_y_continuous(breaks=seq(0,14,by=2), labels=seq(0,14,by=2), limits=c(0,14), oob=rescale_none) + \n",
    "  # set the name, labels, and colors for the traces\n",
    "  scale_color_manual(name=\"X2\", labels=c(\"a\",\"b\"), values=c(\"red\", \"blue\")) +\n",
    "  # set the size and shape of the points\n",
    "  scale_size_manual(values=c(4,4)) +\n",
    "  scale_shape_manual(values=c(16,10)) +\n",
    "  # set the linetype of the lines\n",
    "  scale_linetype_manual(values=c(\"solid\", \"longdash\"))"
   ]
  },
  {
   "cell_type": "markdown",
   "id": "d84b1373-ff55-4fb7-9396-a2a0cbe42a07",
   "metadata": {},
   "source": [
    "## GLM for Binomial Distribution Data\n",
    "\n",
    "* **Distribution:** Binomial\n",
    "* **Link:** logit\n",
    "* **Typical Uses:** Logistic Regression: dichotomous responses (i.e. nominal responses with two categories)\n",
    "* **Reporting:** \"Figure 13a shows the number of ‘x’ and ‘y’ outcomes for each level of X1 and X2. An analysis of variance based on logistic regression indicated a statistically significant effect on Y of X1 (χ2(1, N=60) = 6.05, p < .05) and of the X1×X2 interaction (χ2(1, N=60) = 8.63, p < .01), but not of X2 (χ2(1, N=60) = 2.27, n.s.)\""
   ]
  },
  {
   "cell_type": "code",
   "execution_count": 4,
   "id": "e82bf306-c599-462c-8f9c-34e7ce353aa5",
   "metadata": {
    "vscode": {
     "languageId": "r"
    }
   },
   "outputs": [
    {
     "data": {
      "text/html": [
       "<table class=\"dataframe\">\n",
       "<caption>A data.frame: 20 × 4</caption>\n",
       "<thead>\n",
       "\t<tr><th></th><th scope=col>S</th><th scope=col>X1</th><th scope=col>X2</th><th scope=col>Y</th></tr>\n",
       "\t<tr><th></th><th scope=col>&lt;int&gt;</th><th scope=col>&lt;chr&gt;</th><th scope=col>&lt;chr&gt;</th><th scope=col>&lt;chr&gt;</th></tr>\n",
       "</thead>\n",
       "<tbody>\n",
       "\t<tr><th scope=row>1</th><td> 1</td><td>a</td><td>a</td><td>x</td></tr>\n",
       "\t<tr><th scope=row>2</th><td> 2</td><td>a</td><td>b</td><td>y</td></tr>\n",
       "\t<tr><th scope=row>3</th><td> 3</td><td>b</td><td>a</td><td>y</td></tr>\n",
       "\t<tr><th scope=row>4</th><td> 4</td><td>b</td><td>b</td><td>y</td></tr>\n",
       "\t<tr><th scope=row>5</th><td> 5</td><td>a</td><td>a</td><td>x</td></tr>\n",
       "\t<tr><th scope=row>6</th><td> 6</td><td>a</td><td>b</td><td>y</td></tr>\n",
       "\t<tr><th scope=row>7</th><td> 7</td><td>b</td><td>a</td><td>y</td></tr>\n",
       "\t<tr><th scope=row>8</th><td> 8</td><td>b</td><td>b</td><td>x</td></tr>\n",
       "\t<tr><th scope=row>9</th><td> 9</td><td>a</td><td>a</td><td>x</td></tr>\n",
       "\t<tr><th scope=row>10</th><td>10</td><td>a</td><td>b</td><td>y</td></tr>\n",
       "\t<tr><th scope=row>11</th><td>11</td><td>b</td><td>a</td><td>x</td></tr>\n",
       "\t<tr><th scope=row>12</th><td>12</td><td>b</td><td>b</td><td>x</td></tr>\n",
       "\t<tr><th scope=row>13</th><td>13</td><td>a</td><td>a</td><td>x</td></tr>\n",
       "\t<tr><th scope=row>14</th><td>14</td><td>a</td><td>b</td><td>x</td></tr>\n",
       "\t<tr><th scope=row>15</th><td>15</td><td>b</td><td>a</td><td>x</td></tr>\n",
       "\t<tr><th scope=row>16</th><td>16</td><td>b</td><td>b</td><td>x</td></tr>\n",
       "\t<tr><th scope=row>17</th><td>17</td><td>a</td><td>a</td><td>y</td></tr>\n",
       "\t<tr><th scope=row>18</th><td>18</td><td>a</td><td>b</td><td>x</td></tr>\n",
       "\t<tr><th scope=row>19</th><td>19</td><td>b</td><td>a</td><td>y</td></tr>\n",
       "\t<tr><th scope=row>20</th><td>20</td><td>b</td><td>b</td><td>x</td></tr>\n",
       "</tbody>\n",
       "</table>\n"
      ],
      "text/latex": [
       "A data.frame: 20 × 4\n",
       "\\begin{tabular}{r|llll}\n",
       "  & S & X1 & X2 & Y\\\\\n",
       "  & <int> & <chr> & <chr> & <chr>\\\\\n",
       "\\hline\n",
       "\t1 &  1 & a & a & x\\\\\n",
       "\t2 &  2 & a & b & y\\\\\n",
       "\t3 &  3 & b & a & y\\\\\n",
       "\t4 &  4 & b & b & y\\\\\n",
       "\t5 &  5 & a & a & x\\\\\n",
       "\t6 &  6 & a & b & y\\\\\n",
       "\t7 &  7 & b & a & y\\\\\n",
       "\t8 &  8 & b & b & x\\\\\n",
       "\t9 &  9 & a & a & x\\\\\n",
       "\t10 & 10 & a & b & y\\\\\n",
       "\t11 & 11 & b & a & x\\\\\n",
       "\t12 & 12 & b & b & x\\\\\n",
       "\t13 & 13 & a & a & x\\\\\n",
       "\t14 & 14 & a & b & x\\\\\n",
       "\t15 & 15 & b & a & x\\\\\n",
       "\t16 & 16 & b & b & x\\\\\n",
       "\t17 & 17 & a & a & y\\\\\n",
       "\t18 & 18 & a & b & x\\\\\n",
       "\t19 & 19 & b & a & y\\\\\n",
       "\t20 & 20 & b & b & x\\\\\n",
       "\\end{tabular}\n"
      ],
      "text/markdown": [
       "\n",
       "A data.frame: 20 × 4\n",
       "\n",
       "| <!--/--> | S &lt;int&gt; | X1 &lt;chr&gt; | X2 &lt;chr&gt; | Y &lt;chr&gt; |\n",
       "|---|---|---|---|---|\n",
       "| 1 |  1 | a | a | x |\n",
       "| 2 |  2 | a | b | y |\n",
       "| 3 |  3 | b | a | y |\n",
       "| 4 |  4 | b | b | y |\n",
       "| 5 |  5 | a | a | x |\n",
       "| 6 |  6 | a | b | y |\n",
       "| 7 |  7 | b | a | y |\n",
       "| 8 |  8 | b | b | x |\n",
       "| 9 |  9 | a | a | x |\n",
       "| 10 | 10 | a | b | y |\n",
       "| 11 | 11 | b | a | x |\n",
       "| 12 | 12 | b | b | x |\n",
       "| 13 | 13 | a | a | x |\n",
       "| 14 | 14 | a | b | x |\n",
       "| 15 | 15 | b | a | x |\n",
       "| 16 | 16 | b | b | x |\n",
       "| 17 | 17 | a | a | y |\n",
       "| 18 | 18 | a | b | x |\n",
       "| 19 | 19 | b | a | y |\n",
       "| 20 | 20 | b | b | x |\n",
       "\n"
      ],
      "text/plain": [
       "   S  X1 X2 Y\n",
       "1   1 a  a  x\n",
       "2   2 a  b  y\n",
       "3   3 b  a  y\n",
       "4   4 b  b  y\n",
       "5   5 a  a  x\n",
       "6   6 a  b  y\n",
       "7   7 b  a  y\n",
       "8   8 b  b  x\n",
       "9   9 a  a  x\n",
       "10 10 a  b  y\n",
       "11 11 b  a  x\n",
       "12 12 b  b  x\n",
       "13 13 a  a  x\n",
       "14 14 a  b  x\n",
       "15 15 b  a  x\n",
       "16 16 b  b  x\n",
       "17 17 a  a  y\n",
       "18 18 a  b  x\n",
       "19 19 b  a  y\n",
       "20 20 b  b  x"
      ]
     },
     "metadata": {},
     "output_type": "display_data"
    }
   ],
   "source": [
    "# Example data\n",
    "# df has subjects (S), two factors (X1,X2) each w/levels (a,b), and dichotomous response (Y)\n",
    "df <- read.csv(\"data/2F2LBs_binomial.csv\")\n",
    "head(df, 20)"
   ]
  },
  {
   "cell_type": "code",
   "execution_count": 5,
   "id": "20cf307a-8418-47c8-9a9e-847609d18bb3",
   "metadata": {
    "tags": [],
    "vscode": {
     "languageId": "r"
    }
   },
   "outputs": [
    {
     "data": {
      "text/html": [
       "<table class=\"dataframe\">\n",
       "<caption>A anova: 3 × 3</caption>\n",
       "<thead>\n",
       "\t<tr><th></th><th scope=col>LR Chisq</th><th scope=col>Df</th><th scope=col>Pr(&gt;Chisq)</th></tr>\n",
       "\t<tr><th></th><th scope=col>&lt;dbl&gt;</th><th scope=col>&lt;dbl&gt;</th><th scope=col>&lt;dbl&gt;</th></tr>\n",
       "</thead>\n",
       "<tbody>\n",
       "\t<tr><th scope=row>X1</th><td>6.045796</td><td>1</td><td>0.013939447</td></tr>\n",
       "\t<tr><th scope=row>X2</th><td>2.268063</td><td>1</td><td>0.132064859</td></tr>\n",
       "\t<tr><th scope=row>X1:X2</th><td>8.631018</td><td>1</td><td>0.003304868</td></tr>\n",
       "</tbody>\n",
       "</table>\n"
      ],
      "text/latex": [
       "A anova: 3 × 3\n",
       "\\begin{tabular}{r|lll}\n",
       "  & LR Chisq & Df & Pr(>Chisq)\\\\\n",
       "  & <dbl> & <dbl> & <dbl>\\\\\n",
       "\\hline\n",
       "\tX1 & 6.045796 & 1 & 0.013939447\\\\\n",
       "\tX2 & 2.268063 & 1 & 0.132064859\\\\\n",
       "\tX1:X2 & 8.631018 & 1 & 0.003304868\\\\\n",
       "\\end{tabular}\n"
      ],
      "text/markdown": [
       "\n",
       "A anova: 3 × 3\n",
       "\n",
       "| <!--/--> | LR Chisq &lt;dbl&gt; | Df &lt;dbl&gt; | Pr(&gt;Chisq) &lt;dbl&gt; |\n",
       "|---|---|---|---|\n",
       "| X1 | 6.045796 | 1 | 0.013939447 |\n",
       "| X2 | 2.268063 | 1 | 0.132064859 |\n",
       "| X1:X2 | 8.631018 | 1 | 0.003304868 |\n",
       "\n"
      ],
      "text/plain": [
       "      LR Chisq Df Pr(>Chisq) \n",
       "X1    6.045796 1  0.013939447\n",
       "X2    2.268063 1  0.132064859\n",
       "X1:X2 8.631018 1  0.003304868"
      ]
     },
     "metadata": {},
     "output_type": "display_data"
    }
   ],
   "source": [
    "library(car) # for Anova\n",
    "df$S = factor(df$S)\n",
    "df$X1 = factor(df$X1)\n",
    "df$X2 = factor(df$X2)\n",
    "df$Y = factor(df$Y) # nominal response\n",
    "contrasts(df$X1) <- \"contr.sum\"\n",
    "contrasts(df$X2) <- \"contr.sum\"\n",
    "m = glm(Y ~ X1*X2, data=df, family=binomial)\n",
    "Anova(m, type=3)"
   ]
  },
  {
   "cell_type": "code",
   "execution_count": 6,
   "id": "0cb032fc-ec12-4dcd-b960-9e8a3dc29f8c",
   "metadata": {
    "vscode": {
     "languageId": "r"
    }
   },
   "outputs": [
    {
     "data": {
      "image/png": "[encoded data removed]",
      "text/plain": [
       "plot without title"
      ]
     },
     "metadata": {
      "image/png": {
       "height": 420,
       "width": 420
      }
     },
     "output_type": "display_data"
    }
   ],
   "source": [
    "library(ggplot2)\n",
    "library(ggthemes)\n",
    "library(scales)\n",
    "library(plyr)\n",
    "\n",
    "# Barplot\n",
    "# http://www.sthda.com/english/wiki/ggplot2-barplots-quick-start-guide-r-software-and-data-visualization\n",
    "# https://stackoverflow.com/questions/51892875/how-to-increase-the-space-between-grouped-bars-in-ggplot2\n",
    "df2 <- as.data.frame(xtabs(~ X1+X2+Y, data=df))\n",
    "df2$X12 = with(df2, interaction(X1, X2))\n",
    "df2$X12 = factor(df2$X12, levels=c(\"a.a\",\"a.b\",\"b.a\",\"b.b\"))\n",
    "df2 <- df2[order(df2$X1, df2$X2),] # sort df2 alphabetically by X1, X2\n",
    "ggplot(data=df2, aes(y=Freq, x=X12, fill=Y)) + theme_minimal() + \n",
    "  # set the font styles for the plot title and axis titles\n",
    "  theme(plot.title   = element_text(face=\"bold\",  color=\"black\", size=18, hjust=0.5, vjust=0.0, angle=0)) + \n",
    "  theme(axis.title.x = element_text(face=\"bold\",  color=\"black\", size=16, hjust=0.5, vjust=0.0, angle=0)) + \n",
    "  theme(axis.title.y = element_text(face=\"bold\",  color=\"black\", size=16, hjust=0.5, vjust=0.0, angle=90)) + \n",
    "  # set the font styles for the value labels that show on each axis\n",
    "  theme(axis.text.x  = element_text(face=\"plain\", color=\"black\", size=14, hjust=0.5, vjust=0.0, angle=0)) + \n",
    "  theme(axis.text.y  = element_text(face=\"plain\", color=\"black\", size=12, hjust=0.0, vjust=0.5, angle=0)) + \n",
    "  # set the font styles for the legend\n",
    "  theme(legend.title = element_text(face=\"bold\", color=\"black\", size=14, hjust=0.5, vjust=0.0, angle=0)) +\n",
    "  theme(legend.text  = element_text(face=\"plain\", color=\"black\", size=14, hjust=0.5, vjust=0.0, angle=0)) +\n",
    "  # create the barplots side-by-side\n",
    "  geom_col(width=0.75, position=position_dodge(width=0.75), alpha=0.60) +\n",
    "  # place text labels on each bar\n",
    "  geom_text(aes(label=Freq), position=position_dodge(width=0.75), vjust=1.2, color=\"black\", size=3.5) +\n",
    "  # set the labels for the title and each axis\n",
    "  labs(title=\"Y by X1, X2\", x=\"X1.X2\", y=\"Count\") + \n",
    "  # change the order of the bars on the x-axis\n",
    "  scale_x_discrete(limits=c(\"a.a\",\"a.b\",\"b.a\",\"b.b\")) + \n",
    "  # set the scale, breaks, and labels on the y-axis\n",
    "  scale_y_continuous(breaks=seq(0,17.5,by=5), labels=seq(0,17.5,by=5), limits=c(0,17.5), oob=rescale_none) + \n",
    "  # set the name, labels, and colors for the boxes\n",
    "  scale_fill_manual(name=\"Y\", labels=c(\"x\",\"y\"), values=c(\"#69b3a2\",\"#404080\"))"
   ]
  },
  {
   "cell_type": "markdown",
   "id": "f880f694-a211-4dc1-9a9f-82c8a152e23d",
   "metadata": {},
   "source": [
    "## GLM for Multinomial Distribution Data\n",
    "\n",
    "* **Distribution:** Multinomial\n",
    "* **Link:** logit\n",
    "* **Typical Uses:** Multinomial Logistic Regression: polytomous responses (i.e. nominal responses with more two categories)\n",
    "* **Reporting:** \"Figure 14a shows the number of ‘x’, ‘y’, and ‘z’ outcomes for each level of X1 and X2. An analysis of variance based on multinomial logistic regression indicated a statistically significant effect on Y of X1 (χ2(2, N=60) = 10.46, p < .01), of X2 (χ2(2, N=60) = 15.21, p < .001), and a marginal X1×X2 interaction (χ2(2, N=60) = 5.09, p = .078).\""
   ]
  },
  {
   "cell_type": "code",
   "execution_count": 7,
   "id": "0e3ca707-f0fc-48ce-b555-1f572f6933dd",
   "metadata": {
    "vscode": {
     "languageId": "r"
    }
   },
   "outputs": [
    {
     "data": {
      "text/html": [
       "<table class=\"dataframe\">\n",
       "<caption>A data.frame: 20 × 4</caption>\n",
       "<thead>\n",
       "\t<tr><th></th><th scope=col>S</th><th scope=col>X1</th><th scope=col>X2</th><th scope=col>Y</th></tr>\n",
       "\t<tr><th></th><th scope=col>&lt;int&gt;</th><th scope=col>&lt;chr&gt;</th><th scope=col>&lt;chr&gt;</th><th scope=col>&lt;chr&gt;</th></tr>\n",
       "</thead>\n",
       "<tbody>\n",
       "\t<tr><th scope=row>1</th><td> 1</td><td>a</td><td>a</td><td>x</td></tr>\n",
       "\t<tr><th scope=row>2</th><td> 2</td><td>a</td><td>b</td><td>z</td></tr>\n",
       "\t<tr><th scope=row>3</th><td> 3</td><td>b</td><td>a</td><td>x</td></tr>\n",
       "\t<tr><th scope=row>4</th><td> 4</td><td>b</td><td>b</td><td>x</td></tr>\n",
       "\t<tr><th scope=row>5</th><td> 5</td><td>a</td><td>a</td><td>x</td></tr>\n",
       "\t<tr><th scope=row>6</th><td> 6</td><td>a</td><td>b</td><td>x</td></tr>\n",
       "\t<tr><th scope=row>7</th><td> 7</td><td>b</td><td>a</td><td>x</td></tr>\n",
       "\t<tr><th scope=row>8</th><td> 8</td><td>b</td><td>b</td><td>x</td></tr>\n",
       "\t<tr><th scope=row>9</th><td> 9</td><td>a</td><td>a</td><td>y</td></tr>\n",
       "\t<tr><th scope=row>10</th><td>10</td><td>a</td><td>b</td><td>x</td></tr>\n",
       "\t<tr><th scope=row>11</th><td>11</td><td>b</td><td>a</td><td>x</td></tr>\n",
       "\t<tr><th scope=row>12</th><td>12</td><td>b</td><td>b</td><td>z</td></tr>\n",
       "\t<tr><th scope=row>13</th><td>13</td><td>a</td><td>a</td><td>x</td></tr>\n",
       "\t<tr><th scope=row>14</th><td>14</td><td>a</td><td>b</td><td>y</td></tr>\n",
       "\t<tr><th scope=row>15</th><td>15</td><td>b</td><td>a</td><td>x</td></tr>\n",
       "\t<tr><th scope=row>16</th><td>16</td><td>b</td><td>b</td><td>x</td></tr>\n",
       "\t<tr><th scope=row>17</th><td>17</td><td>a</td><td>a</td><td>x</td></tr>\n",
       "\t<tr><th scope=row>18</th><td>18</td><td>a</td><td>b</td><td>x</td></tr>\n",
       "\t<tr><th scope=row>19</th><td>19</td><td>b</td><td>a</td><td>x</td></tr>\n",
       "\t<tr><th scope=row>20</th><td>20</td><td>b</td><td>b</td><td>x</td></tr>\n",
       "</tbody>\n",
       "</table>\n"
      ],
      "text/latex": [
       "A data.frame: 20 × 4\n",
       "\\begin{tabular}{r|llll}\n",
       "  & S & X1 & X2 & Y\\\\\n",
       "  & <int> & <chr> & <chr> & <chr>\\\\\n",
       "\\hline\n",
       "\t1 &  1 & a & a & x\\\\\n",
       "\t2 &  2 & a & b & z\\\\\n",
       "\t3 &  3 & b & a & x\\\\\n",
       "\t4 &  4 & b & b & x\\\\\n",
       "\t5 &  5 & a & a & x\\\\\n",
       "\t6 &  6 & a & b & x\\\\\n",
       "\t7 &  7 & b & a & x\\\\\n",
       "\t8 &  8 & b & b & x\\\\\n",
       "\t9 &  9 & a & a & y\\\\\n",
       "\t10 & 10 & a & b & x\\\\\n",
       "\t11 & 11 & b & a & x\\\\\n",
       "\t12 & 12 & b & b & z\\\\\n",
       "\t13 & 13 & a & a & x\\\\\n",
       "\t14 & 14 & a & b & y\\\\\n",
       "\t15 & 15 & b & a & x\\\\\n",
       "\t16 & 16 & b & b & x\\\\\n",
       "\t17 & 17 & a & a & x\\\\\n",
       "\t18 & 18 & a & b & x\\\\\n",
       "\t19 & 19 & b & a & x\\\\\n",
       "\t20 & 20 & b & b & x\\\\\n",
       "\\end{tabular}\n"
      ],
      "text/markdown": [
       "\n",
       "A data.frame: 20 × 4\n",
       "\n",
       "| <!--/--> | S &lt;int&gt; | X1 &lt;chr&gt; | X2 &lt;chr&gt; | Y &lt;chr&gt; |\n",
       "|---|---|---|---|---|\n",
       "| 1 |  1 | a | a | x |\n",
       "| 2 |  2 | a | b | z |\n",
       "| 3 |  3 | b | a | x |\n",
       "| 4 |  4 | b | b | x |\n",
       "| 5 |  5 | a | a | x |\n",
       "| 6 |  6 | a | b | x |\n",
       "| 7 |  7 | b | a | x |\n",
       "| 8 |  8 | b | b | x |\n",
       "| 9 |  9 | a | a | y |\n",
       "| 10 | 10 | a | b | x |\n",
       "| 11 | 11 | b | a | x |\n",
       "| 12 | 12 | b | b | z |\n",
       "| 13 | 13 | a | a | x |\n",
       "| 14 | 14 | a | b | y |\n",
       "| 15 | 15 | b | a | x |\n",
       "| 16 | 16 | b | b | x |\n",
       "| 17 | 17 | a | a | x |\n",
       "| 18 | 18 | a | b | x |\n",
       "| 19 | 19 | b | a | x |\n",
       "| 20 | 20 | b | b | x |\n",
       "\n"
      ],
      "text/plain": [
       "   S  X1 X2 Y\n",
       "1   1 a  a  x\n",
       "2   2 a  b  z\n",
       "3   3 b  a  x\n",
       "4   4 b  b  x\n",
       "5   5 a  a  x\n",
       "6   6 a  b  x\n",
       "7   7 b  a  x\n",
       "8   8 b  b  x\n",
       "9   9 a  a  y\n",
       "10 10 a  b  x\n",
       "11 11 b  a  x\n",
       "12 12 b  b  z\n",
       "13 13 a  a  x\n",
       "14 14 a  b  y\n",
       "15 15 b  a  x\n",
       "16 16 b  b  x\n",
       "17 17 a  a  x\n",
       "18 18 a  b  x\n",
       "19 19 b  a  x\n",
       "20 20 b  b  x"
      ]
     },
     "metadata": {},
     "output_type": "display_data"
    }
   ],
   "source": [
    "# Example data\n",
    "# df has subjects (S), two between-Ss factors (X1,X2) each w/levels (a,b), and polytomous response (Y)\n",
    "df <- read.csv(\"data/2F2LBs_multinomial.csv\")\n",
    "head(df, 20)"
   ]
  },
  {
   "cell_type": "code",
   "execution_count": 8,
   "id": "e9ab602a-4b2d-4c58-994f-4155e81918ae",
   "metadata": {
    "tags": [],
    "vscode": {
     "languageId": "r"
    }
   },
   "outputs": [
    {
     "name": "stdout",
     "output_type": "stream",
     "text": [
      "# weights:  15 (8 variable)\n",
      "initial  value 65.916737 \n",
      "iter  10 value 41.209129\n",
      "iter  20 value 41.110241\n",
      "iter  30 value 41.109293\n",
      "final  value 41.109253 \n",
      "converged\n"
     ]
    },
    {
     "data": {
      "text/html": [
       "<table class=\"dataframe\">\n",
       "<caption>A anova: 3 × 3</caption>\n",
       "<thead>\n",
       "\t<tr><th></th><th scope=col>LR Chisq</th><th scope=col>Df</th><th scope=col>Pr(&gt;Chisq)</th></tr>\n",
       "\t<tr><th></th><th scope=col>&lt;dbl&gt;</th><th scope=col>&lt;dbl&gt;</th><th scope=col>&lt;dbl&gt;</th></tr>\n",
       "</thead>\n",
       "<tbody>\n",
       "\t<tr><th scope=row>X1</th><td>10.456284</td><td>2</td><td>0.0053634826</td></tr>\n",
       "\t<tr><th scope=row>X2</th><td>15.212104</td><td>2</td><td>0.0004974317</td></tr>\n",
       "\t<tr><th scope=row>X1:X2</th><td> 5.092234</td><td>2</td><td>0.0783854422</td></tr>\n",
       "</tbody>\n",
       "</table>\n"
      ],
      "text/latex": [
       "A anova: 3 × 3\n",
       "\\begin{tabular}{r|lll}\n",
       "  & LR Chisq & Df & Pr(>Chisq)\\\\\n",
       "  & <dbl> & <dbl> & <dbl>\\\\\n",
       "\\hline\n",
       "\tX1 & 10.456284 & 2 & 0.0053634826\\\\\n",
       "\tX2 & 15.212104 & 2 & 0.0004974317\\\\\n",
       "\tX1:X2 &  5.092234 & 2 & 0.0783854422\\\\\n",
       "\\end{tabular}\n"
      ],
      "text/markdown": [
       "\n",
       "A anova: 3 × 3\n",
       "\n",
       "| <!--/--> | LR Chisq &lt;dbl&gt; | Df &lt;dbl&gt; | Pr(&gt;Chisq) &lt;dbl&gt; |\n",
       "|---|---|---|---|\n",
       "| X1 | 10.456284 | 2 | 0.0053634826 |\n",
       "| X2 | 15.212104 | 2 | 0.0004974317 |\n",
       "| X1:X2 |  5.092234 | 2 | 0.0783854422 |\n",
       "\n"
      ],
      "text/plain": [
       "      LR Chisq  Df Pr(>Chisq)  \n",
       "X1    10.456284 2  0.0053634826\n",
       "X2    15.212104 2  0.0004974317\n",
       "X1:X2  5.092234 2  0.0783854422"
      ]
     },
     "metadata": {},
     "output_type": "display_data"
    }
   ],
   "source": [
    "library(nnet) # for multinom\n",
    "library(car) # for Anova\n",
    "df$S = factor(df$S)\n",
    "df$X1 = factor(df$X1)\n",
    "df$X2 = factor(df$X2)\n",
    "df$Y = factor(df$Y) # nominal response\n",
    "contrasts(df$X1) <- \"contr.sum\"\n",
    "contrasts(df$X2) <- \"contr.sum\"\n",
    "m = multinom(Y ~ X1*X2, data=df)\n",
    "Anova(m, type=3)"
   ]
  },
  {
   "cell_type": "code",
   "execution_count": 9,
   "id": "6cfcfb5c-3acd-4290-ac3d-1a043d2d63f0",
   "metadata": {
    "vscode": {
     "languageId": "r"
    }
   },
   "outputs": [
    {
     "data": {
      "image/png": "[encoded data removed]",
      "text/plain": [
       "plot without title"
      ]
     },
     "metadata": {
      "image/png": {
       "height": 420,
       "width": 420
      }
     },
     "output_type": "display_data"
    }
   ],
   "source": [
    "library(ggplot2)\n",
    "library(ggthemes)\n",
    "library(scales)\n",
    "library(plyr)\n",
    "\n",
    "# Barplot\n",
    "# http://www.sthda.com/english/wiki/ggplot2-barplots-quick-start-guide-r-software-and-data-visualization\n",
    "# https://stackoverflow.com/questions/51892875/how-to-increase-the-space-between-grouped-bars-in-ggplot2\n",
    "df2 <- as.data.frame(xtabs(~ X1+X2+Y, data=df)) # build a freq table\n",
    "df2$X12 = with(df2, interaction(X1, X2))\n",
    "df2$X12 = factor(df2$X12, levels=c(\"a.a\",\"a.b\",\"b.a\",\"b.b\"))\n",
    "df2 <- df2[order(df2$X1, df2$X2),] # sort df2 alphabetically by X1, X2\n",
    "ggplot(data=df2, aes(x=X12, y=Freq, fill=Y)) + theme_minimal() + \n",
    "  # set the font styles for the plot title and axis titles\n",
    "  theme(plot.title   = element_text(face=\"bold\",  color=\"black\", size=18, hjust=0.5, vjust=0.0, angle=0)) + \n",
    "  theme(axis.title.x = element_text(face=\"bold\",  color=\"black\", size=16, hjust=0.5, vjust=0.0, angle=0)) + \n",
    "  theme(axis.title.y = element_text(face=\"bold\",  color=\"black\", size=16, hjust=0.5, vjust=0.0, angle=90)) + \n",
    "  # set the font styles for the value labels that show on each axis\n",
    "  theme(axis.text.x  = element_text(face=\"plain\", color=\"black\", size=14, hjust=0.5, vjust=0.0, angle=0)) + \n",
    "  theme(axis.text.y  = element_text(face=\"plain\", color=\"black\", size=12, hjust=0.0, vjust=0.5, angle=0)) + \n",
    "  # set the font styles for the legend\n",
    "  theme(legend.title = element_text(face=\"bold\", color=\"black\", size=14, hjust=0.5, vjust=0.0, angle=0)) +\n",
    "  theme(legend.text  = element_text(face=\"plain\", color=\"black\", size=14, hjust=0.5, vjust=0.0, angle=0)) +\n",
    "  # create the barplots side-by-side\n",
    "  geom_col(width=0.75, position=position_dodge(width=0.75), alpha=0.60) +\n",
    "  # place text labels on each bar\n",
    "  geom_text(aes(label=Freq), position=position_dodge(width=0.75), vjust=1.2, color=\"black\", size=3.5) +\n",
    "  # set the labels for the title and each axis\n",
    "  labs(title=\"Y by X1, X2\", x=\"X1.X2\", y=\"Count\") + \n",
    "  # change the order of the bars on the x-axis\n",
    "  scale_x_discrete(limits=c(\"a.a\",\"a.b\",\"b.a\",\"b.b\")) + \n",
    "  # set the scale, breaks, and labels on the y-axis\n",
    "  scale_y_continuous(breaks=seq(0,15,by=5), labels=seq(0,15,by=5), limits=c(0,15), oob=rescale_none) + \n",
    "  # set the name, labels, and colors for the boxes\n",
    "  scale_fill_manual(name=\"Y\", labels=c(\"x\",\"y\",\"z\"), values=c(\"#69b3a2\",\"#404080\",\"#e69f00\"))"
   ]
  },
  {
   "cell_type": "markdown",
   "id": "3fdd1bc5-156e-4010-b571-afed6bfac534",
   "metadata": {},
   "source": [
    "## GLM for Ordinal Distribution Data\n",
    "\n",
    "* **Distribution:** Ordinal\n",
    "* **Link:** cumulative logit\n",
    "* **Typical Uses:** Ordinal Logistic Regression: ordinal responses (i.e. Likert scales)\n",
    "* **Reporting:** \"Figure 15a shows the distribution of Likert responses (1-7) for each combination of X1 and X2. An analysis of variance based on ordinal logistic regression indicated a statistically significant effect on Y of X2 (χ2(1, N=60) = 6.14, p < .05), but not of X1 (χ2(1, N=60) = 1.65, n.s.) or of the X1×X2 interaction (χ2(1, N=60) = 0.05, n.s.).\""
   ]
  },
  {
   "cell_type": "code",
   "execution_count": 10,
   "id": "81f11bed-6672-4720-8340-5d32c9068d84",
   "metadata": {
    "vscode": {
     "languageId": "r"
    }
   },
   "outputs": [
    {
     "data": {
      "text/html": [
       "<table class=\"dataframe\">\n",
       "<caption>A data.frame: 20 × 4</caption>\n",
       "<thead>\n",
       "\t<tr><th></th><th scope=col>S</th><th scope=col>X1</th><th scope=col>X2</th><th scope=col>Y</th></tr>\n",
       "\t<tr><th></th><th scope=col>&lt;int&gt;</th><th scope=col>&lt;chr&gt;</th><th scope=col>&lt;chr&gt;</th><th scope=col>&lt;int&gt;</th></tr>\n",
       "</thead>\n",
       "<tbody>\n",
       "\t<tr><th scope=row>1</th><td> 1</td><td>a</td><td>a</td><td>7</td></tr>\n",
       "\t<tr><th scope=row>2</th><td> 2</td><td>a</td><td>b</td><td>3</td></tr>\n",
       "\t<tr><th scope=row>3</th><td> 3</td><td>b</td><td>a</td><td>3</td></tr>\n",
       "\t<tr><th scope=row>4</th><td> 4</td><td>b</td><td>b</td><td>2</td></tr>\n",
       "\t<tr><th scope=row>5</th><td> 5</td><td>a</td><td>a</td><td>5</td></tr>\n",
       "\t<tr><th scope=row>6</th><td> 6</td><td>a</td><td>b</td><td>4</td></tr>\n",
       "\t<tr><th scope=row>7</th><td> 7</td><td>b</td><td>a</td><td>3</td></tr>\n",
       "\t<tr><th scope=row>8</th><td> 8</td><td>b</td><td>b</td><td>6</td></tr>\n",
       "\t<tr><th scope=row>9</th><td> 9</td><td>a</td><td>a</td><td>4</td></tr>\n",
       "\t<tr><th scope=row>10</th><td>10</td><td>a</td><td>b</td><td>2</td></tr>\n",
       "\t<tr><th scope=row>11</th><td>11</td><td>b</td><td>a</td><td>6</td></tr>\n",
       "\t<tr><th scope=row>12</th><td>12</td><td>b</td><td>b</td><td>3</td></tr>\n",
       "\t<tr><th scope=row>13</th><td>13</td><td>a</td><td>a</td><td>2</td></tr>\n",
       "\t<tr><th scope=row>14</th><td>14</td><td>a</td><td>b</td><td>5</td></tr>\n",
       "\t<tr><th scope=row>15</th><td>15</td><td>b</td><td>a</td><td>5</td></tr>\n",
       "\t<tr><th scope=row>16</th><td>16</td><td>b</td><td>b</td><td>1</td></tr>\n",
       "\t<tr><th scope=row>17</th><td>17</td><td>a</td><td>a</td><td>7</td></tr>\n",
       "\t<tr><th scope=row>18</th><td>18</td><td>a</td><td>b</td><td>5</td></tr>\n",
       "\t<tr><th scope=row>19</th><td>19</td><td>b</td><td>a</td><td>2</td></tr>\n",
       "\t<tr><th scope=row>20</th><td>20</td><td>b</td><td>b</td><td>4</td></tr>\n",
       "</tbody>\n",
       "</table>\n"
      ],
      "text/latex": [
       "A data.frame: 20 × 4\n",
       "\\begin{tabular}{r|llll}\n",
       "  & S & X1 & X2 & Y\\\\\n",
       "  & <int> & <chr> & <chr> & <int>\\\\\n",
       "\\hline\n",
       "\t1 &  1 & a & a & 7\\\\\n",
       "\t2 &  2 & a & b & 3\\\\\n",
       "\t3 &  3 & b & a & 3\\\\\n",
       "\t4 &  4 & b & b & 2\\\\\n",
       "\t5 &  5 & a & a & 5\\\\\n",
       "\t6 &  6 & a & b & 4\\\\\n",
       "\t7 &  7 & b & a & 3\\\\\n",
       "\t8 &  8 & b & b & 6\\\\\n",
       "\t9 &  9 & a & a & 4\\\\\n",
       "\t10 & 10 & a & b & 2\\\\\n",
       "\t11 & 11 & b & a & 6\\\\\n",
       "\t12 & 12 & b & b & 3\\\\\n",
       "\t13 & 13 & a & a & 2\\\\\n",
       "\t14 & 14 & a & b & 5\\\\\n",
       "\t15 & 15 & b & a & 5\\\\\n",
       "\t16 & 16 & b & b & 1\\\\\n",
       "\t17 & 17 & a & a & 7\\\\\n",
       "\t18 & 18 & a & b & 5\\\\\n",
       "\t19 & 19 & b & a & 2\\\\\n",
       "\t20 & 20 & b & b & 4\\\\\n",
       "\\end{tabular}\n"
      ],
      "text/markdown": [
       "\n",
       "A data.frame: 20 × 4\n",
       "\n",
       "| <!--/--> | S &lt;int&gt; | X1 &lt;chr&gt; | X2 &lt;chr&gt; | Y &lt;int&gt; |\n",
       "|---|---|---|---|---|\n",
       "| 1 |  1 | a | a | 7 |\n",
       "| 2 |  2 | a | b | 3 |\n",
       "| 3 |  3 | b | a | 3 |\n",
       "| 4 |  4 | b | b | 2 |\n",
       "| 5 |  5 | a | a | 5 |\n",
       "| 6 |  6 | a | b | 4 |\n",
       "| 7 |  7 | b | a | 3 |\n",
       "| 8 |  8 | b | b | 6 |\n",
       "| 9 |  9 | a | a | 4 |\n",
       "| 10 | 10 | a | b | 2 |\n",
       "| 11 | 11 | b | a | 6 |\n",
       "| 12 | 12 | b | b | 3 |\n",
       "| 13 | 13 | a | a | 2 |\n",
       "| 14 | 14 | a | b | 5 |\n",
       "| 15 | 15 | b | a | 5 |\n",
       "| 16 | 16 | b | b | 1 |\n",
       "| 17 | 17 | a | a | 7 |\n",
       "| 18 | 18 | a | b | 5 |\n",
       "| 19 | 19 | b | a | 2 |\n",
       "| 20 | 20 | b | b | 4 |\n",
       "\n"
      ],
      "text/plain": [
       "   S  X1 X2 Y\n",
       "1   1 a  a  7\n",
       "2   2 a  b  3\n",
       "3   3 b  a  3\n",
       "4   4 b  b  2\n",
       "5   5 a  a  5\n",
       "6   6 a  b  4\n",
       "7   7 b  a  3\n",
       "8   8 b  b  6\n",
       "9   9 a  a  4\n",
       "10 10 a  b  2\n",
       "11 11 b  a  6\n",
       "12 12 b  b  3\n",
       "13 13 a  a  2\n",
       "14 14 a  b  5\n",
       "15 15 b  a  5\n",
       "16 16 b  b  1\n",
       "17 17 a  a  7\n",
       "18 18 a  b  5\n",
       "19 19 b  a  2\n",
       "20 20 b  b  4"
      ]
     },
     "metadata": {},
     "output_type": "display_data"
    }
   ],
   "source": [
    "# Example data\n",
    "# df has subjects (S), two between-Ss factors (X1,X2) each w/levels (a,b), and polytomous response (Y)\n",
    "df <- read.csv(\"data/2F2LBs_ordinal.csv\")\n",
    "head(df, 20)"
   ]
  },
  {
   "cell_type": "code",
   "execution_count": 11,
   "id": "5da0fa45-2cf7-464a-b9a1-50b64989caaf",
   "metadata": {
    "tags": [],
    "vscode": {
     "languageId": "r"
    }
   },
   "outputs": [
    {
     "data": {
      "text/html": [
       "<table class=\"dataframe\">\n",
       "<caption>A anova: 3 × 3</caption>\n",
       "<thead>\n",
       "\t<tr><th></th><th scope=col>LR Chisq</th><th scope=col>Df</th><th scope=col>Pr(&gt;Chisq)</th></tr>\n",
       "\t<tr><th></th><th scope=col>&lt;dbl&gt;</th><th scope=col>&lt;dbl&gt;</th><th scope=col>&lt;dbl&gt;</th></tr>\n",
       "</thead>\n",
       "<tbody>\n",
       "\t<tr><th scope=row>X1</th><td>1.65109008</td><td>1</td><td>0.19881063</td></tr>\n",
       "\t<tr><th scope=row>X2</th><td>6.14122538</td><td>1</td><td>0.01320658</td></tr>\n",
       "\t<tr><th scope=row>X1:X2</th><td>0.04980176</td><td>1</td><td>0.82340859</td></tr>\n",
       "</tbody>\n",
       "</table>\n"
      ],
      "text/latex": [
       "A anova: 3 × 3\n",
       "\\begin{tabular}{r|lll}\n",
       "  & LR Chisq & Df & Pr(>Chisq)\\\\\n",
       "  & <dbl> & <dbl> & <dbl>\\\\\n",
       "\\hline\n",
       "\tX1 & 1.65109008 & 1 & 0.19881063\\\\\n",
       "\tX2 & 6.14122538 & 1 & 0.01320658\\\\\n",
       "\tX1:X2 & 0.04980176 & 1 & 0.82340859\\\\\n",
       "\\end{tabular}\n"
      ],
      "text/markdown": [
       "\n",
       "A anova: 3 × 3\n",
       "\n",
       "| <!--/--> | LR Chisq &lt;dbl&gt; | Df &lt;dbl&gt; | Pr(&gt;Chisq) &lt;dbl&gt; |\n",
       "|---|---|---|---|\n",
       "| X1 | 1.65109008 | 1 | 0.19881063 |\n",
       "| X2 | 6.14122538 | 1 | 0.01320658 |\n",
       "| X1:X2 | 0.04980176 | 1 | 0.82340859 |\n",
       "\n"
      ],
      "text/plain": [
       "      LR Chisq   Df Pr(>Chisq)\n",
       "X1    1.65109008 1  0.19881063\n",
       "X2    6.14122538 1  0.01320658\n",
       "X1:X2 0.04980176 1  0.82340859"
      ]
     },
     "metadata": {},
     "output_type": "display_data"
    }
   ],
   "source": [
    "library(MASS) # for polr\n",
    "library(car) # for Anova\n",
    "df$S = factor(df$S)\n",
    "df$X1 = factor(df$X1)\n",
    "df$X2 = factor(df$X2)\n",
    "df$Y = ordered(df$Y) # ordinal response\n",
    "contrasts(df$X1) <- \"contr.sum\"\n",
    "contrasts(df$X2) <- \"contr.sum\"\n",
    "m = polr(Y ~ X1*X2, data=df, Hess=TRUE)\n",
    "Anova(m, type=3)"
   ]
  },
  {
   "cell_type": "code",
   "execution_count": 12,
   "id": "70042d7d-1dc8-4225-81c0-01dfa345bf1d",
   "metadata": {
    "vscode": {
     "languageId": "r"
    }
   },
   "outputs": [
    {
     "data": {
      "image/png": "[encoded data removed]",
      "text/plain": [
       "plot without title"
      ]
     },
     "metadata": {
      "image/png": {
       "height": 420,
       "width": 420
      }
     },
     "output_type": "display_data"
    }
   ],
   "source": [
    "library(ggplot2)\n",
    "library(ggthemes)\n",
    "library(scales)\n",
    "library(plyr)\n",
    "\n",
    "# Ordinal histograms-as-barplots\n",
    "# http://www.sthda.com/english/wiki/ggplot2-barplots-quick-start-guide-r-software-and-data-visualization\n",
    "# https://stackoverflow.com/questions/51892875/how-to-increase-the-space-between-grouped-bars-in-ggplot2\n",
    "df2 <- as.data.frame(xtabs(~ X1+X2+Y, data=df)) # build a freq table\n",
    "df2$X12 = with(df2, interaction(X1, X2))\n",
    "df2$X12 = factor(df2$X12, levels=c(\"a.a\",\"a.b\",\"b.a\",\"b.b\"))\n",
    "df2 <- df2[order(df2$X1, df2$X2),] # sort df2 alphabetically by X1, X2\n",
    "ggplot(data=df2, aes(x=Y, y=Freq, fill=X12)) + theme_minimal() + \n",
    "  # set the font styles for the plot title and axis titles\n",
    "  theme(plot.title   = element_text(face=\"bold\",  color=\"black\", size=18, hjust=0.5, vjust=0.0, angle=0)) + \n",
    "  theme(axis.title.x = element_text(face=\"bold\",  color=\"black\", size=16, hjust=0.5, vjust=0.0, angle=0)) + \n",
    "  theme(axis.title.y = element_text(face=\"bold\",  color=\"black\", size=14, hjust=0.5, vjust=0.0, angle=90)) + \n",
    "  # set the font styles for the value labels that show on each axis\n",
    "  theme(axis.text.x  = element_text(face=\"plain\", color=\"black\", size=12, hjust=0.5, vjust=0.0, angle=0)) + \n",
    "  theme(axis.text.y  = element_text(face=\"plain\", color=\"black\", size=12, hjust=0.0, vjust=0.5, angle=0)) + \n",
    "  # set the font styles for the legend\n",
    "  theme(legend.title = element_text(face=\"bold\", color=\"black\", size=14, hjust=0.5, vjust=0.0, angle=0)) +\n",
    "  theme(legend.text  = element_text(face=\"plain\", color=\"black\", size=14, hjust=0.5, vjust=0.0, angle=0)) +\n",
    "  # set the font style for the facet labels\n",
    "  theme(strip.text = element_text(face=\"bold\", color=\"black\", size=14, hjust=0.5)) + \n",
    "  # use a bar plot to just plot the value for each 1-7 in (X1,X2)\n",
    "  geom_col(width=0.95, alpha=0.60) + \n",
    "  #geom_bar(stat=\"identity\", width=0.95, alpha=0.60) + # equivalent\n",
    "  # place text labels on each bar\n",
    "  geom_text(aes(label=Freq), vjust=1.2, color=\"black\", size=3.5) +\n",
    "  # create a grid of plots by (X1,X2), one for each histogram\n",
    "  #facet_grid(X12 ~ .) +  # 4x1 stack\n",
    "  #facet_grid(. ~ X12) +  # 1x4 row\n",
    "  facet_grid(X2 ~ X1) +   # 2x2 grid\n",
    "  # determine the fill color values of each histogram\n",
    "  scale_fill_manual(values=c(\"#69b3a2\",\"#404080\", \"#e69f00\", \"darkred\")) + \n",
    "  # set the labels for the title, each axis, and the legend\n",
    "  labs(title=\"Responses by X1, X2\", x=\"Likert (1-7)\", y=\"Count\") + \n",
    "  guides(fill=guide_legend(title=\"X1.X2\")) + \n",
    "  # set the ranges and value labels for each axis\n",
    "  scale_x_discrete(labels=seq(1,7,by=1)) +\n",
    "  scale_y_continuous(breaks=seq(0,6,by=1), minor_breaks=seq(0,6,by=1), labels=seq(0,6,by=1), limits=c(0,6))"
   ]
  },
  {
   "cell_type": "markdown",
   "id": "0dd10056-1b98-483d-8873-d967f3d963a9",
   "metadata": {},
   "source": [
    "## GLM for Poisson Distribution Data\n",
    "\n",
    "* **Distribution:** Poisson\n",
    "* **Link:** log\n",
    "* **Typical Uses:** Poisson Regression: counts, rare events (e.g. gesture recognition errors, 3-pointers per quarter, number of \"F\" grades)\n",
    "* **Reporting:** \"Figure 16a shows an interaction plot with ±1 standard deviation error bars for X1 and X2. An analysis of variance based on Poisson regression indicated a statistically significant effect on Y of the X1×X2 interaction (χ2(1, N=60) = 3.84, p < .05), but not of either X1 (χ2(1, N=60) = 0.17, n.s.) or X2 (χ2(1, N=60) = 1.19, n.s.).\""
   ]
  },
  {
   "cell_type": "code",
   "execution_count": 13,
   "id": "0fcf23e4-64fc-4f7c-bd87-962604ef1d06",
   "metadata": {
    "vscode": {
     "languageId": "r"
    }
   },
   "outputs": [
    {
     "data": {
      "text/html": [
       "<table class=\"dataframe\">\n",
       "<caption>A data.frame: 20 × 4</caption>\n",
       "<thead>\n",
       "\t<tr><th></th><th scope=col>S</th><th scope=col>X1</th><th scope=col>X2</th><th scope=col>Y</th></tr>\n",
       "\t<tr><th></th><th scope=col>&lt;int&gt;</th><th scope=col>&lt;chr&gt;</th><th scope=col>&lt;chr&gt;</th><th scope=col>&lt;int&gt;</th></tr>\n",
       "</thead>\n",
       "<tbody>\n",
       "\t<tr><th scope=row>1</th><td> 1</td><td>a</td><td>a</td><td>5</td></tr>\n",
       "\t<tr><th scope=row>2</th><td> 2</td><td>a</td><td>b</td><td>6</td></tr>\n",
       "\t<tr><th scope=row>3</th><td> 3</td><td>b</td><td>a</td><td>7</td></tr>\n",
       "\t<tr><th scope=row>4</th><td> 4</td><td>b</td><td>b</td><td>4</td></tr>\n",
       "\t<tr><th scope=row>5</th><td> 5</td><td>a</td><td>a</td><td>4</td></tr>\n",
       "\t<tr><th scope=row>6</th><td> 6</td><td>a</td><td>b</td><td>6</td></tr>\n",
       "\t<tr><th scope=row>7</th><td> 7</td><td>b</td><td>a</td><td>6</td></tr>\n",
       "\t<tr><th scope=row>8</th><td> 8</td><td>b</td><td>b</td><td>4</td></tr>\n",
       "\t<tr><th scope=row>9</th><td> 9</td><td>a</td><td>a</td><td>4</td></tr>\n",
       "\t<tr><th scope=row>10</th><td>10</td><td>a</td><td>b</td><td>9</td></tr>\n",
       "\t<tr><th scope=row>11</th><td>11</td><td>b</td><td>a</td><td>7</td></tr>\n",
       "\t<tr><th scope=row>12</th><td>12</td><td>b</td><td>b</td><td>2</td></tr>\n",
       "\t<tr><th scope=row>13</th><td>13</td><td>a</td><td>a</td><td>3</td></tr>\n",
       "\t<tr><th scope=row>14</th><td>14</td><td>a</td><td>b</td><td>3</td></tr>\n",
       "\t<tr><th scope=row>15</th><td>15</td><td>b</td><td>a</td><td>3</td></tr>\n",
       "\t<tr><th scope=row>16</th><td>16</td><td>b</td><td>b</td><td>7</td></tr>\n",
       "\t<tr><th scope=row>17</th><td>17</td><td>a</td><td>a</td><td>5</td></tr>\n",
       "\t<tr><th scope=row>18</th><td>18</td><td>a</td><td>b</td><td>4</td></tr>\n",
       "\t<tr><th scope=row>19</th><td>19</td><td>b</td><td>a</td><td>8</td></tr>\n",
       "\t<tr><th scope=row>20</th><td>20</td><td>b</td><td>b</td><td>3</td></tr>\n",
       "</tbody>\n",
       "</table>\n"
      ],
      "text/latex": [
       "A data.frame: 20 × 4\n",
       "\\begin{tabular}{r|llll}\n",
       "  & S & X1 & X2 & Y\\\\\n",
       "  & <int> & <chr> & <chr> & <int>\\\\\n",
       "\\hline\n",
       "\t1 &  1 & a & a & 5\\\\\n",
       "\t2 &  2 & a & b & 6\\\\\n",
       "\t3 &  3 & b & a & 7\\\\\n",
       "\t4 &  4 & b & b & 4\\\\\n",
       "\t5 &  5 & a & a & 4\\\\\n",
       "\t6 &  6 & a & b & 6\\\\\n",
       "\t7 &  7 & b & a & 6\\\\\n",
       "\t8 &  8 & b & b & 4\\\\\n",
       "\t9 &  9 & a & a & 4\\\\\n",
       "\t10 & 10 & a & b & 9\\\\\n",
       "\t11 & 11 & b & a & 7\\\\\n",
       "\t12 & 12 & b & b & 2\\\\\n",
       "\t13 & 13 & a & a & 3\\\\\n",
       "\t14 & 14 & a & b & 3\\\\\n",
       "\t15 & 15 & b & a & 3\\\\\n",
       "\t16 & 16 & b & b & 7\\\\\n",
       "\t17 & 17 & a & a & 5\\\\\n",
       "\t18 & 18 & a & b & 4\\\\\n",
       "\t19 & 19 & b & a & 8\\\\\n",
       "\t20 & 20 & b & b & 3\\\\\n",
       "\\end{tabular}\n"
      ],
      "text/markdown": [
       "\n",
       "A data.frame: 20 × 4\n",
       "\n",
       "| <!--/--> | S &lt;int&gt; | X1 &lt;chr&gt; | X2 &lt;chr&gt; | Y &lt;int&gt; |\n",
       "|---|---|---|---|---|\n",
       "| 1 |  1 | a | a | 5 |\n",
       "| 2 |  2 | a | b | 6 |\n",
       "| 3 |  3 | b | a | 7 |\n",
       "| 4 |  4 | b | b | 4 |\n",
       "| 5 |  5 | a | a | 4 |\n",
       "| 6 |  6 | a | b | 6 |\n",
       "| 7 |  7 | b | a | 6 |\n",
       "| 8 |  8 | b | b | 4 |\n",
       "| 9 |  9 | a | a | 4 |\n",
       "| 10 | 10 | a | b | 9 |\n",
       "| 11 | 11 | b | a | 7 |\n",
       "| 12 | 12 | b | b | 2 |\n",
       "| 13 | 13 | a | a | 3 |\n",
       "| 14 | 14 | a | b | 3 |\n",
       "| 15 | 15 | b | a | 3 |\n",
       "| 16 | 16 | b | b | 7 |\n",
       "| 17 | 17 | a | a | 5 |\n",
       "| 18 | 18 | a | b | 4 |\n",
       "| 19 | 19 | b | a | 8 |\n",
       "| 20 | 20 | b | b | 3 |\n",
       "\n"
      ],
      "text/plain": [
       "   S  X1 X2 Y\n",
       "1   1 a  a  5\n",
       "2   2 a  b  6\n",
       "3   3 b  a  7\n",
       "4   4 b  b  4\n",
       "5   5 a  a  4\n",
       "6   6 a  b  6\n",
       "7   7 b  a  6\n",
       "8   8 b  b  4\n",
       "9   9 a  a  4\n",
       "10 10 a  b  9\n",
       "11 11 b  a  7\n",
       "12 12 b  b  2\n",
       "13 13 a  a  3\n",
       "14 14 a  b  3\n",
       "15 15 b  a  3\n",
       "16 16 b  b  7\n",
       "17 17 a  a  5\n",
       "18 18 a  b  4\n",
       "19 19 b  a  8\n",
       "20 20 b  b  3"
      ]
     },
     "metadata": {},
     "output_type": "display_data"
    }
   ],
   "source": [
    "# Example data\n",
    "# df has subjects (S), two factors (X1,X2) each w/levels (a,b), and count response (Y)\n",
    "df <- read.csv(\"data/2F2LBs_poisson.csv\")\n",
    "head(df, 20)"
   ]
  },
  {
   "cell_type": "code",
   "execution_count": 14,
   "id": "c1994c65-ad46-4def-9789-1f4fadd2fe24",
   "metadata": {
    "tags": [],
    "vscode": {
     "languageId": "r"
    }
   },
   "outputs": [
    {
     "data": {
      "text/html": [
       "<table class=\"dataframe\">\n",
       "<caption>A anova: 3 × 3</caption>\n",
       "<thead>\n",
       "\t<tr><th></th><th scope=col>LR Chisq</th><th scope=col>Df</th><th scope=col>Pr(&gt;Chisq)</th></tr>\n",
       "\t<tr><th></th><th scope=col>&lt;dbl&gt;</th><th scope=col>&lt;dbl&gt;</th><th scope=col>&lt;dbl&gt;</th></tr>\n",
       "</thead>\n",
       "<tbody>\n",
       "\t<tr><th scope=row>X1</th><td>0.1673829</td><td>1</td><td>0.68244826</td></tr>\n",
       "\t<tr><th scope=row>X2</th><td>1.1865585</td><td>1</td><td>0.27602485</td></tr>\n",
       "\t<tr><th scope=row>X1:X2</th><td>3.8423440</td><td>1</td><td>0.04997361</td></tr>\n",
       "</tbody>\n",
       "</table>\n"
      ],
      "text/latex": [
       "A anova: 3 × 3\n",
       "\\begin{tabular}{r|lll}\n",
       "  & LR Chisq & Df & Pr(>Chisq)\\\\\n",
       "  & <dbl> & <dbl> & <dbl>\\\\\n",
       "\\hline\n",
       "\tX1 & 0.1673829 & 1 & 0.68244826\\\\\n",
       "\tX2 & 1.1865585 & 1 & 0.27602485\\\\\n",
       "\tX1:X2 & 3.8423440 & 1 & 0.04997361\\\\\n",
       "\\end{tabular}\n"
      ],
      "text/markdown": [
       "\n",
       "A anova: 3 × 3\n",
       "\n",
       "| <!--/--> | LR Chisq &lt;dbl&gt; | Df &lt;dbl&gt; | Pr(&gt;Chisq) &lt;dbl&gt; |\n",
       "|---|---|---|---|\n",
       "| X1 | 0.1673829 | 1 | 0.68244826 |\n",
       "| X2 | 1.1865585 | 1 | 0.27602485 |\n",
       "| X1:X2 | 3.8423440 | 1 | 0.04997361 |\n",
       "\n"
      ],
      "text/plain": [
       "      LR Chisq  Df Pr(>Chisq)\n",
       "X1    0.1673829 1  0.68244826\n",
       "X2    1.1865585 1  0.27602485\n",
       "X1:X2 3.8423440 1  0.04997361"
      ]
     },
     "metadata": {},
     "output_type": "display_data"
    }
   ],
   "source": [
    "library(car) # for Anova\n",
    "df$S = factor(df$S)\n",
    "df$X1 = factor(df$X1)\n",
    "df$X2 = factor(df$X2)\n",
    "contrasts(df$X1) <- \"contr.sum\"\n",
    "contrasts(df$X2) <- \"contr.sum\"\n",
    "m = glm(Y ~ X1*X2, data=df, family=poisson)\n",
    "Anova(m, type=3)"
   ]
  },
  {
   "cell_type": "code",
   "execution_count": 15,
   "id": "c961d993-41a4-4146-84fa-3bc0a2aded8b",
   "metadata": {
    "vscode": {
     "languageId": "r"
    }
   },
   "outputs": [
    {
     "data": {
      "image/png": "[encoded data removed]",
      "text/plain": [
       "plot without title"
      ]
     },
     "metadata": {
      "image/png": {
       "height": 420,
       "width": 420
      }
     },
     "output_type": "display_data"
    }
   ],
   "source": [
    "library(ggplot2)\n",
    "library(ggthemes)\n",
    "library(scales)\n",
    "library(plyr)\n",
    "\n",
    "# Interaction plot\n",
    "# http://www.sthda.com/english/wiki/ggplot2-line-plot-quick-start-guide-r-software-and-data-visualization\n",
    "# http://www.sthda.com/english/wiki/ggplot2-error-bars-quick-start-guide-r-software-and-data-visualization\n",
    "# http://www.sthda.com/english/wiki/ggplot2-point-shapes\n",
    "# http://www.sthda.com/english/wiki/ggplot2-line-types-how-to-change-line-types-of-a-graph-in-r-software\n",
    "df2 <- ddply(df, ~ X1*X2, function(d) # make a summary data table\n",
    "  c(NROW(d$Y),\n",
    "    sum(is.na(d$Y)),\n",
    "    sum(!is.na(d$Y)),\n",
    "    mean(d$Y, na.rm=TRUE),\n",
    "    sd(d$Y, na.rm=TRUE),\n",
    "    median(d$Y, na.rm=TRUE),\n",
    "    IQR(d$Y, na.rm=TRUE)))\n",
    "colnames(df2) <- c(\"X1\",\"X2\",\"Rows\",\"NAs\",\"NotNAs\",\"Mean\",\"SD\",\"Median\",\"IQR\")\n",
    "ggplot(data=df2, aes(x=X1, y=Mean, color=X2, group=X2)) + theme_minimal() + \n",
    "  # set the font styles for the plot title and axis titles\n",
    "  theme(plot.title   = element_text(face=\"bold\",  color=\"black\", size=18, hjust=0.5, vjust=0.0, angle=0)) + \n",
    "  theme(axis.title.x = element_text(face=\"bold\",  color=\"black\", size=16, hjust=0.5, vjust=0.0, angle=0)) + \n",
    "  theme(axis.title.y = element_text(face=\"bold\",  color=\"black\", size=16, hjust=0.5, vjust=0.0, angle=90)) + \n",
    "  # set the font styles for the value labels that show on each axis\n",
    "  theme(axis.text.x  = element_text(face=\"plain\", color=\"black\", size=14, hjust=0.5, vjust=0.0, angle=0)) + \n",
    "  theme(axis.text.y  = element_text(face=\"plain\", color=\"black\", size=12, hjust=0.0, vjust=0.5, angle=0)) + \n",
    "  # set the font styles for the legend\n",
    "  theme(legend.title = element_text(face=\"bold\", color=\"black\", size=14, hjust=0.5, vjust=0.0, angle=0)) +\n",
    "  theme(legend.text  = element_text(face=\"plain\", color=\"black\", size=14, hjust=0.5, vjust=0.0, angle=0)) +\n",
    "  # create the plot lines, points, and error bars\n",
    "  geom_line(aes(linetype=X2), position=position_dodge(0.05)) + \n",
    "  geom_point(aes(shape=X2, size=X2), position=position_dodge(0.05)) + \n",
    "  geom_errorbar(aes(ymin=Mean-SD, ymax=Mean+SD), position=position_dodge(0.05), width=0.1) + \n",
    "  # place text labels on each bar\n",
    "  geom_text(aes(label=sprintf(\"%.2f (±%.2f)\", Mean, SD)), position=position_dodge(0.05), hjust=0.0, vjust=-1.0, color=\"black\", size=3.5) +\n",
    "  # set the labels for the title and each axis\n",
    "  labs(title=\"Y by X1, X2\", x=\"X1\", y=\"Y\") + \n",
    "  # set the ranges and value labels for each axis\n",
    "  scale_x_discrete(labels=c(\"a\",\"b\")) + \n",
    "  scale_y_continuous(breaks=seq(0,7,by=2), labels=seq(0,7,by=2), limits=c(0,7), oob=rescale_none) + \n",
    "  # set the name, labels, and colors for the traces\n",
    "  scale_color_manual(name=\"X2\", labels=c(\"a\",\"b\"), values=c(\"red\", \"blue\")) +\n",
    "  # set the size and shape of the points\n",
    "  scale_size_manual(values=c(4,4)) +\n",
    "  scale_shape_manual(values=c(16,10)) +\n",
    "  # set the linetype of the lines\n",
    "  scale_linetype_manual(values=c(\"solid\", \"longdash\"))"
   ]
  },
  {
   "cell_type": "markdown",
   "id": "fdd07b2d-8085-480b-8c8b-193e80c2e7a1",
   "metadata": {},
   "source": [
    "## GLM for Zero-Inflated Poisson Distribution Data\n",
    "\n",
    "* **Distribution:** Zero-Inflated Poisson\n",
    "* **Link:** log\n",
    "* **Typical Uses:** Zero-Inflated Poisson Regression: counts, rare events with large proportion of zeroes\n",
    "* **Reporting:** \"Figure 17a shows histograms of Y by X1 and X2. An analysis of variance based on zero-inflated Poisson regression indicated a statistically significant effect on Y of the X1×X2 interaction (χ2(1, N=60) = 8.14, p < .01), and a marginal effect of X2 (χ2(1, N=60) = 3.11, p = .078). There was no statistically significant effect of X1 on Y (χ2(1, N=60) = 0.29, n.s.).\""
   ]
  },
  {
   "cell_type": "code",
   "execution_count": 16,
   "id": "7f27d5e9-9573-43e1-bd84-09b900d397a9",
   "metadata": {
    "vscode": {
     "languageId": "r"
    }
   },
   "outputs": [
    {
     "data": {
      "text/html": [
       "<table class=\"dataframe\">\n",
       "<caption>A data.frame: 20 × 4</caption>\n",
       "<thead>\n",
       "\t<tr><th></th><th scope=col>S</th><th scope=col>X1</th><th scope=col>X2</th><th scope=col>Y</th></tr>\n",
       "\t<tr><th></th><th scope=col>&lt;int&gt;</th><th scope=col>&lt;chr&gt;</th><th scope=col>&lt;chr&gt;</th><th scope=col>&lt;int&gt;</th></tr>\n",
       "</thead>\n",
       "<tbody>\n",
       "\t<tr><th scope=row>1</th><td> 1</td><td>a</td><td>a</td><td>1</td></tr>\n",
       "\t<tr><th scope=row>2</th><td> 2</td><td>a</td><td>b</td><td>0</td></tr>\n",
       "\t<tr><th scope=row>3</th><td> 3</td><td>b</td><td>a</td><td>0</td></tr>\n",
       "\t<tr><th scope=row>4</th><td> 4</td><td>b</td><td>b</td><td>2</td></tr>\n",
       "\t<tr><th scope=row>5</th><td> 5</td><td>a</td><td>a</td><td>1</td></tr>\n",
       "\t<tr><th scope=row>6</th><td> 6</td><td>a</td><td>b</td><td>5</td></tr>\n",
       "\t<tr><th scope=row>7</th><td> 7</td><td>b</td><td>a</td><td>6</td></tr>\n",
       "\t<tr><th scope=row>8</th><td> 8</td><td>b</td><td>b</td><td>5</td></tr>\n",
       "\t<tr><th scope=row>9</th><td> 9</td><td>a</td><td>a</td><td>1</td></tr>\n",
       "\t<tr><th scope=row>10</th><td>10</td><td>a</td><td>b</td><td>0</td></tr>\n",
       "\t<tr><th scope=row>11</th><td>11</td><td>b</td><td>a</td><td>0</td></tr>\n",
       "\t<tr><th scope=row>12</th><td>12</td><td>b</td><td>b</td><td>8</td></tr>\n",
       "\t<tr><th scope=row>13</th><td>13</td><td>a</td><td>a</td><td>4</td></tr>\n",
       "\t<tr><th scope=row>14</th><td>14</td><td>a</td><td>b</td><td>1</td></tr>\n",
       "\t<tr><th scope=row>15</th><td>15</td><td>b</td><td>a</td><td>0</td></tr>\n",
       "\t<tr><th scope=row>16</th><td>16</td><td>b</td><td>b</td><td>0</td></tr>\n",
       "\t<tr><th scope=row>17</th><td>17</td><td>a</td><td>a</td><td>8</td></tr>\n",
       "\t<tr><th scope=row>18</th><td>18</td><td>a</td><td>b</td><td>5</td></tr>\n",
       "\t<tr><th scope=row>19</th><td>19</td><td>b</td><td>a</td><td>5</td></tr>\n",
       "\t<tr><th scope=row>20</th><td>20</td><td>b</td><td>b</td><td>3</td></tr>\n",
       "</tbody>\n",
       "</table>\n"
      ],
      "text/latex": [
       "A data.frame: 20 × 4\n",
       "\\begin{tabular}{r|llll}\n",
       "  & S & X1 & X2 & Y\\\\\n",
       "  & <int> & <chr> & <chr> & <int>\\\\\n",
       "\\hline\n",
       "\t1 &  1 & a & a & 1\\\\\n",
       "\t2 &  2 & a & b & 0\\\\\n",
       "\t3 &  3 & b & a & 0\\\\\n",
       "\t4 &  4 & b & b & 2\\\\\n",
       "\t5 &  5 & a & a & 1\\\\\n",
       "\t6 &  6 & a & b & 5\\\\\n",
       "\t7 &  7 & b & a & 6\\\\\n",
       "\t8 &  8 & b & b & 5\\\\\n",
       "\t9 &  9 & a & a & 1\\\\\n",
       "\t10 & 10 & a & b & 0\\\\\n",
       "\t11 & 11 & b & a & 0\\\\\n",
       "\t12 & 12 & b & b & 8\\\\\n",
       "\t13 & 13 & a & a & 4\\\\\n",
       "\t14 & 14 & a & b & 1\\\\\n",
       "\t15 & 15 & b & a & 0\\\\\n",
       "\t16 & 16 & b & b & 0\\\\\n",
       "\t17 & 17 & a & a & 8\\\\\n",
       "\t18 & 18 & a & b & 5\\\\\n",
       "\t19 & 19 & b & a & 5\\\\\n",
       "\t20 & 20 & b & b & 3\\\\\n",
       "\\end{tabular}\n"
      ],
      "text/markdown": [
       "\n",
       "A data.frame: 20 × 4\n",
       "\n",
       "| <!--/--> | S &lt;int&gt; | X1 &lt;chr&gt; | X2 &lt;chr&gt; | Y &lt;int&gt; |\n",
       "|---|---|---|---|---|\n",
       "| 1 |  1 | a | a | 1 |\n",
       "| 2 |  2 | a | b | 0 |\n",
       "| 3 |  3 | b | a | 0 |\n",
       "| 4 |  4 | b | b | 2 |\n",
       "| 5 |  5 | a | a | 1 |\n",
       "| 6 |  6 | a | b | 5 |\n",
       "| 7 |  7 | b | a | 6 |\n",
       "| 8 |  8 | b | b | 5 |\n",
       "| 9 |  9 | a | a | 1 |\n",
       "| 10 | 10 | a | b | 0 |\n",
       "| 11 | 11 | b | a | 0 |\n",
       "| 12 | 12 | b | b | 8 |\n",
       "| 13 | 13 | a | a | 4 |\n",
       "| 14 | 14 | a | b | 1 |\n",
       "| 15 | 15 | b | a | 0 |\n",
       "| 16 | 16 | b | b | 0 |\n",
       "| 17 | 17 | a | a | 8 |\n",
       "| 18 | 18 | a | b | 5 |\n",
       "| 19 | 19 | b | a | 5 |\n",
       "| 20 | 20 | b | b | 3 |\n",
       "\n"
      ],
      "text/plain": [
       "   S  X1 X2 Y\n",
       "1   1 a  a  1\n",
       "2   2 a  b  0\n",
       "3   3 b  a  0\n",
       "4   4 b  b  2\n",
       "5   5 a  a  1\n",
       "6   6 a  b  5\n",
       "7   7 b  a  6\n",
       "8   8 b  b  5\n",
       "9   9 a  a  1\n",
       "10 10 a  b  0\n",
       "11 11 b  a  0\n",
       "12 12 b  b  8\n",
       "13 13 a  a  4\n",
       "14 14 a  b  1\n",
       "15 15 b  a  0\n",
       "16 16 b  b  0\n",
       "17 17 a  a  8\n",
       "18 18 a  b  5\n",
       "19 19 b  a  5\n",
       "20 20 b  b  3"
      ]
     },
     "metadata": {},
     "output_type": "display_data"
    }
   ],
   "source": [
    "# Example data\n",
    "# df has subjects (S), two factors (X1,X2) each w/levels (a,b), and count response (Y)\n",
    "df <- read.csv(\"data/2F2LBs_zipoisson.csv\")\n",
    "head(df, 20)"
   ]
  },
  {
   "cell_type": "code",
   "execution_count": 17,
   "id": "e0e7d895-5e84-4745-8e8d-982ea11d7ef1",
   "metadata": {
    "tags": [],
    "vscode": {
     "languageId": "r"
    }
   },
   "outputs": [
    {
     "name": "stderr",
     "output_type": "stream",
     "text": [
      "Classes and Methods for R developed in the\n",
      "Political Science Computational Laboratory\n",
      "Department of Political Science\n",
      "Stanford University\n",
      "Simon Jackman\n",
      "hurdle and zeroinfl functions by Achim Zeileis\n",
      "\n"
     ]
    },
    {
     "data": {
      "text/html": [
       "<table class=\"dataframe\">\n",
       "<caption>A anova: 3 × 3</caption>\n",
       "<thead>\n",
       "\t<tr><th></th><th scope=col>Df</th><th scope=col>Chisq</th><th scope=col>Pr(&gt;Chisq)</th></tr>\n",
       "\t<tr><th></th><th scope=col>&lt;dbl&gt;</th><th scope=col>&lt;dbl&gt;</th><th scope=col>&lt;dbl&gt;</th></tr>\n",
       "</thead>\n",
       "<tbody>\n",
       "\t<tr><th scope=row>X1</th><td>1</td><td>0.2896066</td><td>0.590472759</td></tr>\n",
       "\t<tr><th scope=row>X2</th><td>1</td><td>3.1082852</td><td>0.077894931</td></tr>\n",
       "\t<tr><th scope=row>X1:X2</th><td>1</td><td>8.1401659</td><td>0.004329532</td></tr>\n",
       "</tbody>\n",
       "</table>\n"
      ],
      "text/latex": [
       "A anova: 3 × 3\n",
       "\\begin{tabular}{r|lll}\n",
       "  & Df & Chisq & Pr(>Chisq)\\\\\n",
       "  & <dbl> & <dbl> & <dbl>\\\\\n",
       "\\hline\n",
       "\tX1 & 1 & 0.2896066 & 0.590472759\\\\\n",
       "\tX2 & 1 & 3.1082852 & 0.077894931\\\\\n",
       "\tX1:X2 & 1 & 8.1401659 & 0.004329532\\\\\n",
       "\\end{tabular}\n"
      ],
      "text/markdown": [
       "\n",
       "A anova: 3 × 3\n",
       "\n",
       "| <!--/--> | Df &lt;dbl&gt; | Chisq &lt;dbl&gt; | Pr(&gt;Chisq) &lt;dbl&gt; |\n",
       "|---|---|---|---|\n",
       "| X1 | 1 | 0.2896066 | 0.590472759 |\n",
       "| X2 | 1 | 3.1082852 | 0.077894931 |\n",
       "| X1:X2 | 1 | 8.1401659 | 0.004329532 |\n",
       "\n"
      ],
      "text/plain": [
       "      Df Chisq     Pr(>Chisq) \n",
       "X1    1  0.2896066 0.590472759\n",
       "X2    1  3.1082852 0.077894931\n",
       "X1:X2 1  8.1401659 0.004329532"
      ]
     },
     "metadata": {},
     "output_type": "display_data"
    }
   ],
   "source": [
    "library(pscl) # for zeroinfl\n",
    "library(car) # for Anova\n",
    "df$S = factor(df$S)\n",
    "df$X1 = factor(df$X1)\n",
    "df$X2 = factor(df$X2)\n",
    "contrasts(df$X1) <- \"contr.sum\"\n",
    "contrasts(df$X2) <- \"contr.sum\"\n",
    "m = zeroinfl(Y ~ X1*X2, data=df, dist=\"poisson\")\n",
    "Anova(m, type=3)"
   ]
  },
  {
   "cell_type": "code",
   "execution_count": 18,
   "id": "c23ee66d-0c60-4ce1-899a-2eecc994a9bd",
   "metadata": {
    "vscode": {
     "languageId": "r"
    }
   },
   "outputs": [
    {
     "name": "stderr",
     "output_type": "stream",
     "text": [
      "Warning message:\n",
      "“\u001b[1m\u001b[22mThe dot-dot notation (`..count..`) was deprecated in ggplot2 3.4.0.\n",
      "\u001b[36mℹ\u001b[39m Please use `after_stat(count)` instead.”\n"
     ]
    },
    {
     "data": {
      "image/png": "[encoded data removed]",
      "text/plain": [
       "plot without title"
      ]
     },
     "metadata": {
      "image/png": {
       "height": 420,
       "width": 420
      }
     },
     "output_type": "display_data"
    }
   ],
   "source": [
    "library(ggplot2)\n",
    "library(ggthemes)\n",
    "library(scales)\n",
    "library(plyr)\n",
    "\n",
    "# Histograms\n",
    "# http://www.sthda.com/english/wiki/ggplot2-histogram-plot-quick-start-guide-r-software-and-data-visualization\n",
    "ggplot(data=df, aes(x=Y, fill=X1, color=X2)) + theme_minimal() + \n",
    "  # set the font styles for the plot title and axis titles\n",
    "  theme(plot.title   = element_text(face=\"bold\",  color=\"black\", size=18, hjust=0.5, vjust=0.0, angle=0)) + \n",
    "  theme(axis.title.x = element_text(face=\"bold\",  color=\"black\", size=16, hjust=0.5, vjust=0.0, angle=0)) + \n",
    "  theme(axis.title.y = element_text(face=\"bold\",  color=\"black\", size=16, hjust=0.5, vjust=0.0, angle=90)) + \n",
    "  # set the font styles for the value labels that show on each axis\n",
    "  theme(axis.text.x  = element_text(face=\"plain\", color=\"black\", size=12, hjust=0.5, vjust=0.0, angle=0)) + \n",
    "  theme(axis.text.y  = element_text(face=\"plain\", color=\"black\", size=12, hjust=0.0, vjust=0.5, angle=0)) + \n",
    "  # set the font style for the facet labels\n",
    "  theme(strip.text = element_text(face=\"bold\", color=\"black\", size=14, hjust=0.5)) + \n",
    "  # remove the legend\n",
    "  theme(legend.position=\"none\") + \n",
    "  # create the histogram; the alpha value ensures overlaps can be seen\n",
    "  geom_histogram(binwidth=1, breaks=seq(-0.5,10.5,by=1), alpha=0.25) + \n",
    "  stat_bin(aes(y=..count.., label=..count..), binwidth=1, geom=\"text\", vjust=-0.5) + \n",
    "  # create stacked plots by X, one for each histogram\n",
    "  facet_grid(X1+X2 ~ .) + \n",
    "  # determine the outline and fill color values of each histogram\n",
    "  scale_color_manual(values=c(\"darkblue\",\"darkred\")) + \n",
    "  scale_fill_manual(values=c(\"#69b3a2\",\"#404080\")) + \n",
    "  # set the labels for the title and each axis\n",
    "  labs(title=\"Y by X1, X2\", x=\"Y\", y=\"Count\") + \n",
    "  # set the ranges and value labels for each axis\n",
    "  scale_x_continuous(breaks=seq(-0.5,10.5,by=1), labels=seq(0,11,by=1), limits=c(-0.5,10.5)) +\n",
    "  scale_y_continuous(breaks=seq(0,8,by=2), labels=seq(0,8,by=2), limits=c(0,8))"
   ]
  },
  {
   "cell_type": "markdown",
   "id": "670b193a-2073-4343-996a-549c3017fed2",
   "metadata": {},
   "source": [
    "## GLM for Negative Binomial Distribution Data\n",
    "\n",
    "* **Distribution:** Negative Binomial\n",
    "* **Link:** log\n",
    "* **Typical Uses:** Negative Binomial Regression: Same as Poisson but for use in the presence of overdispersion\n",
    "* **Reporting:** \"Figure 18a shows an interaction plot with ±1 standard deviation error bars for X1 and X2. An analysis of variance based on negative binomial regression indicated a statistically significant effect on Y of X1 (χ2(1, N=60) = 13.46, p < .001), but not of X2 (χ2(1, N=60) = 0.07, n.s.) or the X1×X2 interaction (χ2(1, N=60) = 0.92, n.s.).\""
   ]
  },
  {
   "cell_type": "code",
   "execution_count": 19,
   "id": "ab5d3b8f-8ae8-401e-8cb0-371befb509b6",
   "metadata": {
    "vscode": {
     "languageId": "r"
    }
   },
   "outputs": [
    {
     "data": {
      "text/html": [
       "<table class=\"dataframe\">\n",
       "<caption>A data.frame: 20 × 4</caption>\n",
       "<thead>\n",
       "\t<tr><th></th><th scope=col>S</th><th scope=col>X1</th><th scope=col>X2</th><th scope=col>Y</th></tr>\n",
       "\t<tr><th></th><th scope=col>&lt;int&gt;</th><th scope=col>&lt;chr&gt;</th><th scope=col>&lt;chr&gt;</th><th scope=col>&lt;int&gt;</th></tr>\n",
       "</thead>\n",
       "<tbody>\n",
       "\t<tr><th scope=row>1</th><td> 1</td><td>a</td><td>a</td><td> 1</td></tr>\n",
       "\t<tr><th scope=row>2</th><td> 2</td><td>a</td><td>b</td><td> 1</td></tr>\n",
       "\t<tr><th scope=row>3</th><td> 3</td><td>b</td><td>a</td><td> 2</td></tr>\n",
       "\t<tr><th scope=row>4</th><td> 4</td><td>b</td><td>b</td><td> 9</td></tr>\n",
       "\t<tr><th scope=row>5</th><td> 5</td><td>a</td><td>a</td><td> 0</td></tr>\n",
       "\t<tr><th scope=row>6</th><td> 6</td><td>a</td><td>b</td><td> 1</td></tr>\n",
       "\t<tr><th scope=row>7</th><td> 7</td><td>b</td><td>a</td><td> 1</td></tr>\n",
       "\t<tr><th scope=row>8</th><td> 8</td><td>b</td><td>b</td><td> 7</td></tr>\n",
       "\t<tr><th scope=row>9</th><td> 9</td><td>a</td><td>a</td><td> 2</td></tr>\n",
       "\t<tr><th scope=row>10</th><td>10</td><td>a</td><td>b</td><td> 2</td></tr>\n",
       "\t<tr><th scope=row>11</th><td>11</td><td>b</td><td>a</td><td> 6</td></tr>\n",
       "\t<tr><th scope=row>12</th><td>12</td><td>b</td><td>b</td><td> 1</td></tr>\n",
       "\t<tr><th scope=row>13</th><td>13</td><td>a</td><td>a</td><td> 2</td></tr>\n",
       "\t<tr><th scope=row>14</th><td>14</td><td>a</td><td>b</td><td> 3</td></tr>\n",
       "\t<tr><th scope=row>15</th><td>15</td><td>b</td><td>a</td><td> 3</td></tr>\n",
       "\t<tr><th scope=row>16</th><td>16</td><td>b</td><td>b</td><td> 1</td></tr>\n",
       "\t<tr><th scope=row>17</th><td>17</td><td>a</td><td>a</td><td> 2</td></tr>\n",
       "\t<tr><th scope=row>18</th><td>18</td><td>a</td><td>b</td><td> 3</td></tr>\n",
       "\t<tr><th scope=row>19</th><td>19</td><td>b</td><td>a</td><td>10</td></tr>\n",
       "\t<tr><th scope=row>20</th><td>20</td><td>b</td><td>b</td><td> 4</td></tr>\n",
       "</tbody>\n",
       "</table>\n"
      ],
      "text/latex": [
       "A data.frame: 20 × 4\n",
       "\\begin{tabular}{r|llll}\n",
       "  & S & X1 & X2 & Y\\\\\n",
       "  & <int> & <chr> & <chr> & <int>\\\\\n",
       "\\hline\n",
       "\t1 &  1 & a & a &  1\\\\\n",
       "\t2 &  2 & a & b &  1\\\\\n",
       "\t3 &  3 & b & a &  2\\\\\n",
       "\t4 &  4 & b & b &  9\\\\\n",
       "\t5 &  5 & a & a &  0\\\\\n",
       "\t6 &  6 & a & b &  1\\\\\n",
       "\t7 &  7 & b & a &  1\\\\\n",
       "\t8 &  8 & b & b &  7\\\\\n",
       "\t9 &  9 & a & a &  2\\\\\n",
       "\t10 & 10 & a & b &  2\\\\\n",
       "\t11 & 11 & b & a &  6\\\\\n",
       "\t12 & 12 & b & b &  1\\\\\n",
       "\t13 & 13 & a & a &  2\\\\\n",
       "\t14 & 14 & a & b &  3\\\\\n",
       "\t15 & 15 & b & a &  3\\\\\n",
       "\t16 & 16 & b & b &  1\\\\\n",
       "\t17 & 17 & a & a &  2\\\\\n",
       "\t18 & 18 & a & b &  3\\\\\n",
       "\t19 & 19 & b & a & 10\\\\\n",
       "\t20 & 20 & b & b &  4\\\\\n",
       "\\end{tabular}\n"
      ],
      "text/markdown": [
       "\n",
       "A data.frame: 20 × 4\n",
       "\n",
       "| <!--/--> | S &lt;int&gt; | X1 &lt;chr&gt; | X2 &lt;chr&gt; | Y &lt;int&gt; |\n",
       "|---|---|---|---|---|\n",
       "| 1 |  1 | a | a |  1 |\n",
       "| 2 |  2 | a | b |  1 |\n",
       "| 3 |  3 | b | a |  2 |\n",
       "| 4 |  4 | b | b |  9 |\n",
       "| 5 |  5 | a | a |  0 |\n",
       "| 6 |  6 | a | b |  1 |\n",
       "| 7 |  7 | b | a |  1 |\n",
       "| 8 |  8 | b | b |  7 |\n",
       "| 9 |  9 | a | a |  2 |\n",
       "| 10 | 10 | a | b |  2 |\n",
       "| 11 | 11 | b | a |  6 |\n",
       "| 12 | 12 | b | b |  1 |\n",
       "| 13 | 13 | a | a |  2 |\n",
       "| 14 | 14 | a | b |  3 |\n",
       "| 15 | 15 | b | a |  3 |\n",
       "| 16 | 16 | b | b |  1 |\n",
       "| 17 | 17 | a | a |  2 |\n",
       "| 18 | 18 | a | b |  3 |\n",
       "| 19 | 19 | b | a | 10 |\n",
       "| 20 | 20 | b | b |  4 |\n",
       "\n"
      ],
      "text/plain": [
       "   S  X1 X2 Y \n",
       "1   1 a  a   1\n",
       "2   2 a  b   1\n",
       "3   3 b  a   2\n",
       "4   4 b  b   9\n",
       "5   5 a  a   0\n",
       "6   6 a  b   1\n",
       "7   7 b  a   1\n",
       "8   8 b  b   7\n",
       "9   9 a  a   2\n",
       "10 10 a  b   2\n",
       "11 11 b  a   6\n",
       "12 12 b  b   1\n",
       "13 13 a  a   2\n",
       "14 14 a  b   3\n",
       "15 15 b  a   3\n",
       "16 16 b  b   1\n",
       "17 17 a  a   2\n",
       "18 18 a  b   3\n",
       "19 19 b  a  10\n",
       "20 20 b  b   4"
      ]
     },
     "metadata": {},
     "output_type": "display_data"
    }
   ],
   "source": [
    "# Example data\n",
    "# df has subjects (S), two factors (X1,X2) each w/levels (a,b), and count response (Y)\n",
    "df <- read.csv(\"data/2F2LBs_negbin.csv\")\n",
    "head(df, 20)"
   ]
  },
  {
   "cell_type": "code",
   "execution_count": 20,
   "id": "fd902cec-eb39-4245-a176-55671b7cb241",
   "metadata": {
    "tags": [],
    "vscode": {
     "languageId": "r"
    }
   },
   "outputs": [
    {
     "data": {
      "text/html": [
       "<table class=\"dataframe\">\n",
       "<caption>A anova: 3 × 3</caption>\n",
       "<thead>\n",
       "\t<tr><th></th><th scope=col>LR Chisq</th><th scope=col>Df</th><th scope=col>Pr(&gt;Chisq)</th></tr>\n",
       "\t<tr><th></th><th scope=col>&lt;dbl&gt;</th><th scope=col>&lt;dbl&gt;</th><th scope=col>&lt;dbl&gt;</th></tr>\n",
       "</thead>\n",
       "<tbody>\n",
       "\t<tr><th scope=row>X1</th><td>13.4596339</td><td>1</td><td>0.0002437513</td></tr>\n",
       "\t<tr><th scope=row>X2</th><td> 0.0663977</td><td>1</td><td>0.7966558091</td></tr>\n",
       "\t<tr><th scope=row>X1:X2</th><td> 0.9247341</td><td>1</td><td>0.3362350241</td></tr>\n",
       "</tbody>\n",
       "</table>\n"
      ],
      "text/latex": [
       "A anova: 3 × 3\n",
       "\\begin{tabular}{r|lll}\n",
       "  & LR Chisq & Df & Pr(>Chisq)\\\\\n",
       "  & <dbl> & <dbl> & <dbl>\\\\\n",
       "\\hline\n",
       "\tX1 & 13.4596339 & 1 & 0.0002437513\\\\\n",
       "\tX2 &  0.0663977 & 1 & 0.7966558091\\\\\n",
       "\tX1:X2 &  0.9247341 & 1 & 0.3362350241\\\\\n",
       "\\end{tabular}\n"
      ],
      "text/markdown": [
       "\n",
       "A anova: 3 × 3\n",
       "\n",
       "| <!--/--> | LR Chisq &lt;dbl&gt; | Df &lt;dbl&gt; | Pr(&gt;Chisq) &lt;dbl&gt; |\n",
       "|---|---|---|---|\n",
       "| X1 | 13.4596339 | 1 | 0.0002437513 |\n",
       "| X2 |  0.0663977 | 1 | 0.7966558091 |\n",
       "| X1:X2 |  0.9247341 | 1 | 0.3362350241 |\n",
       "\n"
      ],
      "text/plain": [
       "      LR Chisq   Df Pr(>Chisq)  \n",
       "X1    13.4596339 1  0.0002437513\n",
       "X2     0.0663977 1  0.7966558091\n",
       "X1:X2  0.9247341 1  0.3362350241"
      ]
     },
     "metadata": {},
     "output_type": "display_data"
    }
   ],
   "source": [
    "library(MASS) # for glm.nb\n",
    "library(car) # for Anova\n",
    "df$S = factor(df$S)\n",
    "df$X1 = factor(df$X1)\n",
    "df$X2 = factor(df$X2)\n",
    "contrasts(df$X1) <- \"contr.sum\"\n",
    "contrasts(df$X2) <- \"contr.sum\"\n",
    "m = glm.nb(Y ~ X1*X2, data=df)\n",
    "Anova(m, type=3)"
   ]
  },
  {
   "cell_type": "code",
   "execution_count": 21,
   "id": "b25eb59d-b027-49a6-bc02-0b5896423790",
   "metadata": {
    "vscode": {
     "languageId": "r"
    }
   },
   "outputs": [
    {
     "data": {
      "image/png": "[encoded data removed]",
      "text/plain": [
       "plot without title"
      ]
     },
     "metadata": {
      "image/png": {
       "height": 420,
       "width": 420
      }
     },
     "output_type": "display_data"
    }
   ],
   "source": [
    "library(ggplot2)\n",
    "library(ggthemes)\n",
    "library(scales)\n",
    "library(plyr)\n",
    "\n",
    "# Interaction plot\n",
    "# http://www.sthda.com/english/wiki/ggplot2-line-plot-quick-start-guide-r-software-and-data-visualization\n",
    "# http://www.sthda.com/english/wiki/ggplot2-error-bars-quick-start-guide-r-software-and-data-visualization\n",
    "# http://www.sthda.com/english/wiki/ggplot2-point-shapes\n",
    "# http://www.sthda.com/english/wiki/ggplot2-line-types-how-to-change-line-types-of-a-graph-in-r-software\n",
    "df2 <- ddply(df, ~ X1*X2, function(d) # make a summary data table\n",
    "  c(NROW(d$Y),\n",
    "    sum(is.na(d$Y)),\n",
    "    sum(!is.na(d$Y)),\n",
    "    mean(d$Y, na.rm=TRUE),\n",
    "    sd(d$Y, na.rm=TRUE),\n",
    "    median(d$Y, na.rm=TRUE),\n",
    "    IQR(d$Y, na.rm=TRUE)))\n",
    "colnames(df2) <- c(\"X1\",\"X2\",\"Rows\",\"NAs\",\"NotNAs\",\"Mean\",\"SD\",\"Median\",\"IQR\")\n",
    "ggplot(data=df2, aes(x=X1, y=Mean, color=X2, group=X2)) + theme_minimal() + \n",
    "  # set the font styles for the plot title and axis titles\n",
    "  theme(plot.title   = element_text(face=\"bold\",  color=\"black\", size=18, hjust=0.5, vjust=0.0, angle=0)) + \n",
    "  theme(axis.title.x = element_text(face=\"bold\",  color=\"black\", size=16, hjust=0.5, vjust=0.0, angle=0)) + \n",
    "  theme(axis.title.y = element_text(face=\"bold\",  color=\"black\", size=16, hjust=0.5, vjust=0.0, angle=90)) + \n",
    "  # set the font styles for the value labels that show on each axis\n",
    "  theme(axis.text.x  = element_text(face=\"plain\", color=\"black\", size=14, hjust=0.5, vjust=0.0, angle=0)) + \n",
    "  theme(axis.text.y  = element_text(face=\"plain\", color=\"black\", size=12, hjust=0.0, vjust=0.5, angle=0)) + \n",
    "  # set the font styles for the legend\n",
    "  theme(legend.title = element_text(face=\"bold\", color=\"black\", size=14, hjust=0.5, vjust=0.0, angle=0)) +\n",
    "  theme(legend.text  = element_text(face=\"plain\", color=\"black\", size=14, hjust=0.5, vjust=0.0, angle=0)) +\n",
    "  # create the plot lines, points, and error bars\n",
    "  geom_line(aes(linetype=X2), position=position_dodge(0.05)) + \n",
    "  geom_point(aes(shape=X2, size=X2), position=position_dodge(0.05)) + \n",
    "  geom_errorbar(aes(ymin=Mean-SD, ymax=Mean+SD), position=position_dodge(0.05), width=0.1) + \n",
    "  # place text labels on each bar\n",
    "  geom_text(aes(label=sprintf(\"%.2f (±%.2f)\", Mean, SD)), position=position_dodge(0.05), hjust=0.0, vjust=-1.0, color=\"black\", size=3.5) +\n",
    "  # set the labels for the title and each axis\n",
    "  labs(title=\"Y by X1, X2\", x=\"X1\", y=\"Y\") + \n",
    "  # set the ranges and value labels for each axis\n",
    "  scale_x_discrete(labels=c(\"a\",\"b\")) + \n",
    "  scale_y_continuous(breaks=seq(0,10,by=2), labels=seq(0,10,by=2), limits=c(0,10), oob=rescale_none) + \n",
    "  # set the name, labels, and colors for the traces\n",
    "  scale_color_manual(name=\"X2\", labels=c(\"a\",\"b\"), values=c(\"red\", \"blue\")) +\n",
    "  # set the size and shape of the points\n",
    "  scale_size_manual(values=c(4,4)) +\n",
    "  scale_shape_manual(values=c(16,10)) +\n",
    "  # set the linetype of the lines\n",
    "  scale_linetype_manual(values=c(\"solid\", \"longdash\"))"
   ]
  },
  {
   "cell_type": "markdown",
   "id": "807420d2-fc59-4523-a62d-50675eb92f53",
   "metadata": {},
   "source": [
    "## GLM for Zero-Inflated Negative Binomial Distribution Data\n",
    "\n",
    "* **Distribution:** Zero-Inflated Negative Binomial\n",
    "* **Link:** log\n",
    "* **Typical Uses:** Zero-Inflated Negative Binomial Regression: Same as Zero-Inflated Poisson but for use in the presence of overdispersion\n",
    "* **Reporting:** \"Figure 19a shows histograms of Y by X1 and X2. An analysis of variance based on zero-inflated negative binomial regression indicated no statistically significant effects on Y of X1 (χ2(1, N=60) = 0.43, n.s.), X2 (χ2(1, N=60) = 1.28, n.s.), or the X1×X2 interaction (χ2(1, N=60) = 0.10, n.s.).\""
   ]
  },
  {
   "cell_type": "code",
   "execution_count": 22,
   "id": "1bab1e43-5dfd-466b-9ad5-258caaf98677",
   "metadata": {
    "vscode": {
     "languageId": "r"
    }
   },
   "outputs": [
    {
     "data": {
      "text/html": [
       "<table class=\"dataframe\">\n",
       "<caption>A data.frame: 20 × 4</caption>\n",
       "<thead>\n",
       "\t<tr><th></th><th scope=col>S</th><th scope=col>X1</th><th scope=col>X2</th><th scope=col>Y</th></tr>\n",
       "\t<tr><th></th><th scope=col>&lt;int&gt;</th><th scope=col>&lt;chr&gt;</th><th scope=col>&lt;chr&gt;</th><th scope=col>&lt;int&gt;</th></tr>\n",
       "</thead>\n",
       "<tbody>\n",
       "\t<tr><th scope=row>1</th><td> 1</td><td>a</td><td>a</td><td> 3</td></tr>\n",
       "\t<tr><th scope=row>2</th><td> 2</td><td>a</td><td>b</td><td> 1</td></tr>\n",
       "\t<tr><th scope=row>3</th><td> 3</td><td>b</td><td>a</td><td>13</td></tr>\n",
       "\t<tr><th scope=row>4</th><td> 4</td><td>b</td><td>b</td><td> 0</td></tr>\n",
       "\t<tr><th scope=row>5</th><td> 5</td><td>a</td><td>a</td><td> 0</td></tr>\n",
       "\t<tr><th scope=row>6</th><td> 6</td><td>a</td><td>b</td><td> 1</td></tr>\n",
       "\t<tr><th scope=row>7</th><td> 7</td><td>b</td><td>a</td><td> 0</td></tr>\n",
       "\t<tr><th scope=row>8</th><td> 8</td><td>b</td><td>b</td><td> 2</td></tr>\n",
       "\t<tr><th scope=row>9</th><td> 9</td><td>a</td><td>a</td><td> 0</td></tr>\n",
       "\t<tr><th scope=row>10</th><td>10</td><td>a</td><td>b</td><td> 6</td></tr>\n",
       "\t<tr><th scope=row>11</th><td>11</td><td>b</td><td>a</td><td> 0</td></tr>\n",
       "\t<tr><th scope=row>12</th><td>12</td><td>b</td><td>b</td><td> 0</td></tr>\n",
       "\t<tr><th scope=row>13</th><td>13</td><td>a</td><td>a</td><td> 0</td></tr>\n",
       "\t<tr><th scope=row>14</th><td>14</td><td>a</td><td>b</td><td> 0</td></tr>\n",
       "\t<tr><th scope=row>15</th><td>15</td><td>b</td><td>a</td><td> 2</td></tr>\n",
       "\t<tr><th scope=row>16</th><td>16</td><td>b</td><td>b</td><td> 0</td></tr>\n",
       "\t<tr><th scope=row>17</th><td>17</td><td>a</td><td>a</td><td> 4</td></tr>\n",
       "\t<tr><th scope=row>18</th><td>18</td><td>a</td><td>b</td><td> 4</td></tr>\n",
       "\t<tr><th scope=row>19</th><td>19</td><td>b</td><td>a</td><td> 7</td></tr>\n",
       "\t<tr><th scope=row>20</th><td>20</td><td>b</td><td>b</td><td> 0</td></tr>\n",
       "</tbody>\n",
       "</table>\n"
      ],
      "text/latex": [
       "A data.frame: 20 × 4\n",
       "\\begin{tabular}{r|llll}\n",
       "  & S & X1 & X2 & Y\\\\\n",
       "  & <int> & <chr> & <chr> & <int>\\\\\n",
       "\\hline\n",
       "\t1 &  1 & a & a &  3\\\\\n",
       "\t2 &  2 & a & b &  1\\\\\n",
       "\t3 &  3 & b & a & 13\\\\\n",
       "\t4 &  4 & b & b &  0\\\\\n",
       "\t5 &  5 & a & a &  0\\\\\n",
       "\t6 &  6 & a & b &  1\\\\\n",
       "\t7 &  7 & b & a &  0\\\\\n",
       "\t8 &  8 & b & b &  2\\\\\n",
       "\t9 &  9 & a & a &  0\\\\\n",
       "\t10 & 10 & a & b &  6\\\\\n",
       "\t11 & 11 & b & a &  0\\\\\n",
       "\t12 & 12 & b & b &  0\\\\\n",
       "\t13 & 13 & a & a &  0\\\\\n",
       "\t14 & 14 & a & b &  0\\\\\n",
       "\t15 & 15 & b & a &  2\\\\\n",
       "\t16 & 16 & b & b &  0\\\\\n",
       "\t17 & 17 & a & a &  4\\\\\n",
       "\t18 & 18 & a & b &  4\\\\\n",
       "\t19 & 19 & b & a &  7\\\\\n",
       "\t20 & 20 & b & b &  0\\\\\n",
       "\\end{tabular}\n"
      ],
      "text/markdown": [
       "\n",
       "A data.frame: 20 × 4\n",
       "\n",
       "| <!--/--> | S &lt;int&gt; | X1 &lt;chr&gt; | X2 &lt;chr&gt; | Y &lt;int&gt; |\n",
       "|---|---|---|---|---|\n",
       "| 1 |  1 | a | a |  3 |\n",
       "| 2 |  2 | a | b |  1 |\n",
       "| 3 |  3 | b | a | 13 |\n",
       "| 4 |  4 | b | b |  0 |\n",
       "| 5 |  5 | a | a |  0 |\n",
       "| 6 |  6 | a | b |  1 |\n",
       "| 7 |  7 | b | a |  0 |\n",
       "| 8 |  8 | b | b |  2 |\n",
       "| 9 |  9 | a | a |  0 |\n",
       "| 10 | 10 | a | b |  6 |\n",
       "| 11 | 11 | b | a |  0 |\n",
       "| 12 | 12 | b | b |  0 |\n",
       "| 13 | 13 | a | a |  0 |\n",
       "| 14 | 14 | a | b |  0 |\n",
       "| 15 | 15 | b | a |  2 |\n",
       "| 16 | 16 | b | b |  0 |\n",
       "| 17 | 17 | a | a |  4 |\n",
       "| 18 | 18 | a | b |  4 |\n",
       "| 19 | 19 | b | a |  7 |\n",
       "| 20 | 20 | b | b |  0 |\n",
       "\n"
      ],
      "text/plain": [
       "   S  X1 X2 Y \n",
       "1   1 a  a   3\n",
       "2   2 a  b   1\n",
       "3   3 b  a  13\n",
       "4   4 b  b   0\n",
       "5   5 a  a   0\n",
       "6   6 a  b   1\n",
       "7   7 b  a   0\n",
       "8   8 b  b   2\n",
       "9   9 a  a   0\n",
       "10 10 a  b   6\n",
       "11 11 b  a   0\n",
       "12 12 b  b   0\n",
       "13 13 a  a   0\n",
       "14 14 a  b   0\n",
       "15 15 b  a   2\n",
       "16 16 b  b   0\n",
       "17 17 a  a   4\n",
       "18 18 a  b   4\n",
       "19 19 b  a   7\n",
       "20 20 b  b   0"
      ]
     },
     "metadata": {},
     "output_type": "display_data"
    }
   ],
   "source": [
    "# Example data\n",
    "# df has subjects (S), two between-Ss factors (X1,X2) each w/levels (a,b), and count response (Y)\n",
    "df <- read.csv(\"data/2F2LBs_zinegbin.csv\")\n",
    "head(df, 20)"
   ]
  },
  {
   "cell_type": "code",
   "execution_count": 23,
   "id": "f7df92e2-e5f1-4701-afd1-a645dfce4f1d",
   "metadata": {
    "tags": [],
    "vscode": {
     "languageId": "r"
    }
   },
   "outputs": [
    {
     "data": {
      "text/html": [
       "<table class=\"dataframe\">\n",
       "<caption>A anova: 3 × 3</caption>\n",
       "<thead>\n",
       "\t<tr><th></th><th scope=col>Df</th><th scope=col>Chisq</th><th scope=col>Pr(&gt;Chisq)</th></tr>\n",
       "\t<tr><th></th><th scope=col>&lt;dbl&gt;</th><th scope=col>&lt;dbl&gt;</th><th scope=col>&lt;dbl&gt;</th></tr>\n",
       "</thead>\n",
       "<tbody>\n",
       "\t<tr><th scope=row>X1</th><td>1</td><td>0.42588152</td><td>0.5140168</td></tr>\n",
       "\t<tr><th scope=row>X2</th><td>1</td><td>1.28178400</td><td>0.2575676</td></tr>\n",
       "\t<tr><th scope=row>X1:X2</th><td>1</td><td>0.09911078</td><td>0.7528994</td></tr>\n",
       "</tbody>\n",
       "</table>\n"
      ],
      "text/latex": [
       "A anova: 3 × 3\n",
       "\\begin{tabular}{r|lll}\n",
       "  & Df & Chisq & Pr(>Chisq)\\\\\n",
       "  & <dbl> & <dbl> & <dbl>\\\\\n",
       "\\hline\n",
       "\tX1 & 1 & 0.42588152 & 0.5140168\\\\\n",
       "\tX2 & 1 & 1.28178400 & 0.2575676\\\\\n",
       "\tX1:X2 & 1 & 0.09911078 & 0.7528994\\\\\n",
       "\\end{tabular}\n"
      ],
      "text/markdown": [
       "\n",
       "A anova: 3 × 3\n",
       "\n",
       "| <!--/--> | Df &lt;dbl&gt; | Chisq &lt;dbl&gt; | Pr(&gt;Chisq) &lt;dbl&gt; |\n",
       "|---|---|---|---|\n",
       "| X1 | 1 | 0.42588152 | 0.5140168 |\n",
       "| X2 | 1 | 1.28178400 | 0.2575676 |\n",
       "| X1:X2 | 1 | 0.09911078 | 0.7528994 |\n",
       "\n"
      ],
      "text/plain": [
       "      Df Chisq      Pr(>Chisq)\n",
       "X1    1  0.42588152 0.5140168 \n",
       "X2    1  1.28178400 0.2575676 \n",
       "X1:X2 1  0.09911078 0.7528994 "
      ]
     },
     "metadata": {},
     "output_type": "display_data"
    }
   ],
   "source": [
    "library(pscl) # for zeroinfl\n",
    "library(car) # for Anova\n",
    "df$S = factor(df$S)\n",
    "df$X1 = factor(df$X1)\n",
    "df$X2 = factor(df$X2)\n",
    "contrasts(df$X1) <- \"contr.sum\"\n",
    "contrasts(df$X2) <- \"contr.sum\"\n",
    "m = zeroinfl(Y ~ X1*X2, data=df, dist=\"negbin\")\n",
    "Anova(m, type=3)"
   ]
  },
  {
   "cell_type": "code",
   "execution_count": 24,
   "id": "3db6fe94-5810-485f-a842-ba651b878d88",
   "metadata": {
    "vscode": {
     "languageId": "r"
    }
   },
   "outputs": [
    {
     "data": {
      "image/png": "[encoded data removed]",
      "text/plain": [
       "plot without title"
      ]
     },
     "metadata": {
      "image/png": {
       "height": 420,
       "width": 420
      }
     },
     "output_type": "display_data"
    }
   ],
   "source": [
    "library(ggplot2)\n",
    "library(ggthemes)\n",
    "library(scales)\n",
    "library(plyr)\n",
    "\n",
    "# Histograms\n",
    "# http://www.sthda.com/english/wiki/ggplot2-histogram-plot-quick-start-guide-r-software-and-data-visualization\n",
    "ggplot(data=df, aes(x=Y, fill=X1, color=X2)) + theme_minimal() + \n",
    "  # set the font styles for the plot title and axis titles\n",
    "  theme(plot.title   = element_text(face=\"bold\",  color=\"black\", size=18, hjust=0.5, vjust=0.0, angle=0)) + \n",
    "  theme(axis.title.x = element_text(face=\"bold\",  color=\"black\", size=16, hjust=0.5, vjust=0.0, angle=0)) + \n",
    "  theme(axis.title.y = element_text(face=\"bold\",  color=\"black\", size=16, hjust=0.5, vjust=0.0, angle=90)) + \n",
    "  # set the font styles for the value labels that show on each axis\n",
    "  theme(axis.text.x  = element_text(face=\"plain\", color=\"black\", size=12, hjust=0.5, vjust=0.0, angle=0)) + \n",
    "  theme(axis.text.y  = element_text(face=\"plain\", color=\"black\", size=12, hjust=0.0, vjust=0.5, angle=0)) + \n",
    "  # set the font style for the facet labels\n",
    "  theme(strip.text = element_text(face=\"bold\", color=\"black\", size=14, hjust=0.5)) + \n",
    "  # remove the legend\n",
    "  theme(legend.position=\"none\") + \n",
    "  # create the histogram; the alpha value ensures overlaps can be seen\n",
    "  geom_histogram(binwidth=1, breaks=seq(-0.5,13.5,by=1), alpha=0.25) + \n",
    "  stat_bin(aes(y=..count.., label=..count..), binwidth=1, geom=\"text\", vjust=-0.5) + \n",
    "  # create stacked plots by X, one for each histogram\n",
    "  facet_grid(X1+X2 ~ .) + \n",
    "  # determine the outline and fill color values of each histogram\n",
    "  scale_color_manual(values=c(\"darkblue\",\"darkred\")) + \n",
    "  scale_fill_manual(values=c(\"#69b3a2\",\"#404080\")) + \n",
    "  # set the labels for the title and each axis\n",
    "  labs(title=\"Y by X1, X2\", x=\"Y\", y=\"Count\") + \n",
    "  # set the ranges and value labels for each axis\n",
    "  scale_x_continuous(breaks=seq(-0.5,13.5,by=1), labels=seq(0,14,by=1), limits=c(-0.5,13.5)) +\n",
    "  scale_y_continuous(breaks=seq(0,10,by=2), labels=seq(0,10,by=2), limits=c(0,10))"
   ]
  },
  {
   "cell_type": "markdown",
   "id": "9131502c-d8d8-4877-a567-063fae72b9ff",
   "metadata": {},
   "source": [
    "## GLM for Gamma and Expontential Distribution Data\n",
    "\n",
    "* **Distribution:** Gamma and Exponential\n",
    "* **Link:** inverse or log when 1/0 is undefined\n",
    "* **Typical Uses:** Gamma Regression: Exponentially distributed responses (e.g. income, wait times)\n",
    "* **Reporting:** \"Figure 20a shows an interaction plot with ±1 standard deviation error bars for X1 and X2. An analysis of variance based on Gamma regression indicated no statistically significant effect on Y of X1 (χ2(1, N=60) = 0.40, n.s.) or X2 (χ2(1, N=60) = 0.58, n.s.), but the X1×X2 interaction was marginal (χ2(1, N=60) = 3.26, p = .071).\""
   ]
  },
  {
   "cell_type": "code",
   "execution_count": 25,
   "id": "2ecf9d5f-0638-4b6a-b6f2-eb61f7e95871",
   "metadata": {
    "vscode": {
     "languageId": "r"
    }
   },
   "outputs": [
    {
     "data": {
      "text/html": [
       "<table class=\"dataframe\">\n",
       "<caption>A data.frame: 20 × 4</caption>\n",
       "<thead>\n",
       "\t<tr><th></th><th scope=col>S</th><th scope=col>X1</th><th scope=col>X2</th><th scope=col>Y</th></tr>\n",
       "\t<tr><th></th><th scope=col>&lt;int&gt;</th><th scope=col>&lt;chr&gt;</th><th scope=col>&lt;chr&gt;</th><th scope=col>&lt;dbl&gt;</th></tr>\n",
       "</thead>\n",
       "<tbody>\n",
       "\t<tr><th scope=row>1</th><td> 1</td><td>a</td><td>a</td><td> 7.210222</td></tr>\n",
       "\t<tr><th scope=row>2</th><td> 2</td><td>a</td><td>b</td><td> 4.511329</td></tr>\n",
       "\t<tr><th scope=row>3</th><td> 3</td><td>b</td><td>a</td><td> 8.750533</td></tr>\n",
       "\t<tr><th scope=row>4</th><td> 4</td><td>b</td><td>b</td><td> 4.636170</td></tr>\n",
       "\t<tr><th scope=row>5</th><td> 5</td><td>a</td><td>a</td><td> 5.059694</td></tr>\n",
       "\t<tr><th scope=row>6</th><td> 6</td><td>a</td><td>b</td><td> 3.906251</td></tr>\n",
       "\t<tr><th scope=row>7</th><td> 7</td><td>b</td><td>a</td><td> 4.144064</td></tr>\n",
       "\t<tr><th scope=row>8</th><td> 8</td><td>b</td><td>b</td><td> 2.890245</td></tr>\n",
       "\t<tr><th scope=row>9</th><td> 9</td><td>a</td><td>a</td><td>11.229607</td></tr>\n",
       "\t<tr><th scope=row>10</th><td>10</td><td>a</td><td>b</td><td> 5.079605</td></tr>\n",
       "\t<tr><th scope=row>11</th><td>11</td><td>b</td><td>a</td><td> 4.408323</td></tr>\n",
       "\t<tr><th scope=row>12</th><td>12</td><td>b</td><td>b</td><td> 9.266559</td></tr>\n",
       "\t<tr><th scope=row>13</th><td>13</td><td>a</td><td>a</td><td> 3.851376</td></tr>\n",
       "\t<tr><th scope=row>14</th><td>14</td><td>a</td><td>b</td><td> 6.323390</td></tr>\n",
       "\t<tr><th scope=row>15</th><td>15</td><td>b</td><td>a</td><td> 3.870606</td></tr>\n",
       "\t<tr><th scope=row>16</th><td>16</td><td>b</td><td>b</td><td> 3.884600</td></tr>\n",
       "\t<tr><th scope=row>17</th><td>17</td><td>a</td><td>a</td><td> 4.155613</td></tr>\n",
       "\t<tr><th scope=row>18</th><td>18</td><td>a</td><td>b</td><td> 3.056740</td></tr>\n",
       "\t<tr><th scope=row>19</th><td>19</td><td>b</td><td>a</td><td> 6.283452</td></tr>\n",
       "\t<tr><th scope=row>20</th><td>20</td><td>b</td><td>b</td><td> 3.060357</td></tr>\n",
       "</tbody>\n",
       "</table>\n"
      ],
      "text/latex": [
       "A data.frame: 20 × 4\n",
       "\\begin{tabular}{r|llll}\n",
       "  & S & X1 & X2 & Y\\\\\n",
       "  & <int> & <chr> & <chr> & <dbl>\\\\\n",
       "\\hline\n",
       "\t1 &  1 & a & a &  7.210222\\\\\n",
       "\t2 &  2 & a & b &  4.511329\\\\\n",
       "\t3 &  3 & b & a &  8.750533\\\\\n",
       "\t4 &  4 & b & b &  4.636170\\\\\n",
       "\t5 &  5 & a & a &  5.059694\\\\\n",
       "\t6 &  6 & a & b &  3.906251\\\\\n",
       "\t7 &  7 & b & a &  4.144064\\\\\n",
       "\t8 &  8 & b & b &  2.890245\\\\\n",
       "\t9 &  9 & a & a & 11.229607\\\\\n",
       "\t10 & 10 & a & b &  5.079605\\\\\n",
       "\t11 & 11 & b & a &  4.408323\\\\\n",
       "\t12 & 12 & b & b &  9.266559\\\\\n",
       "\t13 & 13 & a & a &  3.851376\\\\\n",
       "\t14 & 14 & a & b &  6.323390\\\\\n",
       "\t15 & 15 & b & a &  3.870606\\\\\n",
       "\t16 & 16 & b & b &  3.884600\\\\\n",
       "\t17 & 17 & a & a &  4.155613\\\\\n",
       "\t18 & 18 & a & b &  3.056740\\\\\n",
       "\t19 & 19 & b & a &  6.283452\\\\\n",
       "\t20 & 20 & b & b &  3.060357\\\\\n",
       "\\end{tabular}\n"
      ],
      "text/markdown": [
       "\n",
       "A data.frame: 20 × 4\n",
       "\n",
       "| <!--/--> | S &lt;int&gt; | X1 &lt;chr&gt; | X2 &lt;chr&gt; | Y &lt;dbl&gt; |\n",
       "|---|---|---|---|---|\n",
       "| 1 |  1 | a | a |  7.210222 |\n",
       "| 2 |  2 | a | b |  4.511329 |\n",
       "| 3 |  3 | b | a |  8.750533 |\n",
       "| 4 |  4 | b | b |  4.636170 |\n",
       "| 5 |  5 | a | a |  5.059694 |\n",
       "| 6 |  6 | a | b |  3.906251 |\n",
       "| 7 |  7 | b | a |  4.144064 |\n",
       "| 8 |  8 | b | b |  2.890245 |\n",
       "| 9 |  9 | a | a | 11.229607 |\n",
       "| 10 | 10 | a | b |  5.079605 |\n",
       "| 11 | 11 | b | a |  4.408323 |\n",
       "| 12 | 12 | b | b |  9.266559 |\n",
       "| 13 | 13 | a | a |  3.851376 |\n",
       "| 14 | 14 | a | b |  6.323390 |\n",
       "| 15 | 15 | b | a |  3.870606 |\n",
       "| 16 | 16 | b | b |  3.884600 |\n",
       "| 17 | 17 | a | a |  4.155613 |\n",
       "| 18 | 18 | a | b |  3.056740 |\n",
       "| 19 | 19 | b | a |  6.283452 |\n",
       "| 20 | 20 | b | b |  3.060357 |\n",
       "\n"
      ],
      "text/plain": [
       "   S  X1 X2 Y        \n",
       "1   1 a  a   7.210222\n",
       "2   2 a  b   4.511329\n",
       "3   3 b  a   8.750533\n",
       "4   4 b  b   4.636170\n",
       "5   5 a  a   5.059694\n",
       "6   6 a  b   3.906251\n",
       "7   7 b  a   4.144064\n",
       "8   8 b  b   2.890245\n",
       "9   9 a  a  11.229607\n",
       "10 10 a  b   5.079605\n",
       "11 11 b  a   4.408323\n",
       "12 12 b  b   9.266559\n",
       "13 13 a  a   3.851376\n",
       "14 14 a  b   6.323390\n",
       "15 15 b  a   3.870606\n",
       "16 16 b  b   3.884600\n",
       "17 17 a  a   4.155613\n",
       "18 18 a  b   3.056740\n",
       "19 19 b  a   6.283452\n",
       "20 20 b  b   3.060357"
      ]
     },
     "metadata": {},
     "output_type": "display_data"
    }
   ],
   "source": [
    "# Example data\n",
    "# df has subjects (S), two factors (X1,X2) each w/levels (a,b), and continuous response (Y)\n",
    "df <- read.csv(\"data/2F2LBs_gamma.csv\")\n",
    "head(df, 20)"
   ]
  },
  {
   "cell_type": "code",
   "execution_count": 27,
   "id": "e3a493dc-1ff9-4bd7-8013-75fe6fe970ef",
   "metadata": {
    "tags": [],
    "vscode": {
     "languageId": "r"
    }
   },
   "outputs": [
    {
     "data": {
      "text/html": [
       "<table class=\"dataframe\">\n",
       "<caption>A anova: 3 × 3</caption>\n",
       "<thead>\n",
       "\t<tr><th></th><th scope=col>LR Chisq</th><th scope=col>Df</th><th scope=col>Pr(&gt;Chisq)</th></tr>\n",
       "\t<tr><th></th><th scope=col>&lt;dbl&gt;</th><th scope=col>&lt;dbl&gt;</th><th scope=col>&lt;dbl&gt;</th></tr>\n",
       "</thead>\n",
       "<tbody>\n",
       "\t<tr><th scope=row>X1</th><td>0.3971864</td><td>1</td><td>0.52854588</td></tr>\n",
       "\t<tr><th scope=row>X2</th><td>0.5791674</td><td>1</td><td>0.44663887</td></tr>\n",
       "\t<tr><th scope=row>X1:X2</th><td>3.2574933</td><td>1</td><td>0.07109773</td></tr>\n",
       "</tbody>\n",
       "</table>\n"
      ],
      "text/latex": [
       "A anova: 3 × 3\n",
       "\\begin{tabular}{r|lll}\n",
       "  & LR Chisq & Df & Pr(>Chisq)\\\\\n",
       "  & <dbl> & <dbl> & <dbl>\\\\\n",
       "\\hline\n",
       "\tX1 & 0.3971864 & 1 & 0.52854588\\\\\n",
       "\tX2 & 0.5791674 & 1 & 0.44663887\\\\\n",
       "\tX1:X2 & 3.2574933 & 1 & 0.07109773\\\\\n",
       "\\end{tabular}\n"
      ],
      "text/markdown": [
       "\n",
       "A anova: 3 × 3\n",
       "\n",
       "| <!--/--> | LR Chisq &lt;dbl&gt; | Df &lt;dbl&gt; | Pr(&gt;Chisq) &lt;dbl&gt; |\n",
       "|---|---|---|---|\n",
       "| X1 | 0.3971864 | 1 | 0.52854588 |\n",
       "| X2 | 0.5791674 | 1 | 0.44663887 |\n",
       "| X1:X2 | 3.2574933 | 1 | 0.07109773 |\n",
       "\n"
      ],
      "text/plain": [
       "      LR Chisq  Df Pr(>Chisq)\n",
       "X1    0.3971864 1  0.52854588\n",
       "X2    0.5791674 1  0.44663887\n",
       "X1:X2 3.2574933 1  0.07109773"
      ]
     },
     "metadata": {},
     "output_type": "display_data"
    }
   ],
   "source": [
    "library(car) # for Anova\n",
    "df$S = factor(df$S)\n",
    "df$X1 = factor(df$X1)\n",
    "df$X2 = factor(df$X2)\n",
    "contrasts(df$X1) <- \"contr.sum\"\n",
    "contrasts(df$X2) <- \"contr.sum\"\n",
    "m = glm(Y ~ X1*X2, data=df, family=Gamma)\n",
    "# family=Gamma(link=\"log\") is often used\n",
    "Anova(m, type=3)"
   ]
  },
  {
   "cell_type": "code",
   "execution_count": 28,
   "id": "a1cdea5c-1dfb-4bde-a821-7a8ad151e888",
   "metadata": {
    "vscode": {
     "languageId": "r"
    }
   },
   "outputs": [
    {
     "data": {
      "image/png": "[encoded data removed]",
      "text/plain": [
       "plot without title"
      ]
     },
     "metadata": {
      "image/png": {
       "height": 420,
       "width": 420
      }
     },
     "output_type": "display_data"
    }
   ],
   "source": [
    "library(ggplot2)\n",
    "library(ggthemes)\n",
    "library(scales)\n",
    "library(plyr)\n",
    "\n",
    "# Interaction plot\n",
    "# http://www.sthda.com/english/wiki/ggplot2-line-plot-quick-start-guide-r-software-and-data-visualization\n",
    "# http://www.sthda.com/english/wiki/ggplot2-error-bars-quick-start-guide-r-software-and-data-visualization\n",
    "# http://www.sthda.com/english/wiki/ggplot2-point-shapes\n",
    "# http://www.sthda.com/english/wiki/ggplot2-line-types-how-to-change-line-types-of-a-graph-in-r-software\n",
    "df2 <- ddply(df, ~ X1*X2, function(d) # make a summary data table\n",
    "  c(NROW(d$Y),\n",
    "    sum(is.na(d$Y)),\n",
    "    sum(!is.na(d$Y)),\n",
    "    mean(d$Y, na.rm=TRUE),\n",
    "    sd(d$Y, na.rm=TRUE),\n",
    "    median(d$Y, na.rm=TRUE),\n",
    "    IQR(d$Y, na.rm=TRUE)))\n",
    "colnames(df2) <- c(\"X1\",\"X2\",\"Rows\",\"NAs\",\"NotNAs\",\"Mean\",\"SD\",\"Median\",\"IQR\")\n",
    "ggplot(data=df2, aes(x=X1, y=Mean, color=X2, group=X2)) + theme_minimal() + \n",
    "  # set the font styles for the plot title and axis titles\n",
    "  theme(plot.title   = element_text(face=\"bold\",  color=\"black\", size=18, hjust=0.5, vjust=0.0, angle=0)) + \n",
    "  theme(axis.title.x = element_text(face=\"bold\",  color=\"black\", size=16, hjust=0.5, vjust=0.0, angle=0)) + \n",
    "  theme(axis.title.y = element_text(face=\"bold\",  color=\"black\", size=16, hjust=0.5, vjust=0.0, angle=90)) + \n",
    "  # set the font styles for the value labels that show on each axis\n",
    "  theme(axis.text.x  = element_text(face=\"plain\", color=\"black\", size=14, hjust=0.5, vjust=0.0, angle=0)) + \n",
    "  theme(axis.text.y  = element_text(face=\"plain\", color=\"black\", size=12, hjust=0.0, vjust=0.5, angle=0)) + \n",
    "  # set the font styles for the legend\n",
    "  theme(legend.title = element_text(face=\"bold\", color=\"black\", size=14, hjust=0.5, vjust=0.0, angle=0)) +\n",
    "  theme(legend.text  = element_text(face=\"plain\", color=\"black\", size=14, hjust=0.5, vjust=0.0, angle=0)) +\n",
    "  # create the plot lines, points, and error bars\n",
    "  geom_line(aes(linetype=X2), position=position_dodge(0.05)) + \n",
    "  geom_point(aes(shape=X2, size=X2), position=position_dodge(0.05)) + \n",
    "  geom_errorbar(aes(ymin=Mean-SD, ymax=Mean+SD), position=position_dodge(0.05), width=0.1) + \n",
    "  # place text labels on each bar\n",
    "  geom_text(aes(label=sprintf(\"%.2f (±%.2f)\", Mean, SD)), position=position_dodge(0.05), hjust=0.0, vjust=-1.0, color=\"black\", size=3.5) +\n",
    "  # set the labels for the title and each axis\n",
    "  labs(title=\"Y by X1, X2\", x=\"X1\", y=\"Y\") + \n",
    "  # set the ranges and value labels for each axis\n",
    "  scale_x_discrete(labels=c(\"a\",\"b\")) + \n",
    "  scale_y_continuous(breaks=seq(0,9,by=2), labels=seq(0,9,by=2), limits=c(0,9), oob=rescale_none) + \n",
    "  # set the name, labels, and colors for the traces\n",
    "  scale_color_manual(name=\"X2\", labels=c(\"a\",\"b\"), values=c(\"red\", \"blue\")) +\n",
    "  # set the size and shape of the points\n",
    "  scale_size_manual(values=c(4,4)) +\n",
    "  scale_shape_manual(values=c(16,10)) +\n",
    "  # set the linetype of the lines\n",
    "  scale_linetype_manual(values=c(\"solid\", \"longdash\"))"
   ]
  }
 ],
 "metadata": {
  "kernelspec": {
   "display_name": "R",
   "language": "R",
   "name": "ir"
  },
  "language_info": {
   "codemirror_mode": "r",
   "file_extension": ".r",
   "mimetype": "text/x-r-source",
   "name": "R",
   "pygments_lexer": "r",
   "version": "4.2.2"
  }
 },
 "nbformat": 4,
 "nbformat_minor": 5
}
