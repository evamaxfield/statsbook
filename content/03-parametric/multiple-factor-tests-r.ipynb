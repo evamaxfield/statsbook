{
 "cells": [
  {
   "cell_type": "markdown",
   "id": "c47ebc4d-d172-4e70-9e16-cf6a0ba7153a",
   "metadata": {},
   "source": [
    "# Multiple Factor Parametric Tests - R"
   ]
  },
  {
   "cell_type": "markdown",
   "id": "4ecefac5-3aac-4309-a413-d1e62eb0fc81",
   "metadata": {},
   "source": [
    "## Factorial ANOVA\n",
    "\n",
    "* **Samples:** `≥2`\n",
    "* **Levels:** `≥2`\n",
    "* **Between or Within Subjects:** Between\n",
    "* **Reporting:** \"Figure 8 shows an interaction plot with ±1 standard deviation error bars for X1 and X2. A factorial ANOVA indicated a statistically significant effect on Y of X1 (F(1, 56) = 9.35, p < .01) and X2 (F(1, 56) = 4.30, p < .05), but not of the X1×X2 interaction (F(1, 56) = 0.42, n.s.).\""
   ]
  },
  {
   "cell_type": "code",
   "execution_count": 9,
   "id": "c7fa707e-af25-4dab-a4f6-cddd99a5ca4e",
   "metadata": {
    "vscode": {
     "languageId": "r"
    }
   },
   "outputs": [
    {
     "data": {
      "text/html": [
       "<table class=\"dataframe\">\n",
       "<caption>A data.frame: 20 × 4</caption>\n",
       "<thead>\n",
       "\t<tr><th></th><th scope=col>S</th><th scope=col>X1</th><th scope=col>X2</th><th scope=col>Y</th></tr>\n",
       "\t<tr><th></th><th scope=col>&lt;int&gt;</th><th scope=col>&lt;chr&gt;</th><th scope=col>&lt;chr&gt;</th><th scope=col>&lt;dbl&gt;</th></tr>\n",
       "</thead>\n",
       "<tbody>\n",
       "\t<tr><th scope=row>1</th><td> 1</td><td>a</td><td>a</td><td> 9.939918</td></tr>\n",
       "\t<tr><th scope=row>2</th><td> 2</td><td>a</td><td>b</td><td>12.271865</td></tr>\n",
       "\t<tr><th scope=row>3</th><td> 3</td><td>b</td><td>a</td><td>11.062279</td></tr>\n",
       "\t<tr><th scope=row>4</th><td> 4</td><td>b</td><td>b</td><td>12.763591</td></tr>\n",
       "\t<tr><th scope=row>5</th><td> 5</td><td>a</td><td>a</td><td> 7.980861</td></tr>\n",
       "\t<tr><th scope=row>6</th><td> 6</td><td>a</td><td>b</td><td>10.468626</td></tr>\n",
       "\t<tr><th scope=row>7</th><td> 7</td><td>b</td><td>a</td><td>21.071315</td></tr>\n",
       "\t<tr><th scope=row>8</th><td> 8</td><td>b</td><td>b</td><td>15.270048</td></tr>\n",
       "\t<tr><th scope=row>9</th><td> 9</td><td>a</td><td>a</td><td>22.125037</td></tr>\n",
       "\t<tr><th scope=row>10</th><td>10</td><td>a</td><td>b</td><td>10.955709</td></tr>\n",
       "\t<tr><th scope=row>11</th><td>11</td><td>b</td><td>a</td><td>14.496724</td></tr>\n",
       "\t<tr><th scope=row>12</th><td>12</td><td>b</td><td>b</td><td>12.731080</td></tr>\n",
       "\t<tr><th scope=row>13</th><td>13</td><td>a</td><td>a</td><td>14.110583</td></tr>\n",
       "\t<tr><th scope=row>14</th><td>14</td><td>a</td><td>b</td><td>13.587539</td></tr>\n",
       "\t<tr><th scope=row>15</th><td>15</td><td>b</td><td>a</td><td>13.175990</td></tr>\n",
       "\t<tr><th scope=row>16</th><td>16</td><td>b</td><td>b</td><td>14.313530</td></tr>\n",
       "\t<tr><th scope=row>17</th><td>17</td><td>a</td><td>a</td><td>11.595727</td></tr>\n",
       "\t<tr><th scope=row>18</th><td>18</td><td>a</td><td>b</td><td>13.723466</td></tr>\n",
       "\t<tr><th scope=row>19</th><td>19</td><td>b</td><td>a</td><td>17.276898</td></tr>\n",
       "\t<tr><th scope=row>20</th><td>20</td><td>b</td><td>b</td><td>14.945042</td></tr>\n",
       "</tbody>\n",
       "</table>\n"
      ],
      "text/latex": [
       "A data.frame: 20 × 4\n",
       "\\begin{tabular}{r|llll}\n",
       "  & S & X1 & X2 & Y\\\\\n",
       "  & <int> & <chr> & <chr> & <dbl>\\\\\n",
       "\\hline\n",
       "\t1 &  1 & a & a &  9.939918\\\\\n",
       "\t2 &  2 & a & b & 12.271865\\\\\n",
       "\t3 &  3 & b & a & 11.062279\\\\\n",
       "\t4 &  4 & b & b & 12.763591\\\\\n",
       "\t5 &  5 & a & a &  7.980861\\\\\n",
       "\t6 &  6 & a & b & 10.468626\\\\\n",
       "\t7 &  7 & b & a & 21.071315\\\\\n",
       "\t8 &  8 & b & b & 15.270048\\\\\n",
       "\t9 &  9 & a & a & 22.125037\\\\\n",
       "\t10 & 10 & a & b & 10.955709\\\\\n",
       "\t11 & 11 & b & a & 14.496724\\\\\n",
       "\t12 & 12 & b & b & 12.731080\\\\\n",
       "\t13 & 13 & a & a & 14.110583\\\\\n",
       "\t14 & 14 & a & b & 13.587539\\\\\n",
       "\t15 & 15 & b & a & 13.175990\\\\\n",
       "\t16 & 16 & b & b & 14.313530\\\\\n",
       "\t17 & 17 & a & a & 11.595727\\\\\n",
       "\t18 & 18 & a & b & 13.723466\\\\\n",
       "\t19 & 19 & b & a & 17.276898\\\\\n",
       "\t20 & 20 & b & b & 14.945042\\\\\n",
       "\\end{tabular}\n"
      ],
      "text/markdown": [
       "\n",
       "A data.frame: 20 × 4\n",
       "\n",
       "| <!--/--> | S &lt;int&gt; | X1 &lt;chr&gt; | X2 &lt;chr&gt; | Y &lt;dbl&gt; |\n",
       "|---|---|---|---|---|\n",
       "| 1 |  1 | a | a |  9.939918 |\n",
       "| 2 |  2 | a | b | 12.271865 |\n",
       "| 3 |  3 | b | a | 11.062279 |\n",
       "| 4 |  4 | b | b | 12.763591 |\n",
       "| 5 |  5 | a | a |  7.980861 |\n",
       "| 6 |  6 | a | b | 10.468626 |\n",
       "| 7 |  7 | b | a | 21.071315 |\n",
       "| 8 |  8 | b | b | 15.270048 |\n",
       "| 9 |  9 | a | a | 22.125037 |\n",
       "| 10 | 10 | a | b | 10.955709 |\n",
       "| 11 | 11 | b | a | 14.496724 |\n",
       "| 12 | 12 | b | b | 12.731080 |\n",
       "| 13 | 13 | a | a | 14.110583 |\n",
       "| 14 | 14 | a | b | 13.587539 |\n",
       "| 15 | 15 | b | a | 13.175990 |\n",
       "| 16 | 16 | b | b | 14.313530 |\n",
       "| 17 | 17 | a | a | 11.595727 |\n",
       "| 18 | 18 | a | b | 13.723466 |\n",
       "| 19 | 19 | b | a | 17.276898 |\n",
       "| 20 | 20 | b | b | 14.945042 |\n",
       "\n"
      ],
      "text/plain": [
       "   S  X1 X2 Y        \n",
       "1   1 a  a   9.939918\n",
       "2   2 a  b  12.271865\n",
       "3   3 b  a  11.062279\n",
       "4   4 b  b  12.763591\n",
       "5   5 a  a   7.980861\n",
       "6   6 a  b  10.468626\n",
       "7   7 b  a  21.071315\n",
       "8   8 b  b  15.270048\n",
       "9   9 a  a  22.125037\n",
       "10 10 a  b  10.955709\n",
       "11 11 b  a  14.496724\n",
       "12 12 b  b  12.731080\n",
       "13 13 a  a  14.110583\n",
       "14 14 a  b  13.587539\n",
       "15 15 b  a  13.175990\n",
       "16 16 b  b  14.313530\n",
       "17 17 a  a  11.595727\n",
       "18 18 a  b  13.723466\n",
       "19 19 b  a  17.276898\n",
       "20 20 b  b  14.945042"
      ]
     },
     "metadata": {},
     "output_type": "display_data"
    }
   ],
   "source": [
    "# Example data\n",
    "# df has subjects (S), two between-Ss factors (X1,X2) each w/levels (a,b), and continuous response (Y)\n",
    "df <- read.csv(\"data/2F2LBs.csv\")\n",
    "head(df, 20)"
   ]
  },
  {
   "cell_type": "code",
   "execution_count": 11,
   "id": "9c5f3020-cc55-4064-bb7d-867f7d1f37dc",
   "metadata": {
    "vscode": {
     "languageId": "r"
    }
   },
   "outputs": [
    {
     "name": "stderr",
     "output_type": "stream",
     "text": [
      "Coefficient covariances computed by hccm()\n",
      "\n"
     ]
    },
    {
     "data": {
      "text/html": [
       "<table class=\"dataframe\">\n",
       "<caption>A data.frame: 1 × 7</caption>\n",
       "<thead>\n",
       "\t<tr><th scope=col>DFn</th><th scope=col>DFd</th><th scope=col>SSn</th><th scope=col>SSd</th><th scope=col>F</th><th scope=col>p</th><th scope=col>p&lt;.05</th></tr>\n",
       "\t<tr><th scope=col>&lt;int&gt;</th><th scope=col>&lt;int&gt;</th><th scope=col>&lt;dbl&gt;</th><th scope=col>&lt;dbl&gt;</th><th scope=col>&lt;dbl&gt;</th><th scope=col>&lt;dbl&gt;</th><th scope=col>&lt;chr&gt;</th></tr>\n",
       "</thead>\n",
       "<tbody>\n",
       "\t<tr><td>3</td><td>56</td><td>36.93165</td><td>149.7687</td><td>4.603036</td><td>0.005989026</td><td>*</td></tr>\n",
       "</tbody>\n",
       "</table>\n"
      ],
      "text/latex": [
       "A data.frame: 1 × 7\n",
       "\\begin{tabular}{lllllll}\n",
       " DFn & DFd & SSn & SSd & F & p & p<.05\\\\\n",
       " <int> & <int> & <dbl> & <dbl> & <dbl> & <dbl> & <chr>\\\\\n",
       "\\hline\n",
       "\t 3 & 56 & 36.93165 & 149.7687 & 4.603036 & 0.005989026 & *\\\\\n",
       "\\end{tabular}\n"
      ],
      "text/markdown": [
       "\n",
       "A data.frame: 1 × 7\n",
       "\n",
       "| DFn &lt;int&gt; | DFd &lt;int&gt; | SSn &lt;dbl&gt; | SSd &lt;dbl&gt; | F &lt;dbl&gt; | p &lt;dbl&gt; | p&lt;.05 &lt;chr&gt; |\n",
       "|---|---|---|---|---|---|---|\n",
       "| 3 | 56 | 36.93165 | 149.7687 | 4.603036 | 0.005989026 | * |\n",
       "\n"
      ],
      "text/plain": [
       "  DFn DFd SSn      SSd      F        p           p<.05\n",
       "1 3   56  36.93165 149.7687 4.603036 0.005989026 *    "
      ]
     },
     "metadata": {},
     "output_type": "display_data"
    }
   ],
   "source": [
    "library(ez) # for ezANOVA\n",
    "\n",
    "df$S = factor(df$S) # Subject id is nominal\n",
    "df$X1 = factor(df$X1) # X1 is a 2-level factor\n",
    "df$X2 = factor(df$X2) # X2 is a 2-level factor\n",
    "\n",
    "m = ezANOVA(dv=Y, between=c(X1,X2), wid=S, type=3, data=df) # use c() for >1 factors\n",
    "m$Levene # if p<.05, we have a violation of homoscedasticity, so use a White-adjusted ANOVA"
   ]
  },
  {
   "cell_type": "code",
   "execution_count": 12,
   "id": "8ba5ecc7-a7e6-45ad-8879-8892536cb21c",
   "metadata": {
    "vscode": {
     "languageId": "r"
    }
   },
   "outputs": [
    {
     "name": "stderr",
     "output_type": "stream",
     "text": [
      "Coefficient covariances computed by hccm()\n",
      "\n"
     ]
    },
    {
     "data": {
      "text/html": [
       "<table class=\"dataframe\">\n",
       "<caption>A data.frame: 3 × 6</caption>\n",
       "<thead>\n",
       "\t<tr><th></th><th scope=col>Effect</th><th scope=col>DFn</th><th scope=col>DFd</th><th scope=col>F</th><th scope=col>p</th><th scope=col>p&lt;.05</th></tr>\n",
       "\t<tr><th></th><th scope=col>&lt;chr&gt;</th><th scope=col>&lt;dbl&gt;</th><th scope=col>&lt;dbl&gt;</th><th scope=col>&lt;dbl&gt;</th><th scope=col>&lt;dbl&gt;</th><th scope=col>&lt;chr&gt;</th></tr>\n",
       "</thead>\n",
       "<tbody>\n",
       "\t<tr><th scope=row>2</th><td>X1   </td><td>1</td><td>56</td><td>8.7309193</td><td>0.004569383</td><td>*</td></tr>\n",
       "\t<tr><th scope=row>3</th><td>X2   </td><td>1</td><td>56</td><td>4.0094897</td><td>0.050096183</td><td> </td></tr>\n",
       "\t<tr><th scope=row>4</th><td>X1:X2</td><td>1</td><td>56</td><td>0.3876081</td><td>0.536086422</td><td> </td></tr>\n",
       "</tbody>\n",
       "</table>\n"
      ],
      "text/latex": [
       "A data.frame: 3 × 6\n",
       "\\begin{tabular}{r|llllll}\n",
       "  & Effect & DFn & DFd & F & p & p<.05\\\\\n",
       "  & <chr> & <dbl> & <dbl> & <dbl> & <dbl> & <chr>\\\\\n",
       "\\hline\n",
       "\t2 & X1    & 1 & 56 & 8.7309193 & 0.004569383 & *\\\\\n",
       "\t3 & X2    & 1 & 56 & 4.0094897 & 0.050096183 &  \\\\\n",
       "\t4 & X1:X2 & 1 & 56 & 0.3876081 & 0.536086422 &  \\\\\n",
       "\\end{tabular}\n"
      ],
      "text/markdown": [
       "\n",
       "A data.frame: 3 × 6\n",
       "\n",
       "| <!--/--> | Effect &lt;chr&gt; | DFn &lt;dbl&gt; | DFd &lt;dbl&gt; | F &lt;dbl&gt; | p &lt;dbl&gt; | p&lt;.05 &lt;chr&gt; |\n",
       "|---|---|---|---|---|---|---|\n",
       "| 2 | X1    | 1 | 56 | 8.7309193 | 0.004569383 | * |\n",
       "| 3 | X2    | 1 | 56 | 4.0094897 | 0.050096183 | <!----> |\n",
       "| 4 | X1:X2 | 1 | 56 | 0.3876081 | 0.536086422 | <!----> |\n",
       "\n"
      ],
      "text/plain": [
       "  Effect DFn DFd F         p           p<.05\n",
       "2 X1     1   56  8.7309193 0.004569383 *    \n",
       "3 X2     1   56  4.0094897 0.050096183      \n",
       "4 X1:X2  1   56  0.3876081 0.536086422      "
      ]
     },
     "metadata": {},
     "output_type": "display_data"
    }
   ],
   "source": [
    "m= ezANOVA(dv=Y, between=c(X1,X2), wid=S, type=3, data=df, white.adjust=TRUE) # heteroscedastic\n",
    "m$ANOVA"
   ]
  },
  {
   "cell_type": "code",
   "execution_count": 13,
   "id": "16bf5e4a-fa2e-481f-80c5-2b125fea8f32",
   "metadata": {
    "vscode": {
     "languageId": "r"
    }
   },
   "outputs": [
    {
     "data": {
      "text/html": [
       "<table class=\"dataframe\">\n",
       "<caption>A anova: 4 × 5</caption>\n",
       "<thead>\n",
       "\t<tr><th></th><th scope=col>Df</th><th scope=col>Sum Sq</th><th scope=col>Mean Sq</th><th scope=col>F value</th><th scope=col>Pr(&gt;F)</th></tr>\n",
       "\t<tr><th></th><th scope=col>&lt;int&gt;</th><th scope=col>&lt;dbl&gt;</th><th scope=col>&lt;dbl&gt;</th><th scope=col>&lt;dbl&gt;</th><th scope=col>&lt;dbl&gt;</th></tr>\n",
       "</thead>\n",
       "<tbody>\n",
       "\t<tr><th scope=row>X1</th><td> 1</td><td> 60.039468</td><td>60.039468</td><td>9.3545564</td><td>0.003408605</td></tr>\n",
       "\t<tr><th scope=row>X2</th><td> 1</td><td> 27.571854</td><td>27.571854</td><td>4.2958818</td><td>0.042819437</td></tr>\n",
       "\t<tr><th scope=row>X1:X2</th><td> 1</td><td>  2.665445</td><td> 2.665445</td><td>0.4152944</td><td>0.521925508</td></tr>\n",
       "\t<tr><th scope=row>Residuals</th><td>56</td><td>359.419527</td><td> 6.418206</td><td>       NA</td><td>         NA</td></tr>\n",
       "</tbody>\n",
       "</table>\n"
      ],
      "text/latex": [
       "A anova: 4 × 5\n",
       "\\begin{tabular}{r|lllll}\n",
       "  & Df & Sum Sq & Mean Sq & F value & Pr(>F)\\\\\n",
       "  & <int> & <dbl> & <dbl> & <dbl> & <dbl>\\\\\n",
       "\\hline\n",
       "\tX1 &  1 &  60.039468 & 60.039468 & 9.3545564 & 0.003408605\\\\\n",
       "\tX2 &  1 &  27.571854 & 27.571854 & 4.2958818 & 0.042819437\\\\\n",
       "\tX1:X2 &  1 &   2.665445 &  2.665445 & 0.4152944 & 0.521925508\\\\\n",
       "\tResiduals & 56 & 359.419527 &  6.418206 &        NA &          NA\\\\\n",
       "\\end{tabular}\n"
      ],
      "text/markdown": [
       "\n",
       "A anova: 4 × 5\n",
       "\n",
       "| <!--/--> | Df &lt;int&gt; | Sum Sq &lt;dbl&gt; | Mean Sq &lt;dbl&gt; | F value &lt;dbl&gt; | Pr(&gt;F) &lt;dbl&gt; |\n",
       "|---|---|---|---|---|---|\n",
       "| X1 |  1 |  60.039468 | 60.039468 | 9.3545564 | 0.003408605 |\n",
       "| X2 |  1 |  27.571854 | 27.571854 | 4.2958818 | 0.042819437 |\n",
       "| X1:X2 |  1 |   2.665445 |  2.665445 | 0.4152944 | 0.521925508 |\n",
       "| Residuals | 56 | 359.419527 |  6.418206 |        NA |          NA |\n",
       "\n"
      ],
      "text/plain": [
       "          Df Sum Sq     Mean Sq   F value   Pr(>F)     \n",
       "X1         1  60.039468 60.039468 9.3545564 0.003408605\n",
       "X2         1  27.571854 27.571854 4.2958818 0.042819437\n",
       "X1:X2      1   2.665445  2.665445 0.4152944 0.521925508\n",
       "Residuals 56 359.419527  6.418206        NA          NA"
      ]
     },
     "metadata": {},
     "output_type": "display_data"
    }
   ],
   "source": [
    "# the following also performs the same factorial ANOVA\n",
    "m = aov(Y ~ X1*X2, data=df)\n",
    "anova(m)"
   ]
  },
  {
   "cell_type": "code",
   "execution_count": 17,
   "id": "7096da78-01b5-4c53-8bbc-3c19cefe232f",
   "metadata": {
    "vscode": {
     "languageId": "r"
    }
   },
   "outputs": [
    {
     "data": {
      "image/png": "[encoded data removed]",
      "text/plain": [
       "plot without title"
      ]
     },
     "metadata": {
      "image/png": {
       "height": 420,
       "width": 420
      }
     },
     "output_type": "display_data"
    }
   ],
   "source": [
    "library(ggplot2)\n",
    "library(ggthemes)\n",
    "library(scales)\n",
    "library(plyr)\n",
    "\n",
    "# Interaction plot\n",
    "# http://www.sthda.com/english/wiki/ggplot2-line-plot-quick-start-guide-r-software-and-data-visualization\n",
    "# http://www.sthda.com/english/wiki/ggplot2-error-bars-quick-start-guide-r-software-and-data-visualization\n",
    "# http://www.sthda.com/english/wiki/ggplot2-point-shapes\n",
    "# http://www.sthda.com/english/wiki/ggplot2-line-types-how-to-change-line-types-of-a-graph-in-r-software\n",
    "df2 <- ddply(df, ~ X1*X2, function(d) # make a summary data table\n",
    "  c(NROW(d$Y),\n",
    "    sum(is.na(d$Y)),\n",
    "    sum(!is.na(d$Y)),\n",
    "    mean(d$Y, na.rm=TRUE),\n",
    "    sd(d$Y, na.rm=TRUE),\n",
    "    median(d$Y, na.rm=TRUE),\n",
    "    IQR(d$Y, na.rm=TRUE)))\n",
    "colnames(df2) <- c(\"X1\",\"X2\",\"Rows\",\"NAs\",\"NotNAs\",\"Mean\",\"SD\",\"Median\",\"IQR\")\n",
    "ggplot(data=df2, aes(x=X1, y=Mean, color=X2, group=X2)) + theme_minimal() + \n",
    "  # set the font styles for the plot title and axis titles\n",
    "  theme(plot.title   = element_text(face=\"bold\",  color=\"black\", size=18, hjust=0.5, vjust=0.0, angle=0)) + \n",
    "  theme(axis.title.x = element_text(face=\"bold\",  color=\"black\", size=16, hjust=0.5, vjust=0.0, angle=0)) + \n",
    "  theme(axis.title.y = element_text(face=\"bold\",  color=\"black\", size=16, hjust=0.5, vjust=0.0, angle=90)) + \n",
    "  # set the font styles for the value labels that show on each axis\n",
    "  theme(axis.text.x  = element_text(face=\"plain\", color=\"black\", size=14, hjust=0.5, vjust=0.0, angle=0)) + \n",
    "  theme(axis.text.y  = element_text(face=\"plain\", color=\"black\", size=12, hjust=0.0, vjust=0.5, angle=0)) + \n",
    "  # set the font styles for the legend\n",
    "  theme(legend.title = element_text(face=\"bold\", color=\"black\", size=14, hjust=0.5, vjust=0.0, angle=0)) +\n",
    "  theme(legend.text  = element_text(face=\"plain\", color=\"black\", size=14, hjust=0.5, vjust=0.0, angle=0)) +\n",
    "  # create the plot lines, points, and error bars\n",
    "  geom_line(aes(linetype=X2), position=position_dodge(0.05)) + \n",
    "  geom_point(aes(shape=X2, size=X2), position=position_dodge(0.05)) + \n",
    "  geom_errorbar(aes(ymin=Mean-SD, ymax=Mean+SD), position=position_dodge(0.05), width=0.1) + \n",
    "  # place text labels on each bar\n",
    "  geom_text(aes(label=sprintf(\"%.2f (±%.2f)\", Mean, SD)), position=position_dodge(0.05), hjust=0.0, vjust=-1.0, color=\"black\", size=3.5) +\n",
    "  # set the labels for the title and each axis\n",
    "  labs(title=\"Y by X1, X2\", x=\"X1\", y=\"Y\") + \n",
    "  # set the ranges and value labels for each axis\n",
    "  scale_x_discrete(labels=c(\"a\",\"b\")) + \n",
    "  scale_y_continuous(breaks=seq(0,20,by=5), labels=seq(0,20,by=5), limits=c(0,20), oob=rescale_none) + \n",
    "  # set the name, labels, and colors for the traces\n",
    "  scale_color_manual(name=\"X2\", labels=c(\"a\",\"b\"), values=c(\"red\", \"blue\")) +\n",
    "  # set the size and shape of the points\n",
    "  scale_size_manual(values=c(4,4)) +\n",
    "  scale_shape_manual(values=c(16,10)) +\n",
    "  # set the linetype of the lines\n",
    "  scale_linetype_manual(values=c(\"solid\", \"longdash\"))"
   ]
  },
  {
   "cell_type": "markdown",
   "id": "48a1104e-721e-4dcc-ae03-4c685249f497",
   "metadata": {},
   "source": [
    "## Linear Model (LM)\n",
    "\n",
    "* **Samples:** `≥2`\n",
    "* **Levels:** `≥2`\n",
    "* **Between or Within Subjects:** Between\n",
    "* **Reporting:** \"Figure 8 shows an interaction plot with ±1 standard deviation error bars for X1 and X2. An analysis of variance indicated a statistically significant effect on Y of X1 (F(1, 56) = 9.35, p < .01) and X2 (F(1, 56) = 4.30, p < .05), but not of the X1×X2 interaction (F(1, 56) = 0.42, n.s.).\""
   ]
  },
  {
   "cell_type": "code",
   "execution_count": 14,
   "id": "f078a813-de50-482c-89f7-29e81d9cdfd2",
   "metadata": {
    "vscode": {
     "languageId": "r"
    }
   },
   "outputs": [
    {
     "data": {
      "text/html": [
       "<table class=\"dataframe\">\n",
       "<caption>A data.frame: 20 × 4</caption>\n",
       "<thead>\n",
       "\t<tr><th></th><th scope=col>S</th><th scope=col>X1</th><th scope=col>X2</th><th scope=col>Y</th></tr>\n",
       "\t<tr><th></th><th scope=col>&lt;int&gt;</th><th scope=col>&lt;chr&gt;</th><th scope=col>&lt;chr&gt;</th><th scope=col>&lt;dbl&gt;</th></tr>\n",
       "</thead>\n",
       "<tbody>\n",
       "\t<tr><th scope=row>1</th><td> 1</td><td>a</td><td>a</td><td> 9.939918</td></tr>\n",
       "\t<tr><th scope=row>2</th><td> 2</td><td>a</td><td>b</td><td>12.271865</td></tr>\n",
       "\t<tr><th scope=row>3</th><td> 3</td><td>b</td><td>a</td><td>11.062279</td></tr>\n",
       "\t<tr><th scope=row>4</th><td> 4</td><td>b</td><td>b</td><td>12.763591</td></tr>\n",
       "\t<tr><th scope=row>5</th><td> 5</td><td>a</td><td>a</td><td> 7.980861</td></tr>\n",
       "\t<tr><th scope=row>6</th><td> 6</td><td>a</td><td>b</td><td>10.468626</td></tr>\n",
       "\t<tr><th scope=row>7</th><td> 7</td><td>b</td><td>a</td><td>21.071315</td></tr>\n",
       "\t<tr><th scope=row>8</th><td> 8</td><td>b</td><td>b</td><td>15.270048</td></tr>\n",
       "\t<tr><th scope=row>9</th><td> 9</td><td>a</td><td>a</td><td>22.125037</td></tr>\n",
       "\t<tr><th scope=row>10</th><td>10</td><td>a</td><td>b</td><td>10.955709</td></tr>\n",
       "\t<tr><th scope=row>11</th><td>11</td><td>b</td><td>a</td><td>14.496724</td></tr>\n",
       "\t<tr><th scope=row>12</th><td>12</td><td>b</td><td>b</td><td>12.731080</td></tr>\n",
       "\t<tr><th scope=row>13</th><td>13</td><td>a</td><td>a</td><td>14.110583</td></tr>\n",
       "\t<tr><th scope=row>14</th><td>14</td><td>a</td><td>b</td><td>13.587539</td></tr>\n",
       "\t<tr><th scope=row>15</th><td>15</td><td>b</td><td>a</td><td>13.175990</td></tr>\n",
       "\t<tr><th scope=row>16</th><td>16</td><td>b</td><td>b</td><td>14.313530</td></tr>\n",
       "\t<tr><th scope=row>17</th><td>17</td><td>a</td><td>a</td><td>11.595727</td></tr>\n",
       "\t<tr><th scope=row>18</th><td>18</td><td>a</td><td>b</td><td>13.723466</td></tr>\n",
       "\t<tr><th scope=row>19</th><td>19</td><td>b</td><td>a</td><td>17.276898</td></tr>\n",
       "\t<tr><th scope=row>20</th><td>20</td><td>b</td><td>b</td><td>14.945042</td></tr>\n",
       "</tbody>\n",
       "</table>\n"
      ],
      "text/latex": [
       "A data.frame: 20 × 4\n",
       "\\begin{tabular}{r|llll}\n",
       "  & S & X1 & X2 & Y\\\\\n",
       "  & <int> & <chr> & <chr> & <dbl>\\\\\n",
       "\\hline\n",
       "\t1 &  1 & a & a &  9.939918\\\\\n",
       "\t2 &  2 & a & b & 12.271865\\\\\n",
       "\t3 &  3 & b & a & 11.062279\\\\\n",
       "\t4 &  4 & b & b & 12.763591\\\\\n",
       "\t5 &  5 & a & a &  7.980861\\\\\n",
       "\t6 &  6 & a & b & 10.468626\\\\\n",
       "\t7 &  7 & b & a & 21.071315\\\\\n",
       "\t8 &  8 & b & b & 15.270048\\\\\n",
       "\t9 &  9 & a & a & 22.125037\\\\\n",
       "\t10 & 10 & a & b & 10.955709\\\\\n",
       "\t11 & 11 & b & a & 14.496724\\\\\n",
       "\t12 & 12 & b & b & 12.731080\\\\\n",
       "\t13 & 13 & a & a & 14.110583\\\\\n",
       "\t14 & 14 & a & b & 13.587539\\\\\n",
       "\t15 & 15 & b & a & 13.175990\\\\\n",
       "\t16 & 16 & b & b & 14.313530\\\\\n",
       "\t17 & 17 & a & a & 11.595727\\\\\n",
       "\t18 & 18 & a & b & 13.723466\\\\\n",
       "\t19 & 19 & b & a & 17.276898\\\\\n",
       "\t20 & 20 & b & b & 14.945042\\\\\n",
       "\\end{tabular}\n"
      ],
      "text/markdown": [
       "\n",
       "A data.frame: 20 × 4\n",
       "\n",
       "| <!--/--> | S &lt;int&gt; | X1 &lt;chr&gt; | X2 &lt;chr&gt; | Y &lt;dbl&gt; |\n",
       "|---|---|---|---|---|\n",
       "| 1 |  1 | a | a |  9.939918 |\n",
       "| 2 |  2 | a | b | 12.271865 |\n",
       "| 3 |  3 | b | a | 11.062279 |\n",
       "| 4 |  4 | b | b | 12.763591 |\n",
       "| 5 |  5 | a | a |  7.980861 |\n",
       "| 6 |  6 | a | b | 10.468626 |\n",
       "| 7 |  7 | b | a | 21.071315 |\n",
       "| 8 |  8 | b | b | 15.270048 |\n",
       "| 9 |  9 | a | a | 22.125037 |\n",
       "| 10 | 10 | a | b | 10.955709 |\n",
       "| 11 | 11 | b | a | 14.496724 |\n",
       "| 12 | 12 | b | b | 12.731080 |\n",
       "| 13 | 13 | a | a | 14.110583 |\n",
       "| 14 | 14 | a | b | 13.587539 |\n",
       "| 15 | 15 | b | a | 13.175990 |\n",
       "| 16 | 16 | b | b | 14.313530 |\n",
       "| 17 | 17 | a | a | 11.595727 |\n",
       "| 18 | 18 | a | b | 13.723466 |\n",
       "| 19 | 19 | b | a | 17.276898 |\n",
       "| 20 | 20 | b | b | 14.945042 |\n",
       "\n"
      ],
      "text/plain": [
       "   S  X1 X2 Y        \n",
       "1   1 a  a   9.939918\n",
       "2   2 a  b  12.271865\n",
       "3   3 b  a  11.062279\n",
       "4   4 b  b  12.763591\n",
       "5   5 a  a   7.980861\n",
       "6   6 a  b  10.468626\n",
       "7   7 b  a  21.071315\n",
       "8   8 b  b  15.270048\n",
       "9   9 a  a  22.125037\n",
       "10 10 a  b  10.955709\n",
       "11 11 b  a  14.496724\n",
       "12 12 b  b  12.731080\n",
       "13 13 a  a  14.110583\n",
       "14 14 a  b  13.587539\n",
       "15 15 b  a  13.175990\n",
       "16 16 b  b  14.313530\n",
       "17 17 a  a  11.595727\n",
       "18 18 a  b  13.723466\n",
       "19 19 b  a  17.276898\n",
       "20 20 b  b  14.945042"
      ]
     },
     "metadata": {},
     "output_type": "display_data"
    }
   ],
   "source": [
    "# Example data\n",
    "# df has subjects (S), two between-Ss factors (X1,X2) each w/levels (a,b), and continuous response (Y)\n",
    "df <- read.csv(\"data/2F2LBs.csv\")\n",
    "head(df, 20)"
   ]
  },
  {
   "cell_type": "code",
   "execution_count": 15,
   "id": "19bdbacd-d73b-407a-8ab2-66a471213b20",
   "metadata": {
    "vscode": {
     "languageId": "r"
    }
   },
   "outputs": [
    {
     "data": {
      "text/html": [
       "<table class=\"dataframe\">\n",
       "<caption>A anova: 4 × 5</caption>\n",
       "<thead>\n",
       "\t<tr><th></th><th scope=col>Df</th><th scope=col>Sum Sq</th><th scope=col>Mean Sq</th><th scope=col>F value</th><th scope=col>Pr(&gt;F)</th></tr>\n",
       "\t<tr><th></th><th scope=col>&lt;int&gt;</th><th scope=col>&lt;dbl&gt;</th><th scope=col>&lt;dbl&gt;</th><th scope=col>&lt;dbl&gt;</th><th scope=col>&lt;dbl&gt;</th></tr>\n",
       "</thead>\n",
       "<tbody>\n",
       "\t<tr><th scope=row>X1</th><td> 1</td><td> 60.039468</td><td>60.039468</td><td>9.3545564</td><td>0.003408605</td></tr>\n",
       "\t<tr><th scope=row>X2</th><td> 1</td><td> 27.571854</td><td>27.571854</td><td>4.2958818</td><td>0.042819437</td></tr>\n",
       "\t<tr><th scope=row>X1:X2</th><td> 1</td><td>  2.665445</td><td> 2.665445</td><td>0.4152944</td><td>0.521925508</td></tr>\n",
       "\t<tr><th scope=row>Residuals</th><td>56</td><td>359.419527</td><td> 6.418206</td><td>       NA</td><td>         NA</td></tr>\n",
       "</tbody>\n",
       "</table>\n"
      ],
      "text/latex": [
       "A anova: 4 × 5\n",
       "\\begin{tabular}{r|lllll}\n",
       "  & Df & Sum Sq & Mean Sq & F value & Pr(>F)\\\\\n",
       "  & <int> & <dbl> & <dbl> & <dbl> & <dbl>\\\\\n",
       "\\hline\n",
       "\tX1 &  1 &  60.039468 & 60.039468 & 9.3545564 & 0.003408605\\\\\n",
       "\tX2 &  1 &  27.571854 & 27.571854 & 4.2958818 & 0.042819437\\\\\n",
       "\tX1:X2 &  1 &   2.665445 &  2.665445 & 0.4152944 & 0.521925508\\\\\n",
       "\tResiduals & 56 & 359.419527 &  6.418206 &        NA &          NA\\\\\n",
       "\\end{tabular}\n"
      ],
      "text/markdown": [
       "\n",
       "A anova: 4 × 5\n",
       "\n",
       "| <!--/--> | Df &lt;int&gt; | Sum Sq &lt;dbl&gt; | Mean Sq &lt;dbl&gt; | F value &lt;dbl&gt; | Pr(&gt;F) &lt;dbl&gt; |\n",
       "|---|---|---|---|---|---|\n",
       "| X1 |  1 |  60.039468 | 60.039468 | 9.3545564 | 0.003408605 |\n",
       "| X2 |  1 |  27.571854 | 27.571854 | 4.2958818 | 0.042819437 |\n",
       "| X1:X2 |  1 |   2.665445 |  2.665445 | 0.4152944 | 0.521925508 |\n",
       "| Residuals | 56 | 359.419527 |  6.418206 |        NA |          NA |\n",
       "\n"
      ],
      "text/plain": [
       "          Df Sum Sq     Mean Sq   F value   Pr(>F)     \n",
       "X1         1  60.039468 60.039468 9.3545564 0.003408605\n",
       "X2         1  27.571854 27.571854 4.2958818 0.042819437\n",
       "X1:X2      1   2.665445  2.665445 0.4152944 0.521925508\n",
       "Residuals 56 359.419527  6.418206        NA          NA"
      ]
     },
     "metadata": {},
     "output_type": "display_data"
    }
   ],
   "source": [
    "df$S = factor(df$S) # Subject id is nominal (unused)\n",
    "df$X1 = factor(df$X1) # X1 is a 2-level factor\n",
    "df$X2 = factor(df$X2) # X2 is a 2-level factor\n",
    "m = lm(Y ~ X1*X2, data=df)\n",
    "anova(m)"
   ]
  },
  {
   "cell_type": "code",
   "execution_count": 18,
   "id": "0a25d332-bd7b-4ee2-92c0-fa053258bd1c",
   "metadata": {
    "vscode": {
     "languageId": "r"
    }
   },
   "outputs": [
    {
     "data": {
      "image/png": "[encoded data removed]",
      "text/plain": [
       "plot without title"
      ]
     },
     "metadata": {
      "image/png": {
       "height": 420,
       "width": 420
      }
     },
     "output_type": "display_data"
    }
   ],
   "source": [
    "library(ggplot2)\n",
    "library(ggthemes)\n",
    "library(scales)\n",
    "library(plyr)\n",
    "\n",
    "# Interaction plot\n",
    "# http://www.sthda.com/english/wiki/ggplot2-line-plot-quick-start-guide-r-software-and-data-visualization\n",
    "# http://www.sthda.com/english/wiki/ggplot2-error-bars-quick-start-guide-r-software-and-data-visualization\n",
    "# http://www.sthda.com/english/wiki/ggplot2-point-shapes\n",
    "# http://www.sthda.com/english/wiki/ggplot2-line-types-how-to-change-line-types-of-a-graph-in-r-software\n",
    "df2 <- ddply(df, ~ X1*X2, function(d) # make a summary data table\n",
    "  c(NROW(d$Y),\n",
    "    sum(is.na(d$Y)),\n",
    "    sum(!is.na(d$Y)),\n",
    "    mean(d$Y, na.rm=TRUE),\n",
    "    sd(d$Y, na.rm=TRUE),\n",
    "    median(d$Y, na.rm=TRUE),\n",
    "    IQR(d$Y, na.rm=TRUE)))\n",
    "colnames(df2) <- c(\"X1\",\"X2\",\"Rows\",\"NAs\",\"NotNAs\",\"Mean\",\"SD\",\"Median\",\"IQR\")\n",
    "ggplot(data=df2, aes(x=X1, y=Mean, color=X2, group=X2)) + theme_minimal() + \n",
    "  # set the font styles for the plot title and axis titles\n",
    "  theme(plot.title   = element_text(face=\"bold\",  color=\"black\", size=18, hjust=0.5, vjust=0.0, angle=0)) + \n",
    "  theme(axis.title.x = element_text(face=\"bold\",  color=\"black\", size=16, hjust=0.5, vjust=0.0, angle=0)) + \n",
    "  theme(axis.title.y = element_text(face=\"bold\",  color=\"black\", size=16, hjust=0.5, vjust=0.0, angle=90)) + \n",
    "  # set the font styles for the value labels that show on each axis\n",
    "  theme(axis.text.x  = element_text(face=\"plain\", color=\"black\", size=14, hjust=0.5, vjust=0.0, angle=0)) + \n",
    "  theme(axis.text.y  = element_text(face=\"plain\", color=\"black\", size=12, hjust=0.0, vjust=0.5, angle=0)) + \n",
    "  # set the font styles for the legend\n",
    "  theme(legend.title = element_text(face=\"bold\", color=\"black\", size=14, hjust=0.5, vjust=0.0, angle=0)) +\n",
    "  theme(legend.text  = element_text(face=\"plain\", color=\"black\", size=14, hjust=0.5, vjust=0.0, angle=0)) +\n",
    "  # create the plot lines, points, and error bars\n",
    "  geom_line(aes(linetype=X2), position=position_dodge(0.05)) + \n",
    "  geom_point(aes(shape=X2, size=X2), position=position_dodge(0.05)) + \n",
    "  geom_errorbar(aes(ymin=Mean-SD, ymax=Mean+SD), position=position_dodge(0.05), width=0.1) + \n",
    "  # place text labels on each bar\n",
    "  geom_text(aes(label=sprintf(\"%.2f (±%.2f)\", Mean, SD)), position=position_dodge(0.05), hjust=0.0, vjust=-1.0, color=\"black\", size=3.5) +\n",
    "  # set the labels for the title and each axis\n",
    "  labs(title=\"Y by X1, X2\", x=\"X1\", y=\"Y\") + \n",
    "  # set the ranges and value labels for each axis\n",
    "  scale_x_discrete(labels=c(\"a\",\"b\")) + \n",
    "  scale_y_continuous(breaks=seq(0,20,by=5), labels=seq(0,20,by=5), limits=c(0,20), oob=rescale_none) + \n",
    "  # set the name, labels, and colors for the traces\n",
    "  scale_color_manual(name=\"X2\", labels=c(\"a\",\"b\"), values=c(\"red\", \"blue\")) +\n",
    "  # set the size and shape of the points\n",
    "  scale_size_manual(values=c(4,4)) +\n",
    "  scale_shape_manual(values=c(16,10)) +\n",
    "  # set the linetype of the lines\n",
    "  scale_linetype_manual(values=c(\"solid\", \"longdash\"))"
   ]
  },
  {
   "cell_type": "markdown",
   "id": "cef44a6d-3ed8-437d-8ac1-f3dcb9ea680b",
   "metadata": {},
   "source": [
    "## Factorial Repeated Measures ANOVA\n",
    "\n",
    "* **Samples:** `≥2`\n",
    "* **Levels:** `≥2`\n",
    "* **Between or Within Subjects:** Within\n",
    "* **Reporting:** \"Figure 9 shows an interaction plot with ±1 standard deviation error bars for X1 and X2. A factorial repeated measures ANOVA indicated a statistically significant effect on Y of X1 (F(1, 14) = 5.45, p < .05), but not of X2 (F(1, 14) = 0.18, n.s.), or of the X1×X2 interaction (F(1, 14) = 0.12, n.s.).\""
   ]
  },
  {
   "cell_type": "code",
   "execution_count": 26,
   "id": "40c6aa5f-3555-40c9-9322-d659f62138d3",
   "metadata": {
    "vscode": {
     "languageId": "r"
    }
   },
   "outputs": [
    {
     "data": {
      "text/html": [
       "<table class=\"dataframe\">\n",
       "<caption>A data.frame: 20 × 4</caption>\n",
       "<thead>\n",
       "\t<tr><th></th><th scope=col>S</th><th scope=col>X1</th><th scope=col>X2</th><th scope=col>Y</th></tr>\n",
       "\t<tr><th></th><th scope=col>&lt;int&gt;</th><th scope=col>&lt;chr&gt;</th><th scope=col>&lt;chr&gt;</th><th scope=col>&lt;dbl&gt;</th></tr>\n",
       "</thead>\n",
       "<tbody>\n",
       "\t<tr><th scope=row>1</th><td>1</td><td>a</td><td>a</td><td>11.4749213</td></tr>\n",
       "\t<tr><th scope=row>2</th><td>1</td><td>a</td><td>b</td><td>14.8431021</td></tr>\n",
       "\t<tr><th scope=row>3</th><td>1</td><td>b</td><td>a</td><td> 0.1430649</td></tr>\n",
       "\t<tr><th scope=row>4</th><td>1</td><td>b</td><td>b</td><td>15.0210806</td></tr>\n",
       "\t<tr><th scope=row>5</th><td>2</td><td>a</td><td>a</td><td>16.9487115</td></tr>\n",
       "\t<tr><th scope=row>6</th><td>2</td><td>a</td><td>b</td><td>12.9088880</td></tr>\n",
       "\t<tr><th scope=row>7</th><td>2</td><td>b</td><td>a</td><td> 7.3433619</td></tr>\n",
       "\t<tr><th scope=row>8</th><td>2</td><td>b</td><td>b</td><td>11.1885220</td></tr>\n",
       "\t<tr><th scope=row>9</th><td>3</td><td>a</td><td>a</td><td>12.3397073</td></tr>\n",
       "\t<tr><th scope=row>10</th><td>3</td><td>a</td><td>b</td><td>14.8390688</td></tr>\n",
       "\t<tr><th scope=row>11</th><td>3</td><td>b</td><td>a</td><td>21.5131754</td></tr>\n",
       "\t<tr><th scope=row>12</th><td>3</td><td>b</td><td>b</td><td> 0.2390247</td></tr>\n",
       "\t<tr><th scope=row>13</th><td>4</td><td>a</td><td>a</td><td>11.7081257</td></tr>\n",
       "\t<tr><th scope=row>14</th><td>4</td><td>a</td><td>b</td><td>13.8740498</td></tr>\n",
       "\t<tr><th scope=row>15</th><td>4</td><td>b</td><td>a</td><td> 4.3615137</td></tr>\n",
       "\t<tr><th scope=row>16</th><td>4</td><td>b</td><td>b</td><td> 2.3686943</td></tr>\n",
       "\t<tr><th scope=row>17</th><td>5</td><td>a</td><td>a</td><td>15.3668561</td></tr>\n",
       "\t<tr><th scope=row>18</th><td>5</td><td>a</td><td>b</td><td>13.6340391</td></tr>\n",
       "\t<tr><th scope=row>19</th><td>5</td><td>b</td><td>a</td><td> 4.9401806</td></tr>\n",
       "\t<tr><th scope=row>20</th><td>5</td><td>b</td><td>b</td><td>13.5781464</td></tr>\n",
       "</tbody>\n",
       "</table>\n"
      ],
      "text/latex": [
       "A data.frame: 20 × 4\n",
       "\\begin{tabular}{r|llll}\n",
       "  & S & X1 & X2 & Y\\\\\n",
       "  & <int> & <chr> & <chr> & <dbl>\\\\\n",
       "\\hline\n",
       "\t1 & 1 & a & a & 11.4749213\\\\\n",
       "\t2 & 1 & a & b & 14.8431021\\\\\n",
       "\t3 & 1 & b & a &  0.1430649\\\\\n",
       "\t4 & 1 & b & b & 15.0210806\\\\\n",
       "\t5 & 2 & a & a & 16.9487115\\\\\n",
       "\t6 & 2 & a & b & 12.9088880\\\\\n",
       "\t7 & 2 & b & a &  7.3433619\\\\\n",
       "\t8 & 2 & b & b & 11.1885220\\\\\n",
       "\t9 & 3 & a & a & 12.3397073\\\\\n",
       "\t10 & 3 & a & b & 14.8390688\\\\\n",
       "\t11 & 3 & b & a & 21.5131754\\\\\n",
       "\t12 & 3 & b & b &  0.2390247\\\\\n",
       "\t13 & 4 & a & a & 11.7081257\\\\\n",
       "\t14 & 4 & a & b & 13.8740498\\\\\n",
       "\t15 & 4 & b & a &  4.3615137\\\\\n",
       "\t16 & 4 & b & b &  2.3686943\\\\\n",
       "\t17 & 5 & a & a & 15.3668561\\\\\n",
       "\t18 & 5 & a & b & 13.6340391\\\\\n",
       "\t19 & 5 & b & a &  4.9401806\\\\\n",
       "\t20 & 5 & b & b & 13.5781464\\\\\n",
       "\\end{tabular}\n"
      ],
      "text/markdown": [
       "\n",
       "A data.frame: 20 × 4\n",
       "\n",
       "| <!--/--> | S &lt;int&gt; | X1 &lt;chr&gt; | X2 &lt;chr&gt; | Y &lt;dbl&gt; |\n",
       "|---|---|---|---|---|\n",
       "| 1 | 1 | a | a | 11.4749213 |\n",
       "| 2 | 1 | a | b | 14.8431021 |\n",
       "| 3 | 1 | b | a |  0.1430649 |\n",
       "| 4 | 1 | b | b | 15.0210806 |\n",
       "| 5 | 2 | a | a | 16.9487115 |\n",
       "| 6 | 2 | a | b | 12.9088880 |\n",
       "| 7 | 2 | b | a |  7.3433619 |\n",
       "| 8 | 2 | b | b | 11.1885220 |\n",
       "| 9 | 3 | a | a | 12.3397073 |\n",
       "| 10 | 3 | a | b | 14.8390688 |\n",
       "| 11 | 3 | b | a | 21.5131754 |\n",
       "| 12 | 3 | b | b |  0.2390247 |\n",
       "| 13 | 4 | a | a | 11.7081257 |\n",
       "| 14 | 4 | a | b | 13.8740498 |\n",
       "| 15 | 4 | b | a |  4.3615137 |\n",
       "| 16 | 4 | b | b |  2.3686943 |\n",
       "| 17 | 5 | a | a | 15.3668561 |\n",
       "| 18 | 5 | a | b | 13.6340391 |\n",
       "| 19 | 5 | b | a |  4.9401806 |\n",
       "| 20 | 5 | b | b | 13.5781464 |\n",
       "\n"
      ],
      "text/plain": [
       "   S X1 X2 Y         \n",
       "1  1 a  a  11.4749213\n",
       "2  1 a  b  14.8431021\n",
       "3  1 b  a   0.1430649\n",
       "4  1 b  b  15.0210806\n",
       "5  2 a  a  16.9487115\n",
       "6  2 a  b  12.9088880\n",
       "7  2 b  a   7.3433619\n",
       "8  2 b  b  11.1885220\n",
       "9  3 a  a  12.3397073\n",
       "10 3 a  b  14.8390688\n",
       "11 3 b  a  21.5131754\n",
       "12 3 b  b   0.2390247\n",
       "13 4 a  a  11.7081257\n",
       "14 4 a  b  13.8740498\n",
       "15 4 b  a   4.3615137\n",
       "16 4 b  b   2.3686943\n",
       "17 5 a  a  15.3668561\n",
       "18 5 a  b  13.6340391\n",
       "19 5 b  a   4.9401806\n",
       "20 5 b  b  13.5781464"
      ]
     },
     "metadata": {},
     "output_type": "display_data"
    }
   ],
   "source": [
    "# Example data\n",
    "# df has subjects (S), two within-Ss factors (X1,X2) each w/levels (a,b), and continuous response (Y)\n",
    "df <- read.csv(\"data/2F2LWs.csv\")\n",
    "head(df, 20)"
   ]
  },
  {
   "cell_type": "code",
   "execution_count": 27,
   "id": "96b0bba2-1307-44cc-9912-e962598717ee",
   "metadata": {
    "vscode": {
     "languageId": "r"
    }
   },
   "outputs": [
    {
     "data": {
      "text/plain": [
       "NULL"
      ]
     },
     "metadata": {},
     "output_type": "display_data"
    }
   ],
   "source": [
    "library(ez) # for ezANOVA\n",
    "\n",
    "df$S = factor(df$S) # Subject id is nominal\n",
    "df$X1 = factor(df$X1) # X1 is a 2-level factor\n",
    "df$X2 = factor(df$X2) # X2 is a 2-level factor\n",
    "\n",
    "m = ezANOVA(dv=Y, within=c(X1,X2), wid=S, type=3, data=df) # use c() for >1 factors\n",
    "m$Mauchly # p<.05 indicates a sphericity violation"
   ]
  },
  {
   "cell_type": "code",
   "execution_count": 28,
   "id": "645b631f-7056-4bb8-b0fe-2a37d3919c28",
   "metadata": {
    "vscode": {
     "languageId": "r"
    }
   },
   "outputs": [
    {
     "data": {
      "text/html": [
       "<table class=\"dataframe\">\n",
       "<caption>A data.frame: 3 × 7</caption>\n",
       "<thead>\n",
       "\t<tr><th></th><th scope=col>Effect</th><th scope=col>DFn</th><th scope=col>DFd</th><th scope=col>F</th><th scope=col>p</th><th scope=col>p&lt;.05</th><th scope=col>ges</th></tr>\n",
       "\t<tr><th></th><th scope=col>&lt;chr&gt;</th><th scope=col>&lt;dbl&gt;</th><th scope=col>&lt;dbl&gt;</th><th scope=col>&lt;dbl&gt;</th><th scope=col>&lt;dbl&gt;</th><th scope=col>&lt;chr&gt;</th><th scope=col>&lt;dbl&gt;</th></tr>\n",
       "</thead>\n",
       "<tbody>\n",
       "\t<tr><th scope=row>2</th><td>X1   </td><td>1</td><td>14</td><td>5.4537088</td><td>0.03492658</td><td>*</td><td>0.070392015</td></tr>\n",
       "\t<tr><th scope=row>3</th><td>X2   </td><td>1</td><td>14</td><td>0.1797949</td><td>0.67799256</td><td> </td><td>0.003762924</td></tr>\n",
       "\t<tr><th scope=row>4</th><td>X1:X2</td><td>1</td><td>14</td><td>0.1223175</td><td>0.73173975</td><td> </td><td>0.002019078</td></tr>\n",
       "</tbody>\n",
       "</table>\n"
      ],
      "text/latex": [
       "A data.frame: 3 × 7\n",
       "\\begin{tabular}{r|lllllll}\n",
       "  & Effect & DFn & DFd & F & p & p<.05 & ges\\\\\n",
       "  & <chr> & <dbl> & <dbl> & <dbl> & <dbl> & <chr> & <dbl>\\\\\n",
       "\\hline\n",
       "\t2 & X1    & 1 & 14 & 5.4537088 & 0.03492658 & * & 0.070392015\\\\\n",
       "\t3 & X2    & 1 & 14 & 0.1797949 & 0.67799256 &   & 0.003762924\\\\\n",
       "\t4 & X1:X2 & 1 & 14 & 0.1223175 & 0.73173975 &   & 0.002019078\\\\\n",
       "\\end{tabular}\n"
      ],
      "text/markdown": [
       "\n",
       "A data.frame: 3 × 7\n",
       "\n",
       "| <!--/--> | Effect &lt;chr&gt; | DFn &lt;dbl&gt; | DFd &lt;dbl&gt; | F &lt;dbl&gt; | p &lt;dbl&gt; | p&lt;.05 &lt;chr&gt; | ges &lt;dbl&gt; |\n",
       "|---|---|---|---|---|---|---|---|\n",
       "| 2 | X1    | 1 | 14 | 5.4537088 | 0.03492658 | * | 0.070392015 |\n",
       "| 3 | X2    | 1 | 14 | 0.1797949 | 0.67799256 | <!----> | 0.003762924 |\n",
       "| 4 | X1:X2 | 1 | 14 | 0.1223175 | 0.73173975 | <!----> | 0.002019078 |\n",
       "\n"
      ],
      "text/plain": [
       "  Effect DFn DFd F         p          p<.05 ges        \n",
       "2 X1     1   14  5.4537088 0.03492658 *     0.070392015\n",
       "3 X2     1   14  0.1797949 0.67799256       0.003762924\n",
       "4 X1:X2  1   14  0.1223175 0.73173975       0.002019078"
      ]
     },
     "metadata": {},
     "output_type": "display_data"
    }
   ],
   "source": [
    "m$ANOVA # use if no violation"
   ]
  },
  {
   "cell_type": "code",
   "execution_count": 29,
   "id": "8a1f1fc4-6b57-409c-ba1d-0b7ecb179aac",
   "metadata": {
    "vscode": {
     "languageId": "r"
    }
   },
   "outputs": [
    {
     "data": {
      "text/html": [
       "<dl>\n",
       "\t<dt>$GGe.DFn</dt>\n",
       "\t\t<dd></dd>\n",
       "\t<dt>$GGe.DFd</dt>\n",
       "\t\t<dd></dd>\n",
       "\t<dt>$HFe.DFn</dt>\n",
       "\t\t<dd></dd>\n",
       "\t<dt>$HFe.DFd</dt>\n",
       "\t\t<dd></dd>\n",
       "</dl>\n"
      ],
      "text/latex": [
       "\\begin{description}\n",
       "\\item[\\$GGe.DFn] \n",
       "\\item[\\$GGe.DFd] \n",
       "\\item[\\$HFe.DFn] \n",
       "\\item[\\$HFe.DFd] \n",
       "\\end{description}\n"
      ],
      "text/markdown": [
       "$GGe.DFn\n",
       ":   \n",
       "$GGe.DFd\n",
       ":   \n",
       "$HFe.DFn\n",
       ":   \n",
       "$HFe.DFd\n",
       ":   \n",
       "\n",
       "\n"
      ],
      "text/plain": [
       "$GGe.DFn\n",
       "numeric(0)\n",
       "\n",
       "$GGe.DFd\n",
       "numeric(0)\n",
       "\n",
       "$HFe.DFn\n",
       "numeric(0)\n",
       "\n",
       "$HFe.DFd\n",
       "numeric(0)\n"
      ]
     },
     "metadata": {},
     "output_type": "display_data"
    }
   ],
   "source": [
    "# if there is a sphericity violation, report the Greenhouse-Geisser or Huynh-Feldt correction\n",
    "p = match(m$Sphericity$Effect, m$ANOVA$Effect) # positions of within-Ss effects in m$ANOVA\n",
    "m$Sphericity$GGe.DFn = m$Sphericity$GGe * m$ANOVA$DFn[p] # Greenhouse-Geisser DFs\n",
    "m$Sphericity$GGe.DFd = m$Sphericity$GGe * m$ANOVA$DFd[p]\n",
    "m$Sphericity$HFe.DFn = m$Sphericity$HFe * m$ANOVA$DFn[p] # Huynh-Feldt DFs\n",
    "m$Sphericity$HFe.DFd = m$Sphericity$HFe * m$ANOVA$DFd[p]\n",
    "m$Sphericity # show results"
   ]
  },
  {
   "cell_type": "code",
   "execution_count": 30,
   "id": "df267f65-f620-44ca-9046-3165759d2347",
   "metadata": {
    "vscode": {
     "languageId": "r"
    }
   },
   "outputs": [
    {
     "data": {
      "text/plain": [
       "\n",
       "Error: S\n",
       "          Df Sum Sq Mean Sq F value Pr(>F)\n",
       "Residuals 14  592.5   42.32               \n",
       "\n",
       "Error: S:X1\n",
       "          Df Sum Sq Mean Sq F value Pr(>F)  \n",
       "X1         1  160.3  160.28   5.454 0.0349 *\n",
       "Residuals 14  411.4   29.39                 \n",
       "---\n",
       "Signif. codes:  0 ‘***’ 0.001 ‘**’ 0.01 ‘*’ 0.05 ‘.’ 0.1 ‘ ’ 1\n",
       "\n",
       "Error: S:X2\n",
       "          Df Sum Sq Mean Sq F value Pr(>F)\n",
       "X2         1    8.0    8.00    0.18  0.678\n",
       "Residuals 14  622.5   44.47               \n",
       "\n",
       "Error: S:X1:X2\n",
       "          Df Sum Sq Mean Sq F value Pr(>F)\n",
       "X1:X2      1    4.3    4.28   0.122  0.732\n",
       "Residuals 14  490.1   35.01               "
      ]
     },
     "metadata": {},
     "output_type": "display_data"
    }
   ],
   "source": [
    "# the following also performs the equivalent repeated measures ANOVA, but does not address sphericity\n",
    "m = aov(Y ~ X1*X2 + Error(S/(X1*X2)), data=df)\n",
    "summary(m)"
   ]
  },
  {
   "cell_type": "code",
   "execution_count": 33,
   "id": "040dbc37-94be-4934-8559-f21a5ece3c03",
   "metadata": {
    "vscode": {
     "languageId": "r"
    }
   },
   "outputs": [
    {
     "data": {
      "image/png": "[encoded data removed]",
      "text/plain": [
       "plot without title"
      ]
     },
     "metadata": {
      "image/png": {
       "height": 420,
       "width": 420
      }
     },
     "output_type": "display_data"
    }
   ],
   "source": [
    "# Interaction plot\n",
    "# http://www.sthda.com/english/wiki/ggplot2-line-plot-quick-start-guide-r-software-and-data-visualization\n",
    "# http://www.sthda.com/english/wiki/ggplot2-error-bars-quick-start-guide-r-software-and-data-visualization\n",
    "# http://www.sthda.com/english/wiki/ggplot2-point-shapes\n",
    "# http://www.sthda.com/english/wiki/ggplot2-line-types-how-to-change-line-types-of-a-graph-in-r-software\n",
    "df2 <- ddply(df, ~ X1*X2, function(d) # make a summary data table\n",
    "  c(NROW(d$Y),\n",
    "    sum(is.na(d$Y)),\n",
    "    sum(!is.na(d$Y)),\n",
    "    mean(d$Y, na.rm=TRUE),\n",
    "    sd(d$Y, na.rm=TRUE),\n",
    "    median(d$Y, na.rm=TRUE),\n",
    "    IQR(d$Y, na.rm=TRUE)))\n",
    "colnames(df2) <- c(\"X1\",\"X2\",\"Rows\",\"NAs\",\"NotNAs\",\"Mean\",\"SD\",\"Median\",\"IQR\")\n",
    "ggplot(data=df2, aes(x=X1, y=Mean, color=X2, group=X2)) + theme_minimal() + \n",
    "  # set the font styles for the plot title and axis titles\n",
    "  theme(plot.title   = element_text(face=\"bold\",  color=\"black\", size=18, hjust=0.5, vjust=0.0, angle=0)) + \n",
    "  theme(axis.title.x = element_text(face=\"bold\",  color=\"black\", size=16, hjust=0.5, vjust=0.0, angle=0)) + \n",
    "  theme(axis.title.y = element_text(face=\"bold\",  color=\"black\", size=16, hjust=0.5, vjust=0.0, angle=90)) + \n",
    "  # set the font styles for the value labels that show on each axis\n",
    "  theme(axis.text.x  = element_text(face=\"plain\", color=\"black\", size=14, hjust=0.5, vjust=0.0, angle=0)) + \n",
    "  theme(axis.text.y  = element_text(face=\"plain\", color=\"black\", size=12, hjust=0.0, vjust=0.5, angle=0)) + \n",
    "  # set the font styles for the legend\n",
    "  theme(legend.title = element_text(face=\"bold\", color=\"black\", size=14, hjust=0.5, vjust=0.0, angle=0)) +\n",
    "  theme(legend.text  = element_text(face=\"plain\", color=\"black\", size=14, hjust=0.5, vjust=0.0, angle=0)) +\n",
    "  # create the plot lines, points, and error bars\n",
    "  geom_line(aes(linetype=X2), position=position_dodge(0.05)) + \n",
    "  geom_point(aes(shape=X2, size=X2), position=position_dodge(0.05)) + \n",
    "  geom_errorbar(aes(ymin=Mean-SD, ymax=Mean+SD), position=position_dodge(0.05), width=0.1) + \n",
    "  # place text labels on each bar\n",
    "  geom_text(aes(label=sprintf(\"%.2f (±%.2f)\", Mean, SD)), position=position_dodge(0.05), hjust=0.0, vjust=-1.0, color=\"black\", size=3.5) +\n",
    "  # set the labels for the title and each axis\n",
    "  labs(title=\"Y by X1, X2\", x=\"X1\", y=\"Y\") + \n",
    "  # set the ranges and value labels for each axis\n",
    "  scale_x_discrete(labels=c(\"a\",\"b\")) + \n",
    "  scale_y_continuous(breaks=seq(0,20,by=5), labels=seq(0,20,by=5), limits=c(0,20), oob=rescale_none) + \n",
    "  # set the name, labels, and colors for the traces\n",
    "  scale_color_manual(name=\"X2\", labels=c(\"a\",\"b\"), values=c(\"red\", \"blue\")) +\n",
    "  # set the size and shape of the points\n",
    "  scale_size_manual(values=c(4,4)) +\n",
    "  scale_shape_manual(values=c(16,10)) +\n",
    "  # set the linetype of the lines\n",
    "  scale_linetype_manual(values=c(\"solid\", \"longdash\"))"
   ]
  },
  {
   "cell_type": "markdown",
   "id": "dfea9298-a5b4-40ea-907a-4c9e5785c837",
   "metadata": {},
   "source": [
    "## Linear Mixed Model (LMM)\n",
    "\n",
    "* **Samples:** `≥2`\n",
    "* **Levels:** `≥2`\n",
    "* **Between or Within Subjects:** Within\n",
    "* **Reporting:** \"Figure 9 shows an interaction plot with ±1 standard deviation error bars for X1 and X2. A linear mixed model analysis of variance indicated a statistically significant effect on Y of X1 (F(1, 42) = 4.42, p < .05), but not of X2 (F(1, 42) = 0.22, n.s.), or of the X1×X2 interaction (F(1, 42) = 0.12, n.s.).\""
   ]
  },
  {
   "cell_type": "code",
   "execution_count": 31,
   "id": "2c04a1f2-efe9-4489-8be5-d828ebe8b06c",
   "metadata": {
    "vscode": {
     "languageId": "r"
    }
   },
   "outputs": [
    {
     "data": {
      "text/html": [
       "<table class=\"dataframe\">\n",
       "<caption>A data.frame: 20 × 4</caption>\n",
       "<thead>\n",
       "\t<tr><th></th><th scope=col>S</th><th scope=col>X1</th><th scope=col>X2</th><th scope=col>Y</th></tr>\n",
       "\t<tr><th></th><th scope=col>&lt;int&gt;</th><th scope=col>&lt;chr&gt;</th><th scope=col>&lt;chr&gt;</th><th scope=col>&lt;dbl&gt;</th></tr>\n",
       "</thead>\n",
       "<tbody>\n",
       "\t<tr><th scope=row>1</th><td>1</td><td>a</td><td>a</td><td>11.4749213</td></tr>\n",
       "\t<tr><th scope=row>2</th><td>1</td><td>a</td><td>b</td><td>14.8431021</td></tr>\n",
       "\t<tr><th scope=row>3</th><td>1</td><td>b</td><td>a</td><td> 0.1430649</td></tr>\n",
       "\t<tr><th scope=row>4</th><td>1</td><td>b</td><td>b</td><td>15.0210806</td></tr>\n",
       "\t<tr><th scope=row>5</th><td>2</td><td>a</td><td>a</td><td>16.9487115</td></tr>\n",
       "\t<tr><th scope=row>6</th><td>2</td><td>a</td><td>b</td><td>12.9088880</td></tr>\n",
       "\t<tr><th scope=row>7</th><td>2</td><td>b</td><td>a</td><td> 7.3433619</td></tr>\n",
       "\t<tr><th scope=row>8</th><td>2</td><td>b</td><td>b</td><td>11.1885220</td></tr>\n",
       "\t<tr><th scope=row>9</th><td>3</td><td>a</td><td>a</td><td>12.3397073</td></tr>\n",
       "\t<tr><th scope=row>10</th><td>3</td><td>a</td><td>b</td><td>14.8390688</td></tr>\n",
       "\t<tr><th scope=row>11</th><td>3</td><td>b</td><td>a</td><td>21.5131754</td></tr>\n",
       "\t<tr><th scope=row>12</th><td>3</td><td>b</td><td>b</td><td> 0.2390247</td></tr>\n",
       "\t<tr><th scope=row>13</th><td>4</td><td>a</td><td>a</td><td>11.7081257</td></tr>\n",
       "\t<tr><th scope=row>14</th><td>4</td><td>a</td><td>b</td><td>13.8740498</td></tr>\n",
       "\t<tr><th scope=row>15</th><td>4</td><td>b</td><td>a</td><td> 4.3615137</td></tr>\n",
       "\t<tr><th scope=row>16</th><td>4</td><td>b</td><td>b</td><td> 2.3686943</td></tr>\n",
       "\t<tr><th scope=row>17</th><td>5</td><td>a</td><td>a</td><td>15.3668561</td></tr>\n",
       "\t<tr><th scope=row>18</th><td>5</td><td>a</td><td>b</td><td>13.6340391</td></tr>\n",
       "\t<tr><th scope=row>19</th><td>5</td><td>b</td><td>a</td><td> 4.9401806</td></tr>\n",
       "\t<tr><th scope=row>20</th><td>5</td><td>b</td><td>b</td><td>13.5781464</td></tr>\n",
       "</tbody>\n",
       "</table>\n"
      ],
      "text/latex": [
       "A data.frame: 20 × 4\n",
       "\\begin{tabular}{r|llll}\n",
       "  & S & X1 & X2 & Y\\\\\n",
       "  & <int> & <chr> & <chr> & <dbl>\\\\\n",
       "\\hline\n",
       "\t1 & 1 & a & a & 11.4749213\\\\\n",
       "\t2 & 1 & a & b & 14.8431021\\\\\n",
       "\t3 & 1 & b & a &  0.1430649\\\\\n",
       "\t4 & 1 & b & b & 15.0210806\\\\\n",
       "\t5 & 2 & a & a & 16.9487115\\\\\n",
       "\t6 & 2 & a & b & 12.9088880\\\\\n",
       "\t7 & 2 & b & a &  7.3433619\\\\\n",
       "\t8 & 2 & b & b & 11.1885220\\\\\n",
       "\t9 & 3 & a & a & 12.3397073\\\\\n",
       "\t10 & 3 & a & b & 14.8390688\\\\\n",
       "\t11 & 3 & b & a & 21.5131754\\\\\n",
       "\t12 & 3 & b & b &  0.2390247\\\\\n",
       "\t13 & 4 & a & a & 11.7081257\\\\\n",
       "\t14 & 4 & a & b & 13.8740498\\\\\n",
       "\t15 & 4 & b & a &  4.3615137\\\\\n",
       "\t16 & 4 & b & b &  2.3686943\\\\\n",
       "\t17 & 5 & a & a & 15.3668561\\\\\n",
       "\t18 & 5 & a & b & 13.6340391\\\\\n",
       "\t19 & 5 & b & a &  4.9401806\\\\\n",
       "\t20 & 5 & b & b & 13.5781464\\\\\n",
       "\\end{tabular}\n"
      ],
      "text/markdown": [
       "\n",
       "A data.frame: 20 × 4\n",
       "\n",
       "| <!--/--> | S &lt;int&gt; | X1 &lt;chr&gt; | X2 &lt;chr&gt; | Y &lt;dbl&gt; |\n",
       "|---|---|---|---|---|\n",
       "| 1 | 1 | a | a | 11.4749213 |\n",
       "| 2 | 1 | a | b | 14.8431021 |\n",
       "| 3 | 1 | b | a |  0.1430649 |\n",
       "| 4 | 1 | b | b | 15.0210806 |\n",
       "| 5 | 2 | a | a | 16.9487115 |\n",
       "| 6 | 2 | a | b | 12.9088880 |\n",
       "| 7 | 2 | b | a |  7.3433619 |\n",
       "| 8 | 2 | b | b | 11.1885220 |\n",
       "| 9 | 3 | a | a | 12.3397073 |\n",
       "| 10 | 3 | a | b | 14.8390688 |\n",
       "| 11 | 3 | b | a | 21.5131754 |\n",
       "| 12 | 3 | b | b |  0.2390247 |\n",
       "| 13 | 4 | a | a | 11.7081257 |\n",
       "| 14 | 4 | a | b | 13.8740498 |\n",
       "| 15 | 4 | b | a |  4.3615137 |\n",
       "| 16 | 4 | b | b |  2.3686943 |\n",
       "| 17 | 5 | a | a | 15.3668561 |\n",
       "| 18 | 5 | a | b | 13.6340391 |\n",
       "| 19 | 5 | b | a |  4.9401806 |\n",
       "| 20 | 5 | b | b | 13.5781464 |\n",
       "\n"
      ],
      "text/plain": [
       "   S X1 X2 Y         \n",
       "1  1 a  a  11.4749213\n",
       "2  1 a  b  14.8431021\n",
       "3  1 b  a   0.1430649\n",
       "4  1 b  b  15.0210806\n",
       "5  2 a  a  16.9487115\n",
       "6  2 a  b  12.9088880\n",
       "7  2 b  a   7.3433619\n",
       "8  2 b  b  11.1885220\n",
       "9  3 a  a  12.3397073\n",
       "10 3 a  b  14.8390688\n",
       "11 3 b  a  21.5131754\n",
       "12 3 b  b   0.2390247\n",
       "13 4 a  a  11.7081257\n",
       "14 4 a  b  13.8740498\n",
       "15 4 b  a   4.3615137\n",
       "16 4 b  b   2.3686943\n",
       "17 5 a  a  15.3668561\n",
       "18 5 a  b  13.6340391\n",
       "19 5 b  a   4.9401806\n",
       "20 5 b  b  13.5781464"
      ]
     },
     "metadata": {},
     "output_type": "display_data"
    }
   ],
   "source": [
    "# Example data\n",
    "# df has subjects (S), two within-Ss factors (X1,X2) each w/levels (a,b), and continuous response (Y)\n",
    "df <- read.csv(\"data/2F2LWs.csv\")\n",
    "head(df, 20)"
   ]
  },
  {
   "cell_type": "code",
   "execution_count": 32,
   "id": "b05ba358-5774-42be-966b-920e6546dbf4",
   "metadata": {
    "vscode": {
     "languageId": "r"
    }
   },
   "outputs": [
    {
     "name": "stderr",
     "output_type": "stream",
     "text": [
      "Loading required package: Matrix\n",
      "\n",
      "Loading required package: carData\n",
      "\n"
     ]
    },
    {
     "data": {
      "text/html": [
       "<table class=\"dataframe\">\n",
       "<caption>A anova: 4 × 4</caption>\n",
       "<thead>\n",
       "\t<tr><th></th><th scope=col>F</th><th scope=col>Df</th><th scope=col>Df.res</th><th scope=col>Pr(&gt;F)</th></tr>\n",
       "\t<tr><th></th><th scope=col>&lt;dbl&gt;</th><th scope=col>&lt;dbl&gt;</th><th scope=col>&lt;dbl&gt;</th><th scope=col>&lt;dbl&gt;</th></tr>\n",
       "</thead>\n",
       "<tbody>\n",
       "\t<tr><th scope=row>(Intercept)</th><td>148.4297541</td><td>1</td><td>14</td><td>7.698544e-09</td></tr>\n",
       "\t<tr><th scope=row>X1</th><td>  4.4167657</td><td>1</td><td>42</td><td>4.162596e-02</td></tr>\n",
       "\t<tr><th scope=row>X2</th><td>  0.2203147</td><td>1</td><td>42</td><td>6.412279e-01</td></tr>\n",
       "\t<tr><th scope=row>X1:X2</th><td>  0.1180081</td><td>1</td><td>42</td><td>7.329188e-01</td></tr>\n",
       "</tbody>\n",
       "</table>\n"
      ],
      "text/latex": [
       "A anova: 4 × 4\n",
       "\\begin{tabular}{r|llll}\n",
       "  & F & Df & Df.res & Pr(>F)\\\\\n",
       "  & <dbl> & <dbl> & <dbl> & <dbl>\\\\\n",
       "\\hline\n",
       "\t(Intercept) & 148.4297541 & 1 & 14 & 7.698544e-09\\\\\n",
       "\tX1 &   4.4167657 & 1 & 42 & 4.162596e-02\\\\\n",
       "\tX2 &   0.2203147 & 1 & 42 & 6.412279e-01\\\\\n",
       "\tX1:X2 &   0.1180081 & 1 & 42 & 7.329188e-01\\\\\n",
       "\\end{tabular}\n"
      ],
      "text/markdown": [
       "\n",
       "A anova: 4 × 4\n",
       "\n",
       "| <!--/--> | F &lt;dbl&gt; | Df &lt;dbl&gt; | Df.res &lt;dbl&gt; | Pr(&gt;F) &lt;dbl&gt; |\n",
       "|---|---|---|---|---|\n",
       "| (Intercept) | 148.4297541 | 1 | 14 | 7.698544e-09 |\n",
       "| X1 |   4.4167657 | 1 | 42 | 4.162596e-02 |\n",
       "| X2 |   0.2203147 | 1 | 42 | 6.412279e-01 |\n",
       "| X1:X2 |   0.1180081 | 1 | 42 | 7.329188e-01 |\n",
       "\n"
      ],
      "text/plain": [
       "            F           Df Df.res Pr(>F)      \n",
       "(Intercept) 148.4297541 1  14     7.698544e-09\n",
       "X1            4.4167657 1  42     4.162596e-02\n",
       "X2            0.2203147 1  42     6.412279e-01\n",
       "X1:X2         0.1180081 1  42     7.329188e-01"
      ]
     },
     "metadata": {},
     "output_type": "display_data"
    }
   ],
   "source": [
    "library(lme4) # for lmer\n",
    "library(car) # for Anova\n",
    "df$S = factor(df$S) # Subject id is nominal\n",
    "df$X1 = factor(df$X1) # X1 is a 2-level factor\n",
    "df$X2 = factor(df$X2) # X2 is a 2-level factor\n",
    "contrasts(df$X1) <- \"contr.sum\"\n",
    "contrasts(df$X2) <- \"contr.sum\"\n",
    "m = lmer(Y ~ X1*X2 + (1|S), data=df)\n",
    "Anova(m, type=3, test.statistic=\"F\")"
   ]
  },
  {
   "cell_type": "code",
   "execution_count": 34,
   "id": "b2fbf392-41f7-4595-a443-2292d33715ba",
   "metadata": {
    "vscode": {
     "languageId": "r"
    }
   },
   "outputs": [
    {
     "data": {
      "image/png": "[encoded data removed]",
      "text/plain": [
       "plot without title"
      ]
     },
     "metadata": {
      "image/png": {
       "height": 420,
       "width": 420
      }
     },
     "output_type": "display_data"
    }
   ],
   "source": [
    "# Interaction plot\n",
    "# http://www.sthda.com/english/wiki/ggplot2-line-plot-quick-start-guide-r-software-and-data-visualization\n",
    "# http://www.sthda.com/english/wiki/ggplot2-error-bars-quick-start-guide-r-software-and-data-visualization\n",
    "# http://www.sthda.com/english/wiki/ggplot2-point-shapes\n",
    "# http://www.sthda.com/english/wiki/ggplot2-line-types-how-to-change-line-types-of-a-graph-in-r-software\n",
    "df2 <- ddply(df, ~ X1*X2, function(d) # make a summary data table\n",
    "  c(NROW(d$Y),\n",
    "    sum(is.na(d$Y)),\n",
    "    sum(!is.na(d$Y)),\n",
    "    mean(d$Y, na.rm=TRUE),\n",
    "    sd(d$Y, na.rm=TRUE),\n",
    "    median(d$Y, na.rm=TRUE),\n",
    "    IQR(d$Y, na.rm=TRUE)))\n",
    "colnames(df2) <- c(\"X1\",\"X2\",\"Rows\",\"NAs\",\"NotNAs\",\"Mean\",\"SD\",\"Median\",\"IQR\")\n",
    "ggplot(data=df2, aes(x=X1, y=Mean, color=X2, group=X2)) + theme_minimal() + \n",
    "  # set the font styles for the plot title and axis titles\n",
    "  theme(plot.title   = element_text(face=\"bold\",  color=\"black\", size=18, hjust=0.5, vjust=0.0, angle=0)) + \n",
    "  theme(axis.title.x = element_text(face=\"bold\",  color=\"black\", size=16, hjust=0.5, vjust=0.0, angle=0)) + \n",
    "  theme(axis.title.y = element_text(face=\"bold\",  color=\"black\", size=16, hjust=0.5, vjust=0.0, angle=90)) + \n",
    "  # set the font styles for the value labels that show on each axis\n",
    "  theme(axis.text.x  = element_text(face=\"plain\", color=\"black\", size=14, hjust=0.5, vjust=0.0, angle=0)) + \n",
    "  theme(axis.text.y  = element_text(face=\"plain\", color=\"black\", size=12, hjust=0.0, vjust=0.5, angle=0)) + \n",
    "  # set the font styles for the legend\n",
    "  theme(legend.title = element_text(face=\"bold\", color=\"black\", size=14, hjust=0.5, vjust=0.0, angle=0)) +\n",
    "  theme(legend.text  = element_text(face=\"plain\", color=\"black\", size=14, hjust=0.5, vjust=0.0, angle=0)) +\n",
    "  # create the plot lines, points, and error bars\n",
    "  geom_line(aes(linetype=X2), position=position_dodge(0.05)) + \n",
    "  geom_point(aes(shape=X2, size=X2), position=position_dodge(0.05)) + \n",
    "  geom_errorbar(aes(ymin=Mean-SD, ymax=Mean+SD), position=position_dodge(0.05), width=0.1) + \n",
    "  # place text labels on each bar\n",
    "  geom_text(aes(label=sprintf(\"%.2f (±%.2f)\", Mean, SD)), position=position_dodge(0.05), hjust=0.0, vjust=-1.0, color=\"black\", size=3.5) +\n",
    "  # set the labels for the title and each axis\n",
    "  labs(title=\"Y by X1, X2\", x=\"X1\", y=\"Y\") + \n",
    "  # set the ranges and value labels for each axis\n",
    "  scale_x_discrete(labels=c(\"a\",\"b\")) + \n",
    "  scale_y_continuous(breaks=seq(0,20,by=5), labels=seq(0,20,by=5), limits=c(0,20), oob=rescale_none) + \n",
    "  # set the name, labels, and colors for the traces\n",
    "  scale_color_manual(name=\"X2\", labels=c(\"a\",\"b\"), values=c(\"red\", \"blue\")) +\n",
    "  # set the size and shape of the points\n",
    "  scale_size_manual(values=c(4,4)) +\n",
    "  scale_shape_manual(values=c(16,10)) +\n",
    "  # set the linetype of the lines\n",
    "  scale_linetype_manual(values=c(\"solid\", \"longdash\"))"
   ]
  }
 ],
 "metadata": {
  "kernelspec": {
   "display_name": "R",
   "language": "R",
   "name": "ir"
  },
  "language_info": {
   "codemirror_mode": "r",
   "file_extension": ".r",
   "mimetype": "text/x-r-source",
   "name": "R",
   "pygments_lexer": "r",
   "version": "4.2.2"
  }
 },
 "nbformat": 4,
 "nbformat_minor": 5
}
