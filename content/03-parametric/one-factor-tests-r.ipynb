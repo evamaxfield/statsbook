{
 "cells": [
  {
   "cell_type": "markdown",
   "id": "c47ebc4d-d172-4e70-9e16-cf6a0ba7153a",
   "metadata": {},
   "source": [
    "# One Factor Parametric Tests - R"
   ]
  },
  {
   "cell_type": "markdown",
   "id": "4ecefac5-3aac-4309-a413-d1e62eb0fc81",
   "metadata": {},
   "source": [
    "## Independent-Samples _t_-test\n",
    "\n",
    "* **Samples:** `1`\n",
    "* **Levels:** `2`\n",
    "* **Between or Within Subjects:** Between\n",
    "* **Reporting:** \"The mean of ‘a’ was 14.63 (SD = 2.13) and of ‘b’ was 11.01 (SD = 1.75). This difference was statistically significant according to an independent-samples t-test (t(58) = 7.18, p < .0001).\""
   ]
  },
  {
   "cell_type": "code",
   "execution_count": 1,
   "id": "c7fa707e-af25-4dab-a4f6-cddd99a5ca4e",
   "metadata": {
    "vscode": {
     "languageId": "r"
    }
   },
   "outputs": [
    {
     "data": {
      "text/html": [
       "<table class=\"dataframe\">\n",
       "<caption>A data.frame: 20 × 3</caption>\n",
       "<thead>\n",
       "\t<tr><th></th><th scope=col>S</th><th scope=col>X</th><th scope=col>Y</th></tr>\n",
       "\t<tr><th></th><th scope=col>&lt;int&gt;</th><th scope=col>&lt;chr&gt;</th><th scope=col>&lt;dbl&gt;</th></tr>\n",
       "</thead>\n",
       "<tbody>\n",
       "\t<tr><th scope=row>1</th><td> 1</td><td>a</td><td>13.211290</td></tr>\n",
       "\t<tr><th scope=row>2</th><td> 2</td><td>b</td><td> 9.376966</td></tr>\n",
       "\t<tr><th scope=row>3</th><td> 3</td><td>a</td><td> 9.832110</td></tr>\n",
       "\t<tr><th scope=row>4</th><td> 4</td><td>b</td><td>13.241823</td></tr>\n",
       "\t<tr><th scope=row>5</th><td> 5</td><td>a</td><td>15.290763</td></tr>\n",
       "\t<tr><th scope=row>6</th><td> 6</td><td>b</td><td>11.926719</td></tr>\n",
       "\t<tr><th scope=row>7</th><td> 7</td><td>a</td><td>16.513046</td></tr>\n",
       "\t<tr><th scope=row>8</th><td> 8</td><td>b</td><td>11.817017</td></tr>\n",
       "\t<tr><th scope=row>9</th><td> 9</td><td>a</td><td>14.405615</td></tr>\n",
       "\t<tr><th scope=row>10</th><td>10</td><td>b</td><td> 7.186540</td></tr>\n",
       "\t<tr><th scope=row>11</th><td>11</td><td>a</td><td>14.620504</td></tr>\n",
       "\t<tr><th scope=row>12</th><td>12</td><td>b</td><td> 9.200230</td></tr>\n",
       "\t<tr><th scope=row>13</th><td>13</td><td>a</td><td>13.619696</td></tr>\n",
       "\t<tr><th scope=row>14</th><td>14</td><td>b</td><td> 8.989190</td></tr>\n",
       "\t<tr><th scope=row>15</th><td>15</td><td>a</td><td>10.055274</td></tr>\n",
       "\t<tr><th scope=row>16</th><td>16</td><td>b</td><td>12.827598</td></tr>\n",
       "\t<tr><th scope=row>17</th><td>17</td><td>a</td><td>16.136434</td></tr>\n",
       "\t<tr><th scope=row>18</th><td>18</td><td>b</td><td>11.604144</td></tr>\n",
       "\t<tr><th scope=row>19</th><td>19</td><td>a</td><td>12.451788</td></tr>\n",
       "\t<tr><th scope=row>20</th><td>20</td><td>b</td><td>11.255572</td></tr>\n",
       "</tbody>\n",
       "</table>\n"
      ],
      "text/latex": [
       "A data.frame: 20 × 3\n",
       "\\begin{tabular}{r|lll}\n",
       "  & S & X & Y\\\\\n",
       "  & <int> & <chr> & <dbl>\\\\\n",
       "\\hline\n",
       "\t1 &  1 & a & 13.211290\\\\\n",
       "\t2 &  2 & b &  9.376966\\\\\n",
       "\t3 &  3 & a &  9.832110\\\\\n",
       "\t4 &  4 & b & 13.241823\\\\\n",
       "\t5 &  5 & a & 15.290763\\\\\n",
       "\t6 &  6 & b & 11.926719\\\\\n",
       "\t7 &  7 & a & 16.513046\\\\\n",
       "\t8 &  8 & b & 11.817017\\\\\n",
       "\t9 &  9 & a & 14.405615\\\\\n",
       "\t10 & 10 & b &  7.186540\\\\\n",
       "\t11 & 11 & a & 14.620504\\\\\n",
       "\t12 & 12 & b &  9.200230\\\\\n",
       "\t13 & 13 & a & 13.619696\\\\\n",
       "\t14 & 14 & b &  8.989190\\\\\n",
       "\t15 & 15 & a & 10.055274\\\\\n",
       "\t16 & 16 & b & 12.827598\\\\\n",
       "\t17 & 17 & a & 16.136434\\\\\n",
       "\t18 & 18 & b & 11.604144\\\\\n",
       "\t19 & 19 & a & 12.451788\\\\\n",
       "\t20 & 20 & b & 11.255572\\\\\n",
       "\\end{tabular}\n"
      ],
      "text/markdown": [
       "\n",
       "A data.frame: 20 × 3\n",
       "\n",
       "| <!--/--> | S &lt;int&gt; | X &lt;chr&gt; | Y &lt;dbl&gt; |\n",
       "|---|---|---|---|\n",
       "| 1 |  1 | a | 13.211290 |\n",
       "| 2 |  2 | b |  9.376966 |\n",
       "| 3 |  3 | a |  9.832110 |\n",
       "| 4 |  4 | b | 13.241823 |\n",
       "| 5 |  5 | a | 15.290763 |\n",
       "| 6 |  6 | b | 11.926719 |\n",
       "| 7 |  7 | a | 16.513046 |\n",
       "| 8 |  8 | b | 11.817017 |\n",
       "| 9 |  9 | a | 14.405615 |\n",
       "| 10 | 10 | b |  7.186540 |\n",
       "| 11 | 11 | a | 14.620504 |\n",
       "| 12 | 12 | b |  9.200230 |\n",
       "| 13 | 13 | a | 13.619696 |\n",
       "| 14 | 14 | b |  8.989190 |\n",
       "| 15 | 15 | a | 10.055274 |\n",
       "| 16 | 16 | b | 12.827598 |\n",
       "| 17 | 17 | a | 16.136434 |\n",
       "| 18 | 18 | b | 11.604144 |\n",
       "| 19 | 19 | a | 12.451788 |\n",
       "| 20 | 20 | b | 11.255572 |\n",
       "\n"
      ],
      "text/plain": [
       "   S  X Y        \n",
       "1   1 a 13.211290\n",
       "2   2 b  9.376966\n",
       "3   3 a  9.832110\n",
       "4   4 b 13.241823\n",
       "5   5 a 15.290763\n",
       "6   6 b 11.926719\n",
       "7   7 a 16.513046\n",
       "8   8 b 11.817017\n",
       "9   9 a 14.405615\n",
       "10 10 b  7.186540\n",
       "11 11 a 14.620504\n",
       "12 12 b  9.200230\n",
       "13 13 a 13.619696\n",
       "14 14 b  8.989190\n",
       "15 15 a 10.055274\n",
       "16 16 b 12.827598\n",
       "17 17 a 16.136434\n",
       "18 18 b 11.604144\n",
       "19 19 a 12.451788\n",
       "20 20 b 11.255572"
      ]
     },
     "metadata": {},
     "output_type": "display_data"
    }
   ],
   "source": [
    "# Example data\n",
    "# df has subjects (S), one between-Ss factor (X) w/levels (a,b), and continuous response (Y)\n",
    "df <- read.csv(\"data/1F2LBs.csv\")\n",
    "head(df, 20)"
   ]
  },
  {
   "cell_type": "code",
   "execution_count": 2,
   "id": "9c5f3020-cc55-4064-bb7d-867f7d1f37dc",
   "metadata": {},
   "outputs": [
    {
     "data": {
      "text/plain": [
       "\n",
       "\tTwo Sample t-test\n",
       "\n",
       "data:  Y by X\n",
       "t = 7.1775, df = 58, p-value = 1.475e-09\n",
       "alternative hypothesis: true difference in means between group a and group b is not equal to 0\n",
       "95 percent confidence interval:\n",
       " 2.609128 4.627288\n",
       "sample estimates:\n",
       "mean in group a mean in group b \n",
       "       14.62769        11.00948 \n"
      ]
     },
     "metadata": {},
     "output_type": "display_data"
    }
   ],
   "source": [
    "df$S = factor(df$S) # Subject id is nominal (unused)\n",
    "df$X = factor(df$X) # X is a 2-level factor\n",
    "t.test(Y ~ X, data=df, var.equal=TRUE) # use var.equal=FALSE if heteroscedastistic"
   ]
  },
  {
   "cell_type": "markdown",
   "id": "939c3315-038a-482e-8f25-f762b6af176c",
   "metadata": {},
   "source": [
    "## Paired-Samples _t_-test\n",
    "\n",
    "* **Samples:** `1`\n",
    "* **Levels:** `2`\n",
    "* **Between or Within Subjects:** Within\n",
    "* **Reporting:** \"The mean of ‘a’ was 13.15 (SD = 2.53) and of ‘b’ was 14.37 (SD = 2.16). This difference was statistically significant according to a paired-samples t-test (t(29) = -2.14, p < .05).\""
   ]
  },
  {
   "cell_type": "code",
   "execution_count": 3,
   "id": "6427e71f-5bdd-47d9-8a7e-a6c5b2b027c2",
   "metadata": {
    "vscode": {
     "languageId": "r"
    }
   },
   "outputs": [
    {
     "data": {
      "text/html": [
       "<table class=\"dataframe\">\n",
       "<caption>A data.frame: 20 × 3</caption>\n",
       "<thead>\n",
       "\t<tr><th></th><th scope=col>S</th><th scope=col>X</th><th scope=col>Y</th></tr>\n",
       "\t<tr><th></th><th scope=col>&lt;int&gt;</th><th scope=col>&lt;chr&gt;</th><th scope=col>&lt;dbl&gt;</th></tr>\n",
       "</thead>\n",
       "<tbody>\n",
       "\t<tr><th scope=row>1</th><td> 1</td><td>a</td><td> 9.348176</td></tr>\n",
       "\t<tr><th scope=row>2</th><td> 1</td><td>b</td><td>16.280812</td></tr>\n",
       "\t<tr><th scope=row>3</th><td> 2</td><td>a</td><td>12.797245</td></tr>\n",
       "\t<tr><th scope=row>4</th><td> 2</td><td>b</td><td>14.638421</td></tr>\n",
       "\t<tr><th scope=row>5</th><td> 3</td><td>a</td><td>11.757036</td></tr>\n",
       "\t<tr><th scope=row>6</th><td> 3</td><td>b</td><td>14.221410</td></tr>\n",
       "\t<tr><th scope=row>7</th><td> 4</td><td>a</td><td>13.037475</td></tr>\n",
       "\t<tr><th scope=row>8</th><td> 4</td><td>b</td><td>15.172092</td></tr>\n",
       "\t<tr><th scope=row>9</th><td> 5</td><td>a</td><td>14.934822</td></tr>\n",
       "\t<tr><th scope=row>10</th><td> 5</td><td>b</td><td>16.080187</td></tr>\n",
       "\t<tr><th scope=row>11</th><td> 6</td><td>a</td><td>10.762074</td></tr>\n",
       "\t<tr><th scope=row>12</th><td> 6</td><td>b</td><td>11.558915</td></tr>\n",
       "\t<tr><th scope=row>13</th><td> 7</td><td>a</td><td>14.699569</td></tr>\n",
       "\t<tr><th scope=row>14</th><td> 7</td><td>b</td><td>15.364241</td></tr>\n",
       "\t<tr><th scope=row>15</th><td> 8</td><td>a</td><td>12.476783</td></tr>\n",
       "\t<tr><th scope=row>16</th><td> 8</td><td>b</td><td>13.468385</td></tr>\n",
       "\t<tr><th scope=row>17</th><td> 9</td><td>a</td><td>12.761169</td></tr>\n",
       "\t<tr><th scope=row>18</th><td> 9</td><td>b</td><td>17.316534</td></tr>\n",
       "\t<tr><th scope=row>19</th><td>10</td><td>a</td><td>16.532902</td></tr>\n",
       "\t<tr><th scope=row>20</th><td>10</td><td>b</td><td>16.405975</td></tr>\n",
       "</tbody>\n",
       "</table>\n"
      ],
      "text/latex": [
       "A data.frame: 20 × 3\n",
       "\\begin{tabular}{r|lll}\n",
       "  & S & X & Y\\\\\n",
       "  & <int> & <chr> & <dbl>\\\\\n",
       "\\hline\n",
       "\t1 &  1 & a &  9.348176\\\\\n",
       "\t2 &  1 & b & 16.280812\\\\\n",
       "\t3 &  2 & a & 12.797245\\\\\n",
       "\t4 &  2 & b & 14.638421\\\\\n",
       "\t5 &  3 & a & 11.757036\\\\\n",
       "\t6 &  3 & b & 14.221410\\\\\n",
       "\t7 &  4 & a & 13.037475\\\\\n",
       "\t8 &  4 & b & 15.172092\\\\\n",
       "\t9 &  5 & a & 14.934822\\\\\n",
       "\t10 &  5 & b & 16.080187\\\\\n",
       "\t11 &  6 & a & 10.762074\\\\\n",
       "\t12 &  6 & b & 11.558915\\\\\n",
       "\t13 &  7 & a & 14.699569\\\\\n",
       "\t14 &  7 & b & 15.364241\\\\\n",
       "\t15 &  8 & a & 12.476783\\\\\n",
       "\t16 &  8 & b & 13.468385\\\\\n",
       "\t17 &  9 & a & 12.761169\\\\\n",
       "\t18 &  9 & b & 17.316534\\\\\n",
       "\t19 & 10 & a & 16.532902\\\\\n",
       "\t20 & 10 & b & 16.405975\\\\\n",
       "\\end{tabular}\n"
      ],
      "text/markdown": [
       "\n",
       "A data.frame: 20 × 3\n",
       "\n",
       "| <!--/--> | S &lt;int&gt; | X &lt;chr&gt; | Y &lt;dbl&gt; |\n",
       "|---|---|---|---|\n",
       "| 1 |  1 | a |  9.348176 |\n",
       "| 2 |  1 | b | 16.280812 |\n",
       "| 3 |  2 | a | 12.797245 |\n",
       "| 4 |  2 | b | 14.638421 |\n",
       "| 5 |  3 | a | 11.757036 |\n",
       "| 6 |  3 | b | 14.221410 |\n",
       "| 7 |  4 | a | 13.037475 |\n",
       "| 8 |  4 | b | 15.172092 |\n",
       "| 9 |  5 | a | 14.934822 |\n",
       "| 10 |  5 | b | 16.080187 |\n",
       "| 11 |  6 | a | 10.762074 |\n",
       "| 12 |  6 | b | 11.558915 |\n",
       "| 13 |  7 | a | 14.699569 |\n",
       "| 14 |  7 | b | 15.364241 |\n",
       "| 15 |  8 | a | 12.476783 |\n",
       "| 16 |  8 | b | 13.468385 |\n",
       "| 17 |  9 | a | 12.761169 |\n",
       "| 18 |  9 | b | 17.316534 |\n",
       "| 19 | 10 | a | 16.532902 |\n",
       "| 20 | 10 | b | 16.405975 |\n",
       "\n"
      ],
      "text/plain": [
       "   S  X Y        \n",
       "1   1 a  9.348176\n",
       "2   1 b 16.280812\n",
       "3   2 a 12.797245\n",
       "4   2 b 14.638421\n",
       "5   3 a 11.757036\n",
       "6   3 b 14.221410\n",
       "7   4 a 13.037475\n",
       "8   4 b 15.172092\n",
       "9   5 a 14.934822\n",
       "10  5 b 16.080187\n",
       "11  6 a 10.762074\n",
       "12  6 b 11.558915\n",
       "13  7 a 14.699569\n",
       "14  7 b 15.364241\n",
       "15  8 a 12.476783\n",
       "16  8 b 13.468385\n",
       "17  9 a 12.761169\n",
       "18  9 b 17.316534\n",
       "19 10 a 16.532902\n",
       "20 10 b 16.405975"
      ]
     },
     "metadata": {},
     "output_type": "display_data"
    }
   ],
   "source": [
    "# Example data\n",
    "# df has subjects (S), one within-Ss factor (X) w/levels (a,b), and continuous response (Y)\n",
    "df <- read.csv(\"data/1F2LWs.csv\")\n",
    "head(df, 20)"
   ]
  },
  {
   "cell_type": "code",
   "execution_count": 4,
   "id": "3d4c7347-89b5-456f-a755-3fb7022bef60",
   "metadata": {
    "tags": []
   },
   "outputs": [
    {
     "data": {
      "text/plain": [
       "\n",
       "\tPaired t-test\n",
       "\n",
       "data:  df2$a and df2$b\n",
       "t = -2.1363, df = 29, p-value = 0.04123\n",
       "alternative hypothesis: true mean difference is not equal to 0\n",
       "95 percent confidence interval:\n",
       " -2.39877224 -0.05222605\n",
       "sample estimates:\n",
       "mean difference \n",
       "      -1.225499 \n"
      ]
     },
     "metadata": {},
     "output_type": "display_data"
    }
   ],
   "source": [
    "library(reshape2) # for dcast\n",
    "df$S = factor(df$S) # Subject id is nominal\n",
    "df$X = factor(df$X) # X is a 2-level factor\n",
    "df2 <- dcast(df, S ~ X, value.var=\"Y\") # make wide-format table\n",
    "t.test(df2$a, df2$b, paired=TRUE) # homoscedasticity is irrelevant for a paired-samples t-test"
   ]
  },
  {
   "cell_type": "markdown",
   "id": "97108cc4-b837-4d12-b50b-30f3b712e8ad",
   "metadata": {},
   "source": [
    "## One-Way ANOVA\n",
    "\n",
    "* **Samples:** `1`\n",
    "* **Levels:** `≥2`\n",
    "* **Between or Within Subjects:** Between\n",
    "* **Reporting:** \"The mean of ‘a’ was 13.74 (SD = 2.84), of ‘b’ was 14.15 (SD = 2.65), and of ‘c’ was 9.08 (SD = 4.29). These differences were statistically significant according to a one-way ANOVA (F(2, 57) = 14.18, p < .0001).\""
   ]
  },
  {
   "cell_type": "code",
   "execution_count": 5,
   "id": "057e1e70-f4b4-437a-9ed6-06075b2ad801",
   "metadata": {
    "vscode": {
     "languageId": "r"
    }
   },
   "outputs": [
    {
     "data": {
      "text/html": [
       "<table class=\"dataframe\">\n",
       "<caption>A data.frame: 20 × 3</caption>\n",
       "<thead>\n",
       "\t<tr><th></th><th scope=col>S</th><th scope=col>X</th><th scope=col>Y</th></tr>\n",
       "\t<tr><th></th><th scope=col>&lt;int&gt;</th><th scope=col>&lt;chr&gt;</th><th scope=col>&lt;dbl&gt;</th></tr>\n",
       "</thead>\n",
       "<tbody>\n",
       "\t<tr><th scope=row>1</th><td> 1</td><td>a</td><td>14.310439</td></tr>\n",
       "\t<tr><th scope=row>2</th><td> 2</td><td>b</td><td>17.390453</td></tr>\n",
       "\t<tr><th scope=row>3</th><td> 3</td><td>c</td><td>12.501365</td></tr>\n",
       "\t<tr><th scope=row>4</th><td> 4</td><td>a</td><td>17.943734</td></tr>\n",
       "\t<tr><th scope=row>5</th><td> 5</td><td>b</td><td>10.597671</td></tr>\n",
       "\t<tr><th scope=row>6</th><td> 6</td><td>c</td><td> 9.652177</td></tr>\n",
       "\t<tr><th scope=row>7</th><td> 7</td><td>a</td><td>10.095838</td></tr>\n",
       "\t<tr><th scope=row>8</th><td> 8</td><td>b</td><td>15.324131</td></tr>\n",
       "\t<tr><th scope=row>9</th><td> 9</td><td>c</td><td> 7.649627</td></tr>\n",
       "\t<tr><th scope=row>10</th><td>10</td><td>a</td><td>13.517695</td></tr>\n",
       "\t<tr><th scope=row>11</th><td>11</td><td>b</td><td>13.702848</td></tr>\n",
       "\t<tr><th scope=row>12</th><td>12</td><td>c</td><td>19.033070</td></tr>\n",
       "\t<tr><th scope=row>13</th><td>13</td><td>a</td><td>11.871676</td></tr>\n",
       "\t<tr><th scope=row>14</th><td>14</td><td>b</td><td>12.177908</td></tr>\n",
       "\t<tr><th scope=row>15</th><td>15</td><td>c</td><td> 7.713374</td></tr>\n",
       "\t<tr><th scope=row>16</th><td>16</td><td>a</td><td>11.698955</td></tr>\n",
       "\t<tr><th scope=row>17</th><td>17</td><td>b</td><td>13.716288</td></tr>\n",
       "\t<tr><th scope=row>18</th><td>18</td><td>c</td><td> 9.492661</td></tr>\n",
       "\t<tr><th scope=row>19</th><td>19</td><td>a</td><td>17.384638</td></tr>\n",
       "\t<tr><th scope=row>20</th><td>20</td><td>b</td><td>13.506336</td></tr>\n",
       "</tbody>\n",
       "</table>\n"
      ],
      "text/latex": [
       "A data.frame: 20 × 3\n",
       "\\begin{tabular}{r|lll}\n",
       "  & S & X & Y\\\\\n",
       "  & <int> & <chr> & <dbl>\\\\\n",
       "\\hline\n",
       "\t1 &  1 & a & 14.310439\\\\\n",
       "\t2 &  2 & b & 17.390453\\\\\n",
       "\t3 &  3 & c & 12.501365\\\\\n",
       "\t4 &  4 & a & 17.943734\\\\\n",
       "\t5 &  5 & b & 10.597671\\\\\n",
       "\t6 &  6 & c &  9.652177\\\\\n",
       "\t7 &  7 & a & 10.095838\\\\\n",
       "\t8 &  8 & b & 15.324131\\\\\n",
       "\t9 &  9 & c &  7.649627\\\\\n",
       "\t10 & 10 & a & 13.517695\\\\\n",
       "\t11 & 11 & b & 13.702848\\\\\n",
       "\t12 & 12 & c & 19.033070\\\\\n",
       "\t13 & 13 & a & 11.871676\\\\\n",
       "\t14 & 14 & b & 12.177908\\\\\n",
       "\t15 & 15 & c &  7.713374\\\\\n",
       "\t16 & 16 & a & 11.698955\\\\\n",
       "\t17 & 17 & b & 13.716288\\\\\n",
       "\t18 & 18 & c &  9.492661\\\\\n",
       "\t19 & 19 & a & 17.384638\\\\\n",
       "\t20 & 20 & b & 13.506336\\\\\n",
       "\\end{tabular}\n"
      ],
      "text/markdown": [
       "\n",
       "A data.frame: 20 × 3\n",
       "\n",
       "| <!--/--> | S &lt;int&gt; | X &lt;chr&gt; | Y &lt;dbl&gt; |\n",
       "|---|---|---|---|\n",
       "| 1 |  1 | a | 14.310439 |\n",
       "| 2 |  2 | b | 17.390453 |\n",
       "| 3 |  3 | c | 12.501365 |\n",
       "| 4 |  4 | a | 17.943734 |\n",
       "| 5 |  5 | b | 10.597671 |\n",
       "| 6 |  6 | c |  9.652177 |\n",
       "| 7 |  7 | a | 10.095838 |\n",
       "| 8 |  8 | b | 15.324131 |\n",
       "| 9 |  9 | c |  7.649627 |\n",
       "| 10 | 10 | a | 13.517695 |\n",
       "| 11 | 11 | b | 13.702848 |\n",
       "| 12 | 12 | c | 19.033070 |\n",
       "| 13 | 13 | a | 11.871676 |\n",
       "| 14 | 14 | b | 12.177908 |\n",
       "| 15 | 15 | c |  7.713374 |\n",
       "| 16 | 16 | a | 11.698955 |\n",
       "| 17 | 17 | b | 13.716288 |\n",
       "| 18 | 18 | c |  9.492661 |\n",
       "| 19 | 19 | a | 17.384638 |\n",
       "| 20 | 20 | b | 13.506336 |\n",
       "\n"
      ],
      "text/plain": [
       "   S  X Y        \n",
       "1   1 a 14.310439\n",
       "2   2 b 17.390453\n",
       "3   3 c 12.501365\n",
       "4   4 a 17.943734\n",
       "5   5 b 10.597671\n",
       "6   6 c  9.652177\n",
       "7   7 a 10.095838\n",
       "8   8 b 15.324131\n",
       "9   9 c  7.649627\n",
       "10 10 a 13.517695\n",
       "11 11 b 13.702848\n",
       "12 12 c 19.033070\n",
       "13 13 a 11.871676\n",
       "14 14 b 12.177908\n",
       "15 15 c  7.713374\n",
       "16 16 a 11.698955\n",
       "17 17 b 13.716288\n",
       "18 18 c  9.492661\n",
       "19 19 a 17.384638\n",
       "20 20 b 13.506336"
      ]
     },
     "metadata": {},
     "output_type": "display_data"
    }
   ],
   "source": [
    "# Example data\n",
    "# df has subjects (S), one between-Ss factor (X) w/levels (a,b,c), and continuous response (Y)\n",
    "df <- read.csv(\"data/1F3LBs.csv\")\n",
    "head(df, 20)"
   ]
  },
  {
   "cell_type": "code",
   "execution_count": 6,
   "id": "9e92b43e-00ee-4e64-b845-b5711a878764",
   "metadata": {
    "tags": []
   },
   "outputs": [
    {
     "data": {
      "text/html": [
       "<table class=\"dataframe\">\n",
       "<caption>A anova: 2 × 5</caption>\n",
       "<thead>\n",
       "\t<tr><th></th><th scope=col>Df</th><th scope=col>Sum Sq</th><th scope=col>Mean Sq</th><th scope=col>F value</th><th scope=col>Pr(&gt;F)</th></tr>\n",
       "\t<tr><th></th><th scope=col>&lt;int&gt;</th><th scope=col>&lt;dbl&gt;</th><th scope=col>&lt;dbl&gt;</th><th scope=col>&lt;dbl&gt;</th><th scope=col>&lt;dbl&gt;</th></tr>\n",
       "</thead>\n",
       "<tbody>\n",
       "\t<tr><th scope=row>X</th><td> 2</td><td>316.8775</td><td>158.43873</td><td>14.18067</td><td>1.00343e-05</td></tr>\n",
       "\t<tr><th scope=row>Residuals</th><td>57</td><td>636.8532</td><td> 11.17286</td><td>      NA</td><td>         NA</td></tr>\n",
       "</tbody>\n",
       "</table>\n"
      ],
      "text/latex": [
       "A anova: 2 × 5\n",
       "\\begin{tabular}{r|lllll}\n",
       "  & Df & Sum Sq & Mean Sq & F value & Pr(>F)\\\\\n",
       "  & <int> & <dbl> & <dbl> & <dbl> & <dbl>\\\\\n",
       "\\hline\n",
       "\tX &  2 & 316.8775 & 158.43873 & 14.18067 & 1.00343e-05\\\\\n",
       "\tResiduals & 57 & 636.8532 &  11.17286 &       NA &          NA\\\\\n",
       "\\end{tabular}\n"
      ],
      "text/markdown": [
       "\n",
       "A anova: 2 × 5\n",
       "\n",
       "| <!--/--> | Df &lt;int&gt; | Sum Sq &lt;dbl&gt; | Mean Sq &lt;dbl&gt; | F value &lt;dbl&gt; | Pr(&gt;F) &lt;dbl&gt; |\n",
       "|---|---|---|---|---|---|\n",
       "| X |  2 | 316.8775 | 158.43873 | 14.18067 | 1.00343e-05 |\n",
       "| Residuals | 57 | 636.8532 |  11.17286 |       NA |          NA |\n",
       "\n"
      ],
      "text/plain": [
       "          Df Sum Sq   Mean Sq   F value  Pr(>F)     \n",
       "X          2 316.8775 158.43873 14.18067 1.00343e-05\n",
       "Residuals 57 636.8532  11.17286       NA          NA"
      ]
     },
     "metadata": {},
     "output_type": "display_data"
    }
   ],
   "source": [
    "df$S = factor(df$S) # Subject id is nominal (unused)\n",
    "df$X = factor(df$X) # X is a 3-level factor\n",
    "m = aov(Y ~ X, data=df) # fit model\n",
    "anova(m)"
   ]
  },
  {
   "cell_type": "markdown",
   "id": "67c34db2-8758-4775-8d1f-67dec9dd707c",
   "metadata": {},
   "source": [
    "## One-Way Repeated Measures ANOVA\n",
    "\n",
    "* **Samples:** `1`\n",
    "* **Levels:** `≥2`\n",
    "* **Between or Within Subjects:** Within\n",
    "* **Reporting:** \"The mean of ‘a’ was 14.04 (SD = 2.98), of ‘b’ was 11.95 (SD = 1.98), and of ‘c’ was 11.40 (SD = 2.75). Mauchly’s test of sphericity indicated no sphericity violation (W = .926, p = .499), allowing for an uncorrected repeated measures ANOVA, which showed statistically significant differences (F(2, 38) = 6.57, p < .01).\""
   ]
  },
  {
   "cell_type": "code",
   "execution_count": 2,
   "id": "db8954ef-29cb-4ac6-ab0a-d883c74e53a6",
   "metadata": {
    "vscode": {
     "languageId": "r"
    }
   },
   "outputs": [
    {
     "data": {
      "text/html": [
       "<table class=\"dataframe\">\n",
       "<caption>A data.frame: 20 × 3</caption>\n",
       "<thead>\n",
       "\t<tr><th></th><th scope=col>S</th><th scope=col>X</th><th scope=col>Y</th></tr>\n",
       "\t<tr><th></th><th scope=col>&lt;int&gt;</th><th scope=col>&lt;chr&gt;</th><th scope=col>&lt;dbl&gt;</th></tr>\n",
       "</thead>\n",
       "<tbody>\n",
       "\t<tr><th scope=row>1</th><td>1</td><td>a</td><td> 8.833569</td></tr>\n",
       "\t<tr><th scope=row>2</th><td>1</td><td>b</td><td>11.849632</td></tr>\n",
       "\t<tr><th scope=row>3</th><td>1</td><td>c</td><td> 7.909041</td></tr>\n",
       "\t<tr><th scope=row>4</th><td>2</td><td>a</td><td>15.361964</td></tr>\n",
       "\t<tr><th scope=row>5</th><td>2</td><td>b</td><td>10.177478</td></tr>\n",
       "\t<tr><th scope=row>6</th><td>2</td><td>c</td><td>13.245308</td></tr>\n",
       "\t<tr><th scope=row>7</th><td>3</td><td>a</td><td>10.820555</td></tr>\n",
       "\t<tr><th scope=row>8</th><td>3</td><td>b</td><td> 9.240199</td></tr>\n",
       "\t<tr><th scope=row>9</th><td>3</td><td>c</td><td>14.307353</td></tr>\n",
       "\t<tr><th scope=row>10</th><td>4</td><td>a</td><td>13.089309</td></tr>\n",
       "\t<tr><th scope=row>11</th><td>4</td><td>b</td><td>13.276904</td></tr>\n",
       "\t<tr><th scope=row>12</th><td>4</td><td>c</td><td>11.683161</td></tr>\n",
       "\t<tr><th scope=row>13</th><td>5</td><td>a</td><td>12.229721</td></tr>\n",
       "\t<tr><th scope=row>14</th><td>5</td><td>b</td><td>10.442200</td></tr>\n",
       "\t<tr><th scope=row>15</th><td>5</td><td>c</td><td> 7.425539</td></tr>\n",
       "\t<tr><th scope=row>16</th><td>6</td><td>a</td><td>15.471203</td></tr>\n",
       "\t<tr><th scope=row>17</th><td>6</td><td>b</td><td>10.401901</td></tr>\n",
       "\t<tr><th scope=row>18</th><td>6</td><td>c</td><td>14.725702</td></tr>\n",
       "\t<tr><th scope=row>19</th><td>7</td><td>a</td><td>14.398177</td></tr>\n",
       "\t<tr><th scope=row>20</th><td>7</td><td>b</td><td>10.755235</td></tr>\n",
       "</tbody>\n",
       "</table>\n"
      ],
      "text/latex": [
       "A data.frame: 20 × 3\n",
       "\\begin{tabular}{r|lll}\n",
       "  & S & X & Y\\\\\n",
       "  & <int> & <chr> & <dbl>\\\\\n",
       "\\hline\n",
       "\t1 & 1 & a &  8.833569\\\\\n",
       "\t2 & 1 & b & 11.849632\\\\\n",
       "\t3 & 1 & c &  7.909041\\\\\n",
       "\t4 & 2 & a & 15.361964\\\\\n",
       "\t5 & 2 & b & 10.177478\\\\\n",
       "\t6 & 2 & c & 13.245308\\\\\n",
       "\t7 & 3 & a & 10.820555\\\\\n",
       "\t8 & 3 & b &  9.240199\\\\\n",
       "\t9 & 3 & c & 14.307353\\\\\n",
       "\t10 & 4 & a & 13.089309\\\\\n",
       "\t11 & 4 & b & 13.276904\\\\\n",
       "\t12 & 4 & c & 11.683161\\\\\n",
       "\t13 & 5 & a & 12.229721\\\\\n",
       "\t14 & 5 & b & 10.442200\\\\\n",
       "\t15 & 5 & c &  7.425539\\\\\n",
       "\t16 & 6 & a & 15.471203\\\\\n",
       "\t17 & 6 & b & 10.401901\\\\\n",
       "\t18 & 6 & c & 14.725702\\\\\n",
       "\t19 & 7 & a & 14.398177\\\\\n",
       "\t20 & 7 & b & 10.755235\\\\\n",
       "\\end{tabular}\n"
      ],
      "text/markdown": [
       "\n",
       "A data.frame: 20 × 3\n",
       "\n",
       "| <!--/--> | S &lt;int&gt; | X &lt;chr&gt; | Y &lt;dbl&gt; |\n",
       "|---|---|---|---|\n",
       "| 1 | 1 | a |  8.833569 |\n",
       "| 2 | 1 | b | 11.849632 |\n",
       "| 3 | 1 | c |  7.909041 |\n",
       "| 4 | 2 | a | 15.361964 |\n",
       "| 5 | 2 | b | 10.177478 |\n",
       "| 6 | 2 | c | 13.245308 |\n",
       "| 7 | 3 | a | 10.820555 |\n",
       "| 8 | 3 | b |  9.240199 |\n",
       "| 9 | 3 | c | 14.307353 |\n",
       "| 10 | 4 | a | 13.089309 |\n",
       "| 11 | 4 | b | 13.276904 |\n",
       "| 12 | 4 | c | 11.683161 |\n",
       "| 13 | 5 | a | 12.229721 |\n",
       "| 14 | 5 | b | 10.442200 |\n",
       "| 15 | 5 | c |  7.425539 |\n",
       "| 16 | 6 | a | 15.471203 |\n",
       "| 17 | 6 | b | 10.401901 |\n",
       "| 18 | 6 | c | 14.725702 |\n",
       "| 19 | 7 | a | 14.398177 |\n",
       "| 20 | 7 | b | 10.755235 |\n",
       "\n"
      ],
      "text/plain": [
       "   S X Y        \n",
       "1  1 a  8.833569\n",
       "2  1 b 11.849632\n",
       "3  1 c  7.909041\n",
       "4  2 a 15.361964\n",
       "5  2 b 10.177478\n",
       "6  2 c 13.245308\n",
       "7  3 a 10.820555\n",
       "8  3 b  9.240199\n",
       "9  3 c 14.307353\n",
       "10 4 a 13.089309\n",
       "11 4 b 13.276904\n",
       "12 4 c 11.683161\n",
       "13 5 a 12.229721\n",
       "14 5 b 10.442200\n",
       "15 5 c  7.425539\n",
       "16 6 a 15.471203\n",
       "17 6 b 10.401901\n",
       "18 6 c 14.725702\n",
       "19 7 a 14.398177\n",
       "20 7 b 10.755235"
      ]
     },
     "metadata": {},
     "output_type": "display_data"
    }
   ],
   "source": [
    "# Example data\n",
    "# df has subjects (S), one within-Ss factor (X) w/levels (a,b,c), and continuous response (Y)\n",
    "df <- read.csv(\"data/1F3LWs.csv\")\n",
    "head(df, 20)"
   ]
  },
  {
   "cell_type": "code",
   "execution_count": 3,
   "id": "70c96f1d-44bd-4947-86d6-7475067e5df5",
   "metadata": {
    "tags": []
   },
   "outputs": [
    {
     "data": {
      "text/html": [
       "<table class=\"dataframe\">\n",
       "<caption>A data.frame: 1 × 4</caption>\n",
       "<thead>\n",
       "\t<tr><th></th><th scope=col>Effect</th><th scope=col>W</th><th scope=col>p</th><th scope=col>p&lt;.05</th></tr>\n",
       "\t<tr><th></th><th scope=col>&lt;chr&gt;</th><th scope=col>&lt;dbl&gt;</th><th scope=col>&lt;dbl&gt;</th><th scope=col>&lt;chr&gt;</th></tr>\n",
       "</thead>\n",
       "<tbody>\n",
       "\t<tr><th scope=row>2</th><td>X</td><td>0.9256272</td><td>0.4987981</td><td></td></tr>\n",
       "</tbody>\n",
       "</table>\n"
      ],
      "text/latex": [
       "A data.frame: 1 × 4\n",
       "\\begin{tabular}{r|llll}\n",
       "  & Effect & W & p & p<.05\\\\\n",
       "  & <chr> & <dbl> & <dbl> & <chr>\\\\\n",
       "\\hline\n",
       "\t2 & X & 0.9256272 & 0.4987981 & \\\\\n",
       "\\end{tabular}\n"
      ],
      "text/markdown": [
       "\n",
       "A data.frame: 1 × 4\n",
       "\n",
       "| <!--/--> | Effect &lt;chr&gt; | W &lt;dbl&gt; | p &lt;dbl&gt; | p&lt;.05 &lt;chr&gt; |\n",
       "|---|---|---|---|---|\n",
       "| 2 | X | 0.9256272 | 0.4987981 | <!----> |\n",
       "\n"
      ],
      "text/plain": [
       "  Effect W         p         p<.05\n",
       "2 X      0.9256272 0.4987981      "
      ]
     },
     "metadata": {},
     "output_type": "display_data"
    }
   ],
   "source": [
    "library(ez) # for ezANOVA\n",
    "\n",
    "df$S = factor(df$S) # Subject id is nominal\n",
    "df$X = factor(df$X) # X is a 3-level factor\n",
    "\n",
    "m = ezANOVA(dv=Y, within=c(X), wid=S, type=3, data=df) # use c() for >1 factors\n",
    "\n",
    "m$Mauchly # p<.05 indicates a sphericity violation"
   ]
  },
  {
   "cell_type": "code",
   "execution_count": 4,
   "id": "5de06d5d-38af-45e4-9542-aa8f6c756d86",
   "metadata": {},
   "outputs": [
    {
     "data": {
      "text/html": [
       "<table class=\"dataframe\">\n",
       "<caption>A data.frame: 1 × 7</caption>\n",
       "<thead>\n",
       "\t<tr><th></th><th scope=col>Effect</th><th scope=col>DFn</th><th scope=col>DFd</th><th scope=col>F</th><th scope=col>p</th><th scope=col>p&lt;.05</th><th scope=col>ges</th></tr>\n",
       "\t<tr><th></th><th scope=col>&lt;chr&gt;</th><th scope=col>&lt;dbl&gt;</th><th scope=col>&lt;dbl&gt;</th><th scope=col>&lt;dbl&gt;</th><th scope=col>&lt;dbl&gt;</th><th scope=col>&lt;chr&gt;</th><th scope=col>&lt;dbl&gt;</th></tr>\n",
       "</thead>\n",
       "<tbody>\n",
       "\t<tr><th scope=row>2</th><td>X</td><td>2</td><td>38</td><td>6.569937</td><td>0.003543683</td><td>*</td><td>0.1682495</td></tr>\n",
       "</tbody>\n",
       "</table>\n"
      ],
      "text/latex": [
       "A data.frame: 1 × 7\n",
       "\\begin{tabular}{r|lllllll}\n",
       "  & Effect & DFn & DFd & F & p & p<.05 & ges\\\\\n",
       "  & <chr> & <dbl> & <dbl> & <dbl> & <dbl> & <chr> & <dbl>\\\\\n",
       "\\hline\n",
       "\t2 & X & 2 & 38 & 6.569937 & 0.003543683 & * & 0.1682495\\\\\n",
       "\\end{tabular}\n"
      ],
      "text/markdown": [
       "\n",
       "A data.frame: 1 × 7\n",
       "\n",
       "| <!--/--> | Effect &lt;chr&gt; | DFn &lt;dbl&gt; | DFd &lt;dbl&gt; | F &lt;dbl&gt; | p &lt;dbl&gt; | p&lt;.05 &lt;chr&gt; | ges &lt;dbl&gt; |\n",
       "|---|---|---|---|---|---|---|---|\n",
       "| 2 | X | 2 | 38 | 6.569937 | 0.003543683 | * | 0.1682495 |\n",
       "\n"
      ],
      "text/plain": [
       "  Effect DFn DFd F        p           p<.05 ges      \n",
       "2 X      2   38  6.569937 0.003543683 *     0.1682495"
      ]
     },
     "metadata": {},
     "output_type": "display_data"
    }
   ],
   "source": [
    "m$ANOVA # use if no violation"
   ]
  },
  {
   "cell_type": "code",
   "execution_count": 5,
   "id": "57ee8421-0bd7-4ea1-bb79-1bfc99632f8b",
   "metadata": {},
   "outputs": [
    {
     "data": {
      "text/html": [
       "<table class=\"dataframe\">\n",
       "<caption>A data.frame: 1 × 11</caption>\n",
       "<thead>\n",
       "\t<tr><th></th><th scope=col>Effect</th><th scope=col>GGe</th><th scope=col>p[GG]</th><th scope=col>p[GG]&lt;.05</th><th scope=col>HFe</th><th scope=col>p[HF]</th><th scope=col>p[HF]&lt;.05</th><th scope=col>GGe.DFn</th><th scope=col>GGe.DFd</th><th scope=col>HFe.DFn</th><th scope=col>HFe.DFd</th></tr>\n",
       "\t<tr><th></th><th scope=col>&lt;chr&gt;</th><th scope=col>&lt;dbl&gt;</th><th scope=col>&lt;dbl&gt;</th><th scope=col>&lt;chr&gt;</th><th scope=col>&lt;dbl&gt;</th><th scope=col>&lt;dbl&gt;</th><th scope=col>&lt;chr&gt;</th><th scope=col>&lt;dbl&gt;</th><th scope=col>&lt;dbl&gt;</th><th scope=col>&lt;dbl&gt;</th><th scope=col>&lt;dbl&gt;</th></tr>\n",
       "</thead>\n",
       "<tbody>\n",
       "\t<tr><th scope=row>2</th><td>X</td><td>0.9307756</td><td>0.00446249</td><td>*</td><td>1.027836</td><td>0.003543683</td><td>*</td><td>1.861551</td><td>35.36947</td><td>2.055672</td><td>39.05776</td></tr>\n",
       "</tbody>\n",
       "</table>\n"
      ],
      "text/latex": [
       "A data.frame: 1 × 11\n",
       "\\begin{tabular}{r|lllllllllll}\n",
       "  & Effect & GGe & p{[}GG{]} & p{[}GG{]}<.05 & HFe & p{[}HF{]} & p{[}HF{]}<.05 & GGe.DFn & GGe.DFd & HFe.DFn & HFe.DFd\\\\\n",
       "  & <chr> & <dbl> & <dbl> & <chr> & <dbl> & <dbl> & <chr> & <dbl> & <dbl> & <dbl> & <dbl>\\\\\n",
       "\\hline\n",
       "\t2 & X & 0.9307756 & 0.00446249 & * & 1.027836 & 0.003543683 & * & 1.861551 & 35.36947 & 2.055672 & 39.05776\\\\\n",
       "\\end{tabular}\n"
      ],
      "text/markdown": [
       "\n",
       "A data.frame: 1 × 11\n",
       "\n",
       "| <!--/--> | Effect &lt;chr&gt; | GGe &lt;dbl&gt; | p[GG] &lt;dbl&gt; | p[GG]&lt;.05 &lt;chr&gt; | HFe &lt;dbl&gt; | p[HF] &lt;dbl&gt; | p[HF]&lt;.05 &lt;chr&gt; | GGe.DFn &lt;dbl&gt; | GGe.DFd &lt;dbl&gt; | HFe.DFn &lt;dbl&gt; | HFe.DFd &lt;dbl&gt; |\n",
       "|---|---|---|---|---|---|---|---|---|---|---|---|\n",
       "| 2 | X | 0.9307756 | 0.00446249 | * | 1.027836 | 0.003543683 | * | 1.861551 | 35.36947 | 2.055672 | 39.05776 |\n",
       "\n"
      ],
      "text/plain": [
       "  Effect GGe       p[GG]      p[GG]<.05 HFe      p[HF]       p[HF]<.05 GGe.DFn \n",
       "2 X      0.9307756 0.00446249 *         1.027836 0.003543683 *         1.861551\n",
       "  GGe.DFd  HFe.DFn  HFe.DFd \n",
       "2 35.36947 2.055672 39.05776"
      ]
     },
     "metadata": {},
     "output_type": "display_data"
    }
   ],
   "source": [
    "# if there is a sphericity violation, report the Greenhouse-Geisser or Huynh-Feldt correction\n",
    "p = match(m$Sphericity$Effect, m$ANOVA$Effect) # positions of within-Ss effects in m$ANOVA\n",
    "m$Sphericity$GGe.DFn = m$Sphericity$GGe * m$ANOVA$DFn[p] # Greenhouse-Geisser DFs\n",
    "m$Sphericity$GGe.DFd = m$Sphericity$GGe * m$ANOVA$DFd[p]\n",
    "m$Sphericity$HFe.DFn = m$Sphericity$HFe * m$ANOVA$DFn[p] # Huynh-Feldt DFs\n",
    "m$Sphericity$HFe.DFd = m$Sphericity$HFe * m$ANOVA$DFd[p]\n",
    "m$Sphericity # show results"
   ]
  },
  {
   "cell_type": "code",
   "execution_count": 6,
   "id": "16bc88a8-fd93-431e-a93d-50ddde9df3c5",
   "metadata": {},
   "outputs": [
    {
     "data": {
      "text/plain": [
       "\n",
       "Error: S\n",
       "          Df Sum Sq Mean Sq F value Pr(>F)\n",
       "Residuals 19  160.3   8.436               \n",
       "\n",
       "Error: S:X\n",
       "          Df Sum Sq Mean Sq F value  Pr(>F)   \n",
       "X          2  78.12   39.06    6.57 0.00354 **\n",
       "Residuals 38 225.93    5.95                   \n",
       "---\n",
       "Signif. codes:  0 ‘***’ 0.001 ‘**’ 0.01 ‘*’ 0.05 ‘.’ 0.1 ‘ ’ 1"
      ]
     },
     "metadata": {},
     "output_type": "display_data"
    }
   ],
   "source": [
    "# the following also performs the equivalent repeated measures ANOVA, but does not address sphericity\n",
    "m = aov(Y ~ X + Error(S/X), data=df)\n",
    "summary(m)"
   ]
  }
 ],
 "metadata": {
  "kernelspec": {
   "display_name": "R",
   "language": "R",
   "name": "ir"
  },
  "language_info": {
   "codemirror_mode": "r",
   "file_extension": ".r",
   "mimetype": "text/x-r-source",
   "name": "R",
   "pygments_lexer": "r",
   "version": "4.2.2"
  }
 },
 "nbformat": 4,
 "nbformat_minor": 5
}
