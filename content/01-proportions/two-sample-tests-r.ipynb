{
 "cells": [
  {
   "cell_type": "markdown",
   "id": "c47ebc4d-d172-4e70-9e16-cf6a0ba7153a",
   "metadata": {},
   "source": [
    "# Two Sample Tests of Proportion - R"
   ]
  },
  {
   "cell_type": "markdown",
   "id": "4ecefac5-3aac-4309-a413-d1e62eb0fc81",
   "metadata": {},
   "source": [
    "## Fisher's Exact Test\n",
    "\n",
    "* **Samples:** `2`\n",
    "* **Response Categories:** `≥2`\n",
    "* **Exact?:** Yes, use with `N≤200`\n",
    "* **Reporting:** \"Table 1 shows the counts of the ‘x’, ‘y’, and ‘z’ outcomes for each of ‘a’ and ‘b’. Fisher’s exact test indicated a statistically significant association between X and Y (p < .0001).\""
   ]
  },
  {
   "cell_type": "code",
   "execution_count": 1,
   "id": "d8b724ff-c01e-4aec-9247-926285b7a52e",
   "metadata": {
    "tags": [],
    "vscode": {
     "languageId": "r"
    }
   },
   "outputs": [
    {
     "data": {
      "text/html": [
       "<table class=\"dataframe\">\n",
       "<caption>A data.frame: 20 × 3</caption>\n",
       "<thead>\n",
       "\t<tr><th></th><th scope=col>S</th><th scope=col>X</th><th scope=col>Y</th></tr>\n",
       "\t<tr><th></th><th scope=col>&lt;int&gt;</th><th scope=col>&lt;chr&gt;</th><th scope=col>&lt;chr&gt;</th></tr>\n",
       "</thead>\n",
       "<tbody>\n",
       "\t<tr><th scope=row>1</th><td> 1</td><td>a</td><td>y</td></tr>\n",
       "\t<tr><th scope=row>2</th><td> 2</td><td>b</td><td>x</td></tr>\n",
       "\t<tr><th scope=row>3</th><td> 3</td><td>a</td><td>x</td></tr>\n",
       "\t<tr><th scope=row>4</th><td> 4</td><td>b</td><td>y</td></tr>\n",
       "\t<tr><th scope=row>5</th><td> 5</td><td>a</td><td>y</td></tr>\n",
       "\t<tr><th scope=row>6</th><td> 6</td><td>b</td><td>x</td></tr>\n",
       "\t<tr><th scope=row>7</th><td> 7</td><td>a</td><td>y</td></tr>\n",
       "\t<tr><th scope=row>8</th><td> 8</td><td>b</td><td>x</td></tr>\n",
       "\t<tr><th scope=row>9</th><td> 9</td><td>a</td><td>y</td></tr>\n",
       "\t<tr><th scope=row>10</th><td>10</td><td>b</td><td>z</td></tr>\n",
       "\t<tr><th scope=row>11</th><td>11</td><td>a</td><td>y</td></tr>\n",
       "\t<tr><th scope=row>12</th><td>12</td><td>b</td><td>z</td></tr>\n",
       "\t<tr><th scope=row>13</th><td>13</td><td>a</td><td>y</td></tr>\n",
       "\t<tr><th scope=row>14</th><td>14</td><td>b</td><td>y</td></tr>\n",
       "\t<tr><th scope=row>15</th><td>15</td><td>a</td><td>y</td></tr>\n",
       "\t<tr><th scope=row>16</th><td>16</td><td>b</td><td>y</td></tr>\n",
       "\t<tr><th scope=row>17</th><td>17</td><td>a</td><td>y</td></tr>\n",
       "\t<tr><th scope=row>18</th><td>18</td><td>b</td><td>x</td></tr>\n",
       "\t<tr><th scope=row>19</th><td>19</td><td>a</td><td>y</td></tr>\n",
       "\t<tr><th scope=row>20</th><td>20</td><td>b</td><td>z</td></tr>\n",
       "</tbody>\n",
       "</table>\n"
      ],
      "text/latex": [
       "A data.frame: 20 × 3\n",
       "\\begin{tabular}{r|lll}\n",
       "  & S & X & Y\\\\\n",
       "  & <int> & <chr> & <chr>\\\\\n",
       "\\hline\n",
       "\t1 &  1 & a & y\\\\\n",
       "\t2 &  2 & b & x\\\\\n",
       "\t3 &  3 & a & x\\\\\n",
       "\t4 &  4 & b & y\\\\\n",
       "\t5 &  5 & a & y\\\\\n",
       "\t6 &  6 & b & x\\\\\n",
       "\t7 &  7 & a & y\\\\\n",
       "\t8 &  8 & b & x\\\\\n",
       "\t9 &  9 & a & y\\\\\n",
       "\t10 & 10 & b & z\\\\\n",
       "\t11 & 11 & a & y\\\\\n",
       "\t12 & 12 & b & z\\\\\n",
       "\t13 & 13 & a & y\\\\\n",
       "\t14 & 14 & b & y\\\\\n",
       "\t15 & 15 & a & y\\\\\n",
       "\t16 & 16 & b & y\\\\\n",
       "\t17 & 17 & a & y\\\\\n",
       "\t18 & 18 & b & x\\\\\n",
       "\t19 & 19 & a & y\\\\\n",
       "\t20 & 20 & b & z\\\\\n",
       "\\end{tabular}\n"
      ],
      "text/markdown": [
       "\n",
       "A data.frame: 20 × 3\n",
       "\n",
       "| <!--/--> | S &lt;int&gt; | X &lt;chr&gt; | Y &lt;chr&gt; |\n",
       "|---|---|---|---|\n",
       "| 1 |  1 | a | y |\n",
       "| 2 |  2 | b | x |\n",
       "| 3 |  3 | a | x |\n",
       "| 4 |  4 | b | y |\n",
       "| 5 |  5 | a | y |\n",
       "| 6 |  6 | b | x |\n",
       "| 7 |  7 | a | y |\n",
       "| 8 |  8 | b | x |\n",
       "| 9 |  9 | a | y |\n",
       "| 10 | 10 | b | z |\n",
       "| 11 | 11 | a | y |\n",
       "| 12 | 12 | b | z |\n",
       "| 13 | 13 | a | y |\n",
       "| 14 | 14 | b | y |\n",
       "| 15 | 15 | a | y |\n",
       "| 16 | 16 | b | y |\n",
       "| 17 | 17 | a | y |\n",
       "| 18 | 18 | b | x |\n",
       "| 19 | 19 | a | y |\n",
       "| 20 | 20 | b | z |\n",
       "\n"
      ],
      "text/plain": [
       "   S  X Y\n",
       "1   1 a y\n",
       "2   2 b x\n",
       "3   3 a x\n",
       "4   4 b y\n",
       "5   5 a y\n",
       "6   6 b x\n",
       "7   7 a y\n",
       "8   8 b x\n",
       "9   9 a y\n",
       "10 10 b z\n",
       "11 11 a y\n",
       "12 12 b z\n",
       "13 13 a y\n",
       "14 14 b y\n",
       "15 15 a y\n",
       "16 16 b y\n",
       "17 17 a y\n",
       "18 18 b x\n",
       "19 19 a y\n",
       "20 20 b z"
      ]
     },
     "metadata": {},
     "output_type": "display_data"
    }
   ],
   "source": [
    "# Example data\n",
    "# df is a long-format data table w/subject (S), categorical factor (X) and outcome (Y)\n",
    "df <- read.csv(\"data/1F2LBs_multinomial.csv\")\n",
    "head(df, 20)"
   ]
  },
  {
   "cell_type": "code",
   "execution_count": 3,
   "id": "fb5e14d3-c968-4451-b03f-320ad21bf9f1",
   "metadata": {},
   "outputs": [
    {
     "data": {
      "text/plain": [
       "   Y\n",
       "X    x  y  z\n",
       "  a  3 26  1\n",
       "  b 14  9  7"
      ]
     },
     "metadata": {},
     "output_type": "display_data"
    }
   ],
   "source": [
    "df$S = factor(df$S) # Subject id is nominal (unused)\n",
    "df$X = factor(df$X) # X is a factor of m ≥ 2 levels\n",
    "df$Y = factor(df$Y) # Y is an outcome of n ≥ 2 categories\n",
    "xt = xtabs( ~ X + Y, data=df) # make m × n crosstabs\n",
    "xt"
   ]
  },
  {
   "cell_type": "code",
   "execution_count": 4,
   "id": "3ed61750-af26-4313-83a2-c9a28f111045",
   "metadata": {},
   "outputs": [
    {
     "data": {
      "text/plain": [
       "\n",
       "\tFisher's Exact Test for Count Data\n",
       "\n",
       "data:  xt\n",
       "p-value = 2.432e-05\n",
       "alternative hypothesis: two.sided\n"
      ]
     },
     "metadata": {},
     "output_type": "display_data"
    }
   ],
   "source": [
    "fisher.test(xt) # Run test"
   ]
  },
  {
   "cell_type": "markdown",
   "id": "aee35848-3f2c-4738-9e52-0056aa785564",
   "metadata": {},
   "source": [
    "## G-Test\n",
    "\n",
    "* **Samples:** `2`\n",
    "* **Response Categories:** `≥2`\n",
    "* **Exact?:** No, use with `N>200`\n",
    "* **Reporting:** \"Table 1 shows the counts of the ‘x’, ‘y’, and ‘z’ outcomes for each of ‘a’ and ‘b’. A G-test indicated a statistically significant association between X and Y (G(2) = 21.40, p < .0001).\""
   ]
  },
  {
   "cell_type": "code",
   "execution_count": 1,
   "id": "53183797",
   "metadata": {
    "tags": [],
    "vscode": {
     "languageId": "r"
    }
   },
   "outputs": [
    {
     "data": {
      "text/html": [
       "<table class=\"dataframe\">\n",
       "<caption>A data.frame: 20 × 3</caption>\n",
       "<thead>\n",
       "\t<tr><th></th><th scope=col>S</th><th scope=col>X</th><th scope=col>Y</th></tr>\n",
       "\t<tr><th></th><th scope=col>&lt;int&gt;</th><th scope=col>&lt;chr&gt;</th><th scope=col>&lt;chr&gt;</th></tr>\n",
       "</thead>\n",
       "<tbody>\n",
       "\t<tr><th scope=row>1</th><td> 1</td><td>a</td><td>y</td></tr>\n",
       "\t<tr><th scope=row>2</th><td> 2</td><td>b</td><td>x</td></tr>\n",
       "\t<tr><th scope=row>3</th><td> 3</td><td>a</td><td>x</td></tr>\n",
       "\t<tr><th scope=row>4</th><td> 4</td><td>b</td><td>y</td></tr>\n",
       "\t<tr><th scope=row>5</th><td> 5</td><td>a</td><td>y</td></tr>\n",
       "\t<tr><th scope=row>6</th><td> 6</td><td>b</td><td>x</td></tr>\n",
       "\t<tr><th scope=row>7</th><td> 7</td><td>a</td><td>y</td></tr>\n",
       "\t<tr><th scope=row>8</th><td> 8</td><td>b</td><td>x</td></tr>\n",
       "\t<tr><th scope=row>9</th><td> 9</td><td>a</td><td>y</td></tr>\n",
       "\t<tr><th scope=row>10</th><td>10</td><td>b</td><td>z</td></tr>\n",
       "\t<tr><th scope=row>11</th><td>11</td><td>a</td><td>y</td></tr>\n",
       "\t<tr><th scope=row>12</th><td>12</td><td>b</td><td>z</td></tr>\n",
       "\t<tr><th scope=row>13</th><td>13</td><td>a</td><td>y</td></tr>\n",
       "\t<tr><th scope=row>14</th><td>14</td><td>b</td><td>y</td></tr>\n",
       "\t<tr><th scope=row>15</th><td>15</td><td>a</td><td>y</td></tr>\n",
       "\t<tr><th scope=row>16</th><td>16</td><td>b</td><td>y</td></tr>\n",
       "\t<tr><th scope=row>17</th><td>17</td><td>a</td><td>y</td></tr>\n",
       "\t<tr><th scope=row>18</th><td>18</td><td>b</td><td>x</td></tr>\n",
       "\t<tr><th scope=row>19</th><td>19</td><td>a</td><td>y</td></tr>\n",
       "\t<tr><th scope=row>20</th><td>20</td><td>b</td><td>z</td></tr>\n",
       "</tbody>\n",
       "</table>\n"
      ],
      "text/latex": [
       "A data.frame: 20 × 3\n",
       "\\begin{tabular}{r|lll}\n",
       "  & S & X & Y\\\\\n",
       "  & <int> & <chr> & <chr>\\\\\n",
       "\\hline\n",
       "\t1 &  1 & a & y\\\\\n",
       "\t2 &  2 & b & x\\\\\n",
       "\t3 &  3 & a & x\\\\\n",
       "\t4 &  4 & b & y\\\\\n",
       "\t5 &  5 & a & y\\\\\n",
       "\t6 &  6 & b & x\\\\\n",
       "\t7 &  7 & a & y\\\\\n",
       "\t8 &  8 & b & x\\\\\n",
       "\t9 &  9 & a & y\\\\\n",
       "\t10 & 10 & b & z\\\\\n",
       "\t11 & 11 & a & y\\\\\n",
       "\t12 & 12 & b & z\\\\\n",
       "\t13 & 13 & a & y\\\\\n",
       "\t14 & 14 & b & y\\\\\n",
       "\t15 & 15 & a & y\\\\\n",
       "\t16 & 16 & b & y\\\\\n",
       "\t17 & 17 & a & y\\\\\n",
       "\t18 & 18 & b & x\\\\\n",
       "\t19 & 19 & a & y\\\\\n",
       "\t20 & 20 & b & z\\\\\n",
       "\\end{tabular}\n"
      ],
      "text/markdown": [
       "\n",
       "A data.frame: 20 × 3\n",
       "\n",
       "| <!--/--> | S &lt;int&gt; | X &lt;chr&gt; | Y &lt;chr&gt; |\n",
       "|---|---|---|---|\n",
       "| 1 |  1 | a | y |\n",
       "| 2 |  2 | b | x |\n",
       "| 3 |  3 | a | x |\n",
       "| 4 |  4 | b | y |\n",
       "| 5 |  5 | a | y |\n",
       "| 6 |  6 | b | x |\n",
       "| 7 |  7 | a | y |\n",
       "| 8 |  8 | b | x |\n",
       "| 9 |  9 | a | y |\n",
       "| 10 | 10 | b | z |\n",
       "| 11 | 11 | a | y |\n",
       "| 12 | 12 | b | z |\n",
       "| 13 | 13 | a | y |\n",
       "| 14 | 14 | b | y |\n",
       "| 15 | 15 | a | y |\n",
       "| 16 | 16 | b | y |\n",
       "| 17 | 17 | a | y |\n",
       "| 18 | 18 | b | x |\n",
       "| 19 | 19 | a | y |\n",
       "| 20 | 20 | b | z |\n",
       "\n"
      ],
      "text/plain": [
       "   S  X Y\n",
       "1   1 a y\n",
       "2   2 b x\n",
       "3   3 a x\n",
       "4   4 b y\n",
       "5   5 a y\n",
       "6   6 b x\n",
       "7   7 a y\n",
       "8   8 b x\n",
       "9   9 a y\n",
       "10 10 b z\n",
       "11 11 a y\n",
       "12 12 b z\n",
       "13 13 a y\n",
       "14 14 b y\n",
       "15 15 a y\n",
       "16 16 b y\n",
       "17 17 a y\n",
       "18 18 b x\n",
       "19 19 a y\n",
       "20 20 b z"
      ]
     },
     "metadata": {},
     "output_type": "display_data"
    }
   ],
   "source": [
    "# Example data\n",
    "# df is a long-format data table w/subject (S), categorical factor (X) and outcome (Y)\n",
    "df <- read.csv(\"data/1F2LBs_multinomial.csv\")\n",
    "head(df, 20)"
   ]
  },
  {
   "cell_type": "code",
   "execution_count": 5,
   "id": "1e5cfb31-bbed-4b9e-9299-d0c9d199b83c",
   "metadata": {},
   "outputs": [
    {
     "name": "stderr",
     "output_type": "stream",
     "text": [
      "*** Package RVAideMemoire v 0.9-81-2 ***\n",
      "\n"
     ]
    },
    {
     "data": {
      "text/plain": [
       "   Y\n",
       "X    x  y  z\n",
       "  a  3 26  1\n",
       "  b 14  9  7"
      ]
     },
     "metadata": {},
     "output_type": "display_data"
    }
   ],
   "source": [
    "# This can also be shortened using the RVAideMemoire library\n",
    "# install.packages(\"RVAideMemoire\")\n",
    "# on Ubuntu you may have trouble installing, see: TODO\n",
    "library(RVAideMemoire)\n",
    "\n",
    "df$S = factor(df$S) # Subject id is nominal (unused)\n",
    "df$X = factor(df$X) # X is a factor of m ≥ 2 levels\n",
    "df$Y = factor(df$Y) # Y is an outcome of n ≥ 2 categories\n",
    "xt = xtabs( ~ X + Y, data=df) # make m × n crosstabs\n",
    "xt"
   ]
  },
  {
   "cell_type": "code",
   "execution_count": 6,
   "id": "33c91a95-719a-41a4-b4af-1b1d3a0b4269",
   "metadata": {},
   "outputs": [
    {
     "data": {
      "text/plain": [
       "\n",
       "\tG-test\n",
       "\n",
       "data:  xt\n",
       "G = 21.402, df = 2, p-value = 2.252e-05\n"
      ]
     },
     "metadata": {},
     "output_type": "display_data"
    }
   ],
   "source": [
    "G.test(xt)"
   ]
  },
  {
   "cell_type": "markdown",
   "id": "a6a1992e-7319-46eb-a1b4-3ada64b27eeb",
   "metadata": {},
   "source": [
    "## Two-Sample Pearson Chi-Squared Test\n",
    "\n",
    "* **Samples:** `2`\n",
    "* **Response Categories:** `≥2`\n",
    "* **Exact?:** No, use with `N>200`\n",
    "* **Reporting:** \"Table 1 shows the counts of the ‘x’, ‘y’, and ‘z’ outcomes for each of ‘a’ and ‘b’. A two-sample Pearson Chi-Squared test indicated a statistically significant association between X and Y (χ2(2, N=60) = 19.88, p < .0001).\""
   ]
  },
  {
   "cell_type": "code",
   "execution_count": 1,
   "id": "0baf1f66",
   "metadata": {
    "tags": [],
    "vscode": {
     "languageId": "r"
    }
   },
   "outputs": [
    {
     "data": {
      "text/html": [
       "<table class=\"dataframe\">\n",
       "<caption>A data.frame: 20 × 3</caption>\n",
       "<thead>\n",
       "\t<tr><th></th><th scope=col>S</th><th scope=col>X</th><th scope=col>Y</th></tr>\n",
       "\t<tr><th></th><th scope=col>&lt;int&gt;</th><th scope=col>&lt;chr&gt;</th><th scope=col>&lt;chr&gt;</th></tr>\n",
       "</thead>\n",
       "<tbody>\n",
       "\t<tr><th scope=row>1</th><td> 1</td><td>a</td><td>y</td></tr>\n",
       "\t<tr><th scope=row>2</th><td> 2</td><td>b</td><td>x</td></tr>\n",
       "\t<tr><th scope=row>3</th><td> 3</td><td>a</td><td>x</td></tr>\n",
       "\t<tr><th scope=row>4</th><td> 4</td><td>b</td><td>y</td></tr>\n",
       "\t<tr><th scope=row>5</th><td> 5</td><td>a</td><td>y</td></tr>\n",
       "\t<tr><th scope=row>6</th><td> 6</td><td>b</td><td>x</td></tr>\n",
       "\t<tr><th scope=row>7</th><td> 7</td><td>a</td><td>y</td></tr>\n",
       "\t<tr><th scope=row>8</th><td> 8</td><td>b</td><td>x</td></tr>\n",
       "\t<tr><th scope=row>9</th><td> 9</td><td>a</td><td>y</td></tr>\n",
       "\t<tr><th scope=row>10</th><td>10</td><td>b</td><td>z</td></tr>\n",
       "\t<tr><th scope=row>11</th><td>11</td><td>a</td><td>y</td></tr>\n",
       "\t<tr><th scope=row>12</th><td>12</td><td>b</td><td>z</td></tr>\n",
       "\t<tr><th scope=row>13</th><td>13</td><td>a</td><td>y</td></tr>\n",
       "\t<tr><th scope=row>14</th><td>14</td><td>b</td><td>y</td></tr>\n",
       "\t<tr><th scope=row>15</th><td>15</td><td>a</td><td>y</td></tr>\n",
       "\t<tr><th scope=row>16</th><td>16</td><td>b</td><td>y</td></tr>\n",
       "\t<tr><th scope=row>17</th><td>17</td><td>a</td><td>y</td></tr>\n",
       "\t<tr><th scope=row>18</th><td>18</td><td>b</td><td>x</td></tr>\n",
       "\t<tr><th scope=row>19</th><td>19</td><td>a</td><td>y</td></tr>\n",
       "\t<tr><th scope=row>20</th><td>20</td><td>b</td><td>z</td></tr>\n",
       "</tbody>\n",
       "</table>\n"
      ],
      "text/latex": [
       "A data.frame: 20 × 3\n",
       "\\begin{tabular}{r|lll}\n",
       "  & S & X & Y\\\\\n",
       "  & <int> & <chr> & <chr>\\\\\n",
       "\\hline\n",
       "\t1 &  1 & a & y\\\\\n",
       "\t2 &  2 & b & x\\\\\n",
       "\t3 &  3 & a & x\\\\\n",
       "\t4 &  4 & b & y\\\\\n",
       "\t5 &  5 & a & y\\\\\n",
       "\t6 &  6 & b & x\\\\\n",
       "\t7 &  7 & a & y\\\\\n",
       "\t8 &  8 & b & x\\\\\n",
       "\t9 &  9 & a & y\\\\\n",
       "\t10 & 10 & b & z\\\\\n",
       "\t11 & 11 & a & y\\\\\n",
       "\t12 & 12 & b & z\\\\\n",
       "\t13 & 13 & a & y\\\\\n",
       "\t14 & 14 & b & y\\\\\n",
       "\t15 & 15 & a & y\\\\\n",
       "\t16 & 16 & b & y\\\\\n",
       "\t17 & 17 & a & y\\\\\n",
       "\t18 & 18 & b & x\\\\\n",
       "\t19 & 19 & a & y\\\\\n",
       "\t20 & 20 & b & z\\\\\n",
       "\\end{tabular}\n"
      ],
      "text/markdown": [
       "\n",
       "A data.frame: 20 × 3\n",
       "\n",
       "| <!--/--> | S &lt;int&gt; | X &lt;chr&gt; | Y &lt;chr&gt; |\n",
       "|---|---|---|---|\n",
       "| 1 |  1 | a | y |\n",
       "| 2 |  2 | b | x |\n",
       "| 3 |  3 | a | x |\n",
       "| 4 |  4 | b | y |\n",
       "| 5 |  5 | a | y |\n",
       "| 6 |  6 | b | x |\n",
       "| 7 |  7 | a | y |\n",
       "| 8 |  8 | b | x |\n",
       "| 9 |  9 | a | y |\n",
       "| 10 | 10 | b | z |\n",
       "| 11 | 11 | a | y |\n",
       "| 12 | 12 | b | z |\n",
       "| 13 | 13 | a | y |\n",
       "| 14 | 14 | b | y |\n",
       "| 15 | 15 | a | y |\n",
       "| 16 | 16 | b | y |\n",
       "| 17 | 17 | a | y |\n",
       "| 18 | 18 | b | x |\n",
       "| 19 | 19 | a | y |\n",
       "| 20 | 20 | b | z |\n",
       "\n"
      ],
      "text/plain": [
       "   S  X Y\n",
       "1   1 a y\n",
       "2   2 b x\n",
       "3   3 a x\n",
       "4   4 b y\n",
       "5   5 a y\n",
       "6   6 b x\n",
       "7   7 a y\n",
       "8   8 b x\n",
       "9   9 a y\n",
       "10 10 b z\n",
       "11 11 a y\n",
       "12 12 b z\n",
       "13 13 a y\n",
       "14 14 b y\n",
       "15 15 a y\n",
       "16 16 b y\n",
       "17 17 a y\n",
       "18 18 b x\n",
       "19 19 a y\n",
       "20 20 b z"
      ]
     },
     "metadata": {},
     "output_type": "display_data"
    }
   ],
   "source": [
    "# Example data\n",
    "# df is a long-format data table w/subject (S), categorical factor (X) and outcome (Y)\n",
    "df <- read.csv(\"data/1F2LBs_multinomial.csv\")\n",
    "head(df, 20)"
   ]
  },
  {
   "cell_type": "code",
   "execution_count": 8,
   "id": "68734281-bbbd-4b96-948d-bbf74532d68d",
   "metadata": {
    "vscode": {
     "languageId": "r"
    }
   },
   "outputs": [
    {
     "data": {
      "text/plain": [
       "   Y\n",
       "X    x  y  z\n",
       "  a  3 26  1\n",
       "  b 14  9  7"
      ]
     },
     "metadata": {},
     "output_type": "display_data"
    }
   ],
   "source": [
    "df$S = factor(df$S) # Subject id is nominal (unused)\n",
    "df$X = factor(df$X) # X is a factor of m ≥ 2 levels\n",
    "df$Y = factor(df$Y) # Y is an outcome of n ≥ 2 categories\n",
    "xt = xtabs( ~ X + Y, data=df) # make m × n crosstabs\n",
    "xt"
   ]
  },
  {
   "cell_type": "code",
   "execution_count": 9,
   "id": "d457e8b0-6dad-404c-9796-d882a7eb1b3a",
   "metadata": {},
   "outputs": [
    {
     "name": "stderr",
     "output_type": "stream",
     "text": [
      "Warning message in chisq.test(xt):\n",
      "“Chi-squared approximation may be incorrect”\n"
     ]
    },
    {
     "data": {
      "text/plain": [
       "\n",
       "\tPearson's Chi-squared test\n",
       "\n",
       "data:  xt\n",
       "X-squared = 19.875, df = 2, p-value = 4.833e-05\n"
      ]
     },
     "metadata": {},
     "output_type": "display_data"
    }
   ],
   "source": [
    "chisq.test(xt)"
   ]
  }
 ],
 "metadata": {
  "kernelspec": {
   "display_name": "R",
   "language": "R",
   "name": "ir"
  },
  "language_info": {
   "codemirror_mode": "r",
   "file_extension": ".r",
   "mimetype": "text/x-r-source",
   "name": "R",
   "pygments_lexer": "r",
   "version": "4.2.2"
  }
 },
 "nbformat": 4,
 "nbformat_minor": 5
}
