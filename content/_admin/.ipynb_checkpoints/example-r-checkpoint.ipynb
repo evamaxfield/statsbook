{
 "cells": [
  {
   "cell_type": "markdown",
   "id": "f8e5d457-c3ae-4abc-a714-702ee9e43c9f",
   "metadata": {},
   "source": [
    "# Example of One Sample Binomial Test in R"
   ]
  },
  {
   "cell_type": "code",
   "execution_count": null,
   "id": "40ebf2ae-6bbb-4171-812a-418a2cad4a4f",
   "metadata": {},
   "outputs": [],
   "source": [
    "# use with N<=200\n",
    "df <- read.csv(\"data/0F0LBs_binomial.csv\")\n",
    "df$S = factor(df$S) # Subject id is nominal (unused)\n",
    "df$Y = factor(df$Y) # Y is an outcome of 2 categories\n",
    "xt = xtabs( ~ Y, data=df) # make counts\n",
    "binom.test(xt, p=0.5, alternative=\"two.sided\")"
   ]
  }
 ],
 "metadata": {
  "kernelspec": {
   "display_name": "R",
   "language": "R",
   "name": "ir"
  },
  "language_info": {
   "codemirror_mode": "r",
   "file_extension": ".r",
   "mimetype": "text/x-r-source",
   "name": "R",
   "pygments_lexer": "r",
   "version": "4.1.3"
  }
 },
 "nbformat": 4,
 "nbformat_minor": 5
}
