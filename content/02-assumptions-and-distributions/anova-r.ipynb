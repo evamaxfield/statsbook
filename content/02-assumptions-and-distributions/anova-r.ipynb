{
 "cells": [
  {
   "cell_type": "markdown",
   "id": "f06a5ae3-44b9-4c22-a35e-8b235ec6db0c",
   "metadata": {},
   "source": [
    "# ANOVA Assumptions - R"
   ]
  },
  {
   "cell_type": "markdown",
   "id": "1b113b1f-7a2c-459f-be84-71c90c33563d",
   "metadata": {
    "tags": []
   },
   "source": [
    "## Shapiro-Wilk Test (on responses)\n",
    "\n",
    "* **Assumption:** Normality\n",
    "* **Context of Use:** t-test, ANOVA, LM, LMM\n",
    "* **Reporting:** \"To test the assumption of conditional normality, a Shapiro-Wilk test was run on the response Y for each combination of levels of factors X1 and X2. All combinations were found to be statistically non-significant except condition (b,b), which showed a statistically significant deviation from normality (W = .794, p < .01).\""
   ]
  },
  {
   "cell_type": "code",
   "execution_count": 1,
   "id": "db6e0233-e067-41c4-a20b-1167d10b18d2",
   "metadata": {},
   "outputs": [
    {
     "data": {
      "text/html": [
       "<table class=\"dataframe\">\n",
       "<caption>A data.frame: 20 × 4</caption>\n",
       "<thead>\n",
       "\t<tr><th></th><th scope=col>S</th><th scope=col>X1</th><th scope=col>X2</th><th scope=col>Y</th></tr>\n",
       "\t<tr><th></th><th scope=col>&lt;int&gt;</th><th scope=col>&lt;chr&gt;</th><th scope=col>&lt;chr&gt;</th><th scope=col>&lt;dbl&gt;</th></tr>\n",
       "</thead>\n",
       "<tbody>\n",
       "\t<tr><th scope=row>1</th><td> 1</td><td>a</td><td>a</td><td>11.867340</td></tr>\n",
       "\t<tr><th scope=row>2</th><td> 2</td><td>a</td><td>b</td><td>15.453745</td></tr>\n",
       "\t<tr><th scope=row>3</th><td> 3</td><td>b</td><td>a</td><td>15.782415</td></tr>\n",
       "\t<tr><th scope=row>4</th><td> 4</td><td>b</td><td>b</td><td>13.626554</td></tr>\n",
       "\t<tr><th scope=row>5</th><td> 5</td><td>a</td><td>a</td><td>11.608195</td></tr>\n",
       "\t<tr><th scope=row>6</th><td> 6</td><td>a</td><td>b</td><td>19.540674</td></tr>\n",
       "\t<tr><th scope=row>7</th><td> 7</td><td>b</td><td>a</td><td>15.878829</td></tr>\n",
       "\t<tr><th scope=row>8</th><td> 8</td><td>b</td><td>b</td><td>16.654611</td></tr>\n",
       "\t<tr><th scope=row>9</th><td> 9</td><td>a</td><td>a</td><td>17.370245</td></tr>\n",
       "\t<tr><th scope=row>10</th><td>10</td><td>a</td><td>b</td><td>17.547025</td></tr>\n",
       "\t<tr><th scope=row>11</th><td>11</td><td>b</td><td>a</td><td>19.423109</td></tr>\n",
       "\t<tr><th scope=row>12</th><td>12</td><td>b</td><td>b</td><td>16.369147</td></tr>\n",
       "\t<tr><th scope=row>13</th><td>13</td><td>a</td><td>a</td><td>22.896627</td></tr>\n",
       "\t<tr><th scope=row>14</th><td>14</td><td>a</td><td>b</td><td>14.037504</td></tr>\n",
       "\t<tr><th scope=row>15</th><td>15</td><td>b</td><td>a</td><td>15.564130</td></tr>\n",
       "\t<tr><th scope=row>16</th><td>16</td><td>b</td><td>b</td><td>16.109281</td></tr>\n",
       "\t<tr><th scope=row>17</th><td>17</td><td>a</td><td>a</td><td> 7.028036</td></tr>\n",
       "\t<tr><th scope=row>18</th><td>18</td><td>a</td><td>b</td><td>21.508059</td></tr>\n",
       "\t<tr><th scope=row>19</th><td>19</td><td>b</td><td>a</td><td>17.644257</td></tr>\n",
       "\t<tr><th scope=row>20</th><td>20</td><td>b</td><td>b</td><td>16.054999</td></tr>\n",
       "</tbody>\n",
       "</table>\n"
      ],
      "text/latex": [
       "A data.frame: 20 × 4\n",
       "\\begin{tabular}{r|llll}\n",
       "  & S & X1 & X2 & Y\\\\\n",
       "  & <int> & <chr> & <chr> & <dbl>\\\\\n",
       "\\hline\n",
       "\t1 &  1 & a & a & 11.867340\\\\\n",
       "\t2 &  2 & a & b & 15.453745\\\\\n",
       "\t3 &  3 & b & a & 15.782415\\\\\n",
       "\t4 &  4 & b & b & 13.626554\\\\\n",
       "\t5 &  5 & a & a & 11.608195\\\\\n",
       "\t6 &  6 & a & b & 19.540674\\\\\n",
       "\t7 &  7 & b & a & 15.878829\\\\\n",
       "\t8 &  8 & b & b & 16.654611\\\\\n",
       "\t9 &  9 & a & a & 17.370245\\\\\n",
       "\t10 & 10 & a & b & 17.547025\\\\\n",
       "\t11 & 11 & b & a & 19.423109\\\\\n",
       "\t12 & 12 & b & b & 16.369147\\\\\n",
       "\t13 & 13 & a & a & 22.896627\\\\\n",
       "\t14 & 14 & a & b & 14.037504\\\\\n",
       "\t15 & 15 & b & a & 15.564130\\\\\n",
       "\t16 & 16 & b & b & 16.109281\\\\\n",
       "\t17 & 17 & a & a &  7.028036\\\\\n",
       "\t18 & 18 & a & b & 21.508059\\\\\n",
       "\t19 & 19 & b & a & 17.644257\\\\\n",
       "\t20 & 20 & b & b & 16.054999\\\\\n",
       "\\end{tabular}\n"
      ],
      "text/markdown": [
       "\n",
       "A data.frame: 20 × 4\n",
       "\n",
       "| <!--/--> | S &lt;int&gt; | X1 &lt;chr&gt; | X2 &lt;chr&gt; | Y &lt;dbl&gt; |\n",
       "|---|---|---|---|---|\n",
       "| 1 |  1 | a | a | 11.867340 |\n",
       "| 2 |  2 | a | b | 15.453745 |\n",
       "| 3 |  3 | b | a | 15.782415 |\n",
       "| 4 |  4 | b | b | 13.626554 |\n",
       "| 5 |  5 | a | a | 11.608195 |\n",
       "| 6 |  6 | a | b | 19.540674 |\n",
       "| 7 |  7 | b | a | 15.878829 |\n",
       "| 8 |  8 | b | b | 16.654611 |\n",
       "| 9 |  9 | a | a | 17.370245 |\n",
       "| 10 | 10 | a | b | 17.547025 |\n",
       "| 11 | 11 | b | a | 19.423109 |\n",
       "| 12 | 12 | b | b | 16.369147 |\n",
       "| 13 | 13 | a | a | 22.896627 |\n",
       "| 14 | 14 | a | b | 14.037504 |\n",
       "| 15 | 15 | b | a | 15.564130 |\n",
       "| 16 | 16 | b | b | 16.109281 |\n",
       "| 17 | 17 | a | a |  7.028036 |\n",
       "| 18 | 18 | a | b | 21.508059 |\n",
       "| 19 | 19 | b | a | 17.644257 |\n",
       "| 20 | 20 | b | b | 16.054999 |\n",
       "\n"
      ],
      "text/plain": [
       "   S  X1 X2 Y        \n",
       "1   1 a  a  11.867340\n",
       "2   2 a  b  15.453745\n",
       "3   3 b  a  15.782415\n",
       "4   4 b  b  13.626554\n",
       "5   5 a  a  11.608195\n",
       "6   6 a  b  19.540674\n",
       "7   7 b  a  15.878829\n",
       "8   8 b  b  16.654611\n",
       "9   9 a  a  17.370245\n",
       "10 10 a  b  17.547025\n",
       "11 11 b  a  19.423109\n",
       "12 12 b  b  16.369147\n",
       "13 13 a  a  22.896627\n",
       "14 14 a  b  14.037504\n",
       "15 15 b  a  15.564130\n",
       "16 16 b  b  16.109281\n",
       "17 17 a  a   7.028036\n",
       "18 18 a  b  21.508059\n",
       "19 19 b  a  17.644257\n",
       "20 20 b  b  16.054999"
      ]
     },
     "metadata": {},
     "output_type": "display_data"
    }
   ],
   "source": [
    "# Example data\n",
    "# df has two factors (X1,X2) each w/two levels (a,b) and continuous response Y\n",
    "df <- read.csv(\"data/2F2LBs_normal.csv\")\n",
    "head(df, 20)"
   ]
  },
  {
   "cell_type": "code",
   "execution_count": 2,
   "id": "444d31ef-210f-4c18-8b50-e456a0cfff9f",
   "metadata": {},
   "outputs": [
    {
     "data": {
      "text/plain": [
       "\n",
       "\tShapiro-Wilk normality test\n",
       "\n",
       "data:  df[df$X1 == \"a\" & df$X2 == \"a\", ]$Y\n",
       "W = 0.97554, p-value = 0.93\n"
      ]
     },
     "metadata": {},
     "output_type": "display_data"
    },
    {
     "data": {
      "text/plain": [
       "\n",
       "\tShapiro-Wilk normality test\n",
       "\n",
       "data:  df[df$X1 == \"a\" & df$X2 == \"b\", ]$Y\n",
       "W = 0.93417, p-value = 0.3147\n"
      ]
     },
     "metadata": {},
     "output_type": "display_data"
    },
    {
     "data": {
      "text/plain": [
       "\n",
       "\tShapiro-Wilk normality test\n",
       "\n",
       "data:  df[df$X1 == \"b\" & df$X2 == \"a\", ]$Y\n",
       "W = 0.98454, p-value = 0.9914\n"
      ]
     },
     "metadata": {},
     "output_type": "display_data"
    },
    {
     "data": {
      "text/plain": [
       "\n",
       "\tShapiro-Wilk normality test\n",
       "\n",
       "data:  df[df$X1 == \"b\" & df$X2 == \"b\", ]$Y\n",
       "W = 0.7938, p-value = 0.003064\n"
      ]
     },
     "metadata": {},
     "output_type": "display_data"
    }
   ],
   "source": [
    "## Shapiro-Wilk conditional normality test\n",
    "# (on the response within each condition)\n",
    "shapiro.test(df[df$X1 == \"a\" & df$X2 == \"a\",]$Y) # condition a,a\n",
    "shapiro.test(df[df$X1 == \"a\" & df$X2 == \"b\",]$Y) # condition a,b\n",
    "shapiro.test(df[df$X1 == \"b\" & df$X2 == \"a\",]$Y) # condition b,a\n",
    "shapiro.test(df[df$X1 == \"b\" & df$X2 == \"b\",]$Y) # condition b,b"
   ]
  },
  {
   "cell_type": "markdown",
   "id": "992c4259-8eb6-4de4-8af0-cba968489c97",
   "metadata": {
    "tags": []
   },
   "source": [
    "## Shapiro-Wilk Test (on residuals)\n",
    "\n",
    "* **Assumption:** Normality\n",
    "* **Context of Use:** t-test, ANOVA, LM, LMM\n",
    "* **Reporting:** \"To test the normality assumption, a Shapiro-Wilk test was run on the residuals of a between-subjects full-factorial ANOVA model. The test was statistically non-significant (W = .988, p = .798), indicating compliance with the normality assumption. A Q-Q plot of residuals visually confirms the same (Figure 1).\""
   ]
  },
  {
   "cell_type": "code",
   "execution_count": 3,
   "id": "eb5a37f5-4e5d-4a0b-8329-0a4ef8ec88f3",
   "metadata": {},
   "outputs": [
    {
     "data": {
      "text/html": [
       "<table class=\"dataframe\">\n",
       "<caption>A data.frame: 20 × 4</caption>\n",
       "<thead>\n",
       "\t<tr><th></th><th scope=col>S</th><th scope=col>X1</th><th scope=col>X2</th><th scope=col>Y</th></tr>\n",
       "\t<tr><th></th><th scope=col>&lt;int&gt;</th><th scope=col>&lt;chr&gt;</th><th scope=col>&lt;chr&gt;</th><th scope=col>&lt;dbl&gt;</th></tr>\n",
       "</thead>\n",
       "<tbody>\n",
       "\t<tr><th scope=row>1</th><td> 1</td><td>a</td><td>a</td><td>11.867340</td></tr>\n",
       "\t<tr><th scope=row>2</th><td> 2</td><td>a</td><td>b</td><td>15.453745</td></tr>\n",
       "\t<tr><th scope=row>3</th><td> 3</td><td>b</td><td>a</td><td>15.782415</td></tr>\n",
       "\t<tr><th scope=row>4</th><td> 4</td><td>b</td><td>b</td><td>13.626554</td></tr>\n",
       "\t<tr><th scope=row>5</th><td> 5</td><td>a</td><td>a</td><td>11.608195</td></tr>\n",
       "\t<tr><th scope=row>6</th><td> 6</td><td>a</td><td>b</td><td>19.540674</td></tr>\n",
       "\t<tr><th scope=row>7</th><td> 7</td><td>b</td><td>a</td><td>15.878829</td></tr>\n",
       "\t<tr><th scope=row>8</th><td> 8</td><td>b</td><td>b</td><td>16.654611</td></tr>\n",
       "\t<tr><th scope=row>9</th><td> 9</td><td>a</td><td>a</td><td>17.370245</td></tr>\n",
       "\t<tr><th scope=row>10</th><td>10</td><td>a</td><td>b</td><td>17.547025</td></tr>\n",
       "\t<tr><th scope=row>11</th><td>11</td><td>b</td><td>a</td><td>19.423109</td></tr>\n",
       "\t<tr><th scope=row>12</th><td>12</td><td>b</td><td>b</td><td>16.369147</td></tr>\n",
       "\t<tr><th scope=row>13</th><td>13</td><td>a</td><td>a</td><td>22.896627</td></tr>\n",
       "\t<tr><th scope=row>14</th><td>14</td><td>a</td><td>b</td><td>14.037504</td></tr>\n",
       "\t<tr><th scope=row>15</th><td>15</td><td>b</td><td>a</td><td>15.564130</td></tr>\n",
       "\t<tr><th scope=row>16</th><td>16</td><td>b</td><td>b</td><td>16.109281</td></tr>\n",
       "\t<tr><th scope=row>17</th><td>17</td><td>a</td><td>a</td><td> 7.028036</td></tr>\n",
       "\t<tr><th scope=row>18</th><td>18</td><td>a</td><td>b</td><td>21.508059</td></tr>\n",
       "\t<tr><th scope=row>19</th><td>19</td><td>b</td><td>a</td><td>17.644257</td></tr>\n",
       "\t<tr><th scope=row>20</th><td>20</td><td>b</td><td>b</td><td>16.054999</td></tr>\n",
       "</tbody>\n",
       "</table>\n"
      ],
      "text/latex": [
       "A data.frame: 20 × 4\n",
       "\\begin{tabular}{r|llll}\n",
       "  & S & X1 & X2 & Y\\\\\n",
       "  & <int> & <chr> & <chr> & <dbl>\\\\\n",
       "\\hline\n",
       "\t1 &  1 & a & a & 11.867340\\\\\n",
       "\t2 &  2 & a & b & 15.453745\\\\\n",
       "\t3 &  3 & b & a & 15.782415\\\\\n",
       "\t4 &  4 & b & b & 13.626554\\\\\n",
       "\t5 &  5 & a & a & 11.608195\\\\\n",
       "\t6 &  6 & a & b & 19.540674\\\\\n",
       "\t7 &  7 & b & a & 15.878829\\\\\n",
       "\t8 &  8 & b & b & 16.654611\\\\\n",
       "\t9 &  9 & a & a & 17.370245\\\\\n",
       "\t10 & 10 & a & b & 17.547025\\\\\n",
       "\t11 & 11 & b & a & 19.423109\\\\\n",
       "\t12 & 12 & b & b & 16.369147\\\\\n",
       "\t13 & 13 & a & a & 22.896627\\\\\n",
       "\t14 & 14 & a & b & 14.037504\\\\\n",
       "\t15 & 15 & b & a & 15.564130\\\\\n",
       "\t16 & 16 & b & b & 16.109281\\\\\n",
       "\t17 & 17 & a & a &  7.028036\\\\\n",
       "\t18 & 18 & a & b & 21.508059\\\\\n",
       "\t19 & 19 & b & a & 17.644257\\\\\n",
       "\t20 & 20 & b & b & 16.054999\\\\\n",
       "\\end{tabular}\n"
      ],
      "text/markdown": [
       "\n",
       "A data.frame: 20 × 4\n",
       "\n",
       "| <!--/--> | S &lt;int&gt; | X1 &lt;chr&gt; | X2 &lt;chr&gt; | Y &lt;dbl&gt; |\n",
       "|---|---|---|---|---|\n",
       "| 1 |  1 | a | a | 11.867340 |\n",
       "| 2 |  2 | a | b | 15.453745 |\n",
       "| 3 |  3 | b | a | 15.782415 |\n",
       "| 4 |  4 | b | b | 13.626554 |\n",
       "| 5 |  5 | a | a | 11.608195 |\n",
       "| 6 |  6 | a | b | 19.540674 |\n",
       "| 7 |  7 | b | a | 15.878829 |\n",
       "| 8 |  8 | b | b | 16.654611 |\n",
       "| 9 |  9 | a | a | 17.370245 |\n",
       "| 10 | 10 | a | b | 17.547025 |\n",
       "| 11 | 11 | b | a | 19.423109 |\n",
       "| 12 | 12 | b | b | 16.369147 |\n",
       "| 13 | 13 | a | a | 22.896627 |\n",
       "| 14 | 14 | a | b | 14.037504 |\n",
       "| 15 | 15 | b | a | 15.564130 |\n",
       "| 16 | 16 | b | b | 16.109281 |\n",
       "| 17 | 17 | a | a |  7.028036 |\n",
       "| 18 | 18 | a | b | 21.508059 |\n",
       "| 19 | 19 | b | a | 17.644257 |\n",
       "| 20 | 20 | b | b | 16.054999 |\n",
       "\n"
      ],
      "text/plain": [
       "   S  X1 X2 Y        \n",
       "1   1 a  a  11.867340\n",
       "2   2 a  b  15.453745\n",
       "3   3 b  a  15.782415\n",
       "4   4 b  b  13.626554\n",
       "5   5 a  a  11.608195\n",
       "6   6 a  b  19.540674\n",
       "7   7 b  a  15.878829\n",
       "8   8 b  b  16.654611\n",
       "9   9 a  a  17.370245\n",
       "10 10 a  b  17.547025\n",
       "11 11 b  a  19.423109\n",
       "12 12 b  b  16.369147\n",
       "13 13 a  a  22.896627\n",
       "14 14 a  b  14.037504\n",
       "15 15 b  a  15.564130\n",
       "16 16 b  b  16.109281\n",
       "17 17 a  a   7.028036\n",
       "18 18 a  b  21.508059\n",
       "19 19 b  a  17.644257\n",
       "20 20 b  b  16.054999"
      ]
     },
     "metadata": {},
     "output_type": "display_data"
    }
   ],
   "source": [
    "# Example data\n",
    "# df has two factors (X1,X2) each w/two levels (a,b) and continuous response Y\n",
    "df <- read.csv(\"data/2F2LBs_normal.csv\")\n",
    "head(df, 20)"
   ]
  },
  {
   "cell_type": "code",
   "execution_count": 4,
   "id": "5876585b-9f87-40a6-a2ee-a17024729768",
   "metadata": {},
   "outputs": [
    {
     "data": {
      "text/plain": [
       "\n",
       "\tShapiro-Wilk normality test\n",
       "\n",
       "data:  residuals(m)\n",
       "W = 0.98751, p-value = 0.7979\n"
      ]
     },
     "metadata": {},
     "output_type": "display_data"
    }
   ],
   "source": [
    "m = aov(Y ~ X1*X2, data=df) # make anova model\n",
    "shapiro.test(residuals(m))"
   ]
  },
  {
   "cell_type": "code",
   "execution_count": 5,
   "id": "f8081020-c716-4bd5-b68b-4418556d46e0",
   "metadata": {},
   "outputs": [
    {
     "data": {
      "image/png": "[encoded data removed]",
      "text/plain": [
       "Plot with title “Normal Q-Q Plot”"
      ]
     },
     "metadata": {
      "image/png": {
       "height": 420,
       "width": 420
      }
     },
     "output_type": "display_data"
    }
   ],
   "source": [
    "par(mfrow=c(1,1))\n",
    "qqnorm(residuals(m)); qqline(residuals(m)) # Q-Q plot"
   ]
  },
  {
   "cell_type": "markdown",
   "id": "f8947f04-9a46-4f61-9140-6c414ac4453d",
   "metadata": {
    "tags": []
   },
   "source": [
    "## Anderson-Darling Test (on responses)\n",
    "\n",
    "* **Assumption:** Normality\n",
    "* **Context of Use:** t-test, ANOVA, LM, LMM\n",
    "* **Reporting:** \"To test the assumption of conditional normality, an Anderson-Darling test was run on the response Y for each combination of levels of factors X1 and X2. All combinations were found to be statistically non-significant except condition (b,b), which showed a statistically significant deviation from normality (A = 1.417, p < .001).\""
   ]
  },
  {
   "cell_type": "code",
   "execution_count": 6,
   "id": "c047138a-2e14-4abb-a726-2c3463621c02",
   "metadata": {
    "tags": []
   },
   "outputs": [
    {
     "data": {
      "text/html": [
       "<table class=\"dataframe\">\n",
       "<caption>A data.frame: 20 × 4</caption>\n",
       "<thead>\n",
       "\t<tr><th></th><th scope=col>S</th><th scope=col>X1</th><th scope=col>X2</th><th scope=col>Y</th></tr>\n",
       "\t<tr><th></th><th scope=col>&lt;int&gt;</th><th scope=col>&lt;chr&gt;</th><th scope=col>&lt;chr&gt;</th><th scope=col>&lt;dbl&gt;</th></tr>\n",
       "</thead>\n",
       "<tbody>\n",
       "\t<tr><th scope=row>1</th><td> 1</td><td>a</td><td>a</td><td>11.867340</td></tr>\n",
       "\t<tr><th scope=row>2</th><td> 2</td><td>a</td><td>b</td><td>15.453745</td></tr>\n",
       "\t<tr><th scope=row>3</th><td> 3</td><td>b</td><td>a</td><td>15.782415</td></tr>\n",
       "\t<tr><th scope=row>4</th><td> 4</td><td>b</td><td>b</td><td>13.626554</td></tr>\n",
       "\t<tr><th scope=row>5</th><td> 5</td><td>a</td><td>a</td><td>11.608195</td></tr>\n",
       "\t<tr><th scope=row>6</th><td> 6</td><td>a</td><td>b</td><td>19.540674</td></tr>\n",
       "\t<tr><th scope=row>7</th><td> 7</td><td>b</td><td>a</td><td>15.878829</td></tr>\n",
       "\t<tr><th scope=row>8</th><td> 8</td><td>b</td><td>b</td><td>16.654611</td></tr>\n",
       "\t<tr><th scope=row>9</th><td> 9</td><td>a</td><td>a</td><td>17.370245</td></tr>\n",
       "\t<tr><th scope=row>10</th><td>10</td><td>a</td><td>b</td><td>17.547025</td></tr>\n",
       "\t<tr><th scope=row>11</th><td>11</td><td>b</td><td>a</td><td>19.423109</td></tr>\n",
       "\t<tr><th scope=row>12</th><td>12</td><td>b</td><td>b</td><td>16.369147</td></tr>\n",
       "\t<tr><th scope=row>13</th><td>13</td><td>a</td><td>a</td><td>22.896627</td></tr>\n",
       "\t<tr><th scope=row>14</th><td>14</td><td>a</td><td>b</td><td>14.037504</td></tr>\n",
       "\t<tr><th scope=row>15</th><td>15</td><td>b</td><td>a</td><td>15.564130</td></tr>\n",
       "\t<tr><th scope=row>16</th><td>16</td><td>b</td><td>b</td><td>16.109281</td></tr>\n",
       "\t<tr><th scope=row>17</th><td>17</td><td>a</td><td>a</td><td> 7.028036</td></tr>\n",
       "\t<tr><th scope=row>18</th><td>18</td><td>a</td><td>b</td><td>21.508059</td></tr>\n",
       "\t<tr><th scope=row>19</th><td>19</td><td>b</td><td>a</td><td>17.644257</td></tr>\n",
       "\t<tr><th scope=row>20</th><td>20</td><td>b</td><td>b</td><td>16.054999</td></tr>\n",
       "</tbody>\n",
       "</table>\n"
      ],
      "text/latex": [
       "A data.frame: 20 × 4\n",
       "\\begin{tabular}{r|llll}\n",
       "  & S & X1 & X2 & Y\\\\\n",
       "  & <int> & <chr> & <chr> & <dbl>\\\\\n",
       "\\hline\n",
       "\t1 &  1 & a & a & 11.867340\\\\\n",
       "\t2 &  2 & a & b & 15.453745\\\\\n",
       "\t3 &  3 & b & a & 15.782415\\\\\n",
       "\t4 &  4 & b & b & 13.626554\\\\\n",
       "\t5 &  5 & a & a & 11.608195\\\\\n",
       "\t6 &  6 & a & b & 19.540674\\\\\n",
       "\t7 &  7 & b & a & 15.878829\\\\\n",
       "\t8 &  8 & b & b & 16.654611\\\\\n",
       "\t9 &  9 & a & a & 17.370245\\\\\n",
       "\t10 & 10 & a & b & 17.547025\\\\\n",
       "\t11 & 11 & b & a & 19.423109\\\\\n",
       "\t12 & 12 & b & b & 16.369147\\\\\n",
       "\t13 & 13 & a & a & 22.896627\\\\\n",
       "\t14 & 14 & a & b & 14.037504\\\\\n",
       "\t15 & 15 & b & a & 15.564130\\\\\n",
       "\t16 & 16 & b & b & 16.109281\\\\\n",
       "\t17 & 17 & a & a &  7.028036\\\\\n",
       "\t18 & 18 & a & b & 21.508059\\\\\n",
       "\t19 & 19 & b & a & 17.644257\\\\\n",
       "\t20 & 20 & b & b & 16.054999\\\\\n",
       "\\end{tabular}\n"
      ],
      "text/markdown": [
       "\n",
       "A data.frame: 20 × 4\n",
       "\n",
       "| <!--/--> | S &lt;int&gt; | X1 &lt;chr&gt; | X2 &lt;chr&gt; | Y &lt;dbl&gt; |\n",
       "|---|---|---|---|---|\n",
       "| 1 |  1 | a | a | 11.867340 |\n",
       "| 2 |  2 | a | b | 15.453745 |\n",
       "| 3 |  3 | b | a | 15.782415 |\n",
       "| 4 |  4 | b | b | 13.626554 |\n",
       "| 5 |  5 | a | a | 11.608195 |\n",
       "| 6 |  6 | a | b | 19.540674 |\n",
       "| 7 |  7 | b | a | 15.878829 |\n",
       "| 8 |  8 | b | b | 16.654611 |\n",
       "| 9 |  9 | a | a | 17.370245 |\n",
       "| 10 | 10 | a | b | 17.547025 |\n",
       "| 11 | 11 | b | a | 19.423109 |\n",
       "| 12 | 12 | b | b | 16.369147 |\n",
       "| 13 | 13 | a | a | 22.896627 |\n",
       "| 14 | 14 | a | b | 14.037504 |\n",
       "| 15 | 15 | b | a | 15.564130 |\n",
       "| 16 | 16 | b | b | 16.109281 |\n",
       "| 17 | 17 | a | a |  7.028036 |\n",
       "| 18 | 18 | a | b | 21.508059 |\n",
       "| 19 | 19 | b | a | 17.644257 |\n",
       "| 20 | 20 | b | b | 16.054999 |\n",
       "\n"
      ],
      "text/plain": [
       "   S  X1 X2 Y        \n",
       "1   1 a  a  11.867340\n",
       "2   2 a  b  15.453745\n",
       "3   3 b  a  15.782415\n",
       "4   4 b  b  13.626554\n",
       "5   5 a  a  11.608195\n",
       "6   6 a  b  19.540674\n",
       "7   7 b  a  15.878829\n",
       "8   8 b  b  16.654611\n",
       "9   9 a  a  17.370245\n",
       "10 10 a  b  17.547025\n",
       "11 11 b  a  19.423109\n",
       "12 12 b  b  16.369147\n",
       "13 13 a  a  22.896627\n",
       "14 14 a  b  14.037504\n",
       "15 15 b  a  15.564130\n",
       "16 16 b  b  16.109281\n",
       "17 17 a  a   7.028036\n",
       "18 18 a  b  21.508059\n",
       "19 19 b  a  17.644257\n",
       "20 20 b  b  16.054999"
      ]
     },
     "metadata": {},
     "output_type": "display_data"
    }
   ],
   "source": [
    "# Example data\n",
    "# df has two factors (X1,X2) each w/two levels (a,b) and continuous response Y\n",
    "df <- read.csv(\"data/2F2LBs_normal.csv\")\n",
    "head(df, 20)"
   ]
  },
  {
   "cell_type": "code",
   "execution_count": 9,
   "id": "236ede63-265a-4e12-94e8-2cd4a0279c98",
   "metadata": {
    "tags": []
   },
   "outputs": [
    {
     "data": {
      "text/plain": [
       "\n",
       "\tAnderson-Darling normality test\n",
       "\n",
       "data:  df[df$X1 == \"a\" & df$X2 == \"a\", ]$Y\n",
       "A = 0.23266, p-value = 0.7557\n"
      ]
     },
     "metadata": {},
     "output_type": "display_data"
    },
    {
     "data": {
      "text/plain": [
       "\n",
       "\tAnderson-Darling normality test\n",
       "\n",
       "data:  df[df$X1 == \"a\" & df$X2 == \"b\", ]$Y\n",
       "A = 0.35901, p-value = 0.4023\n"
      ]
     },
     "metadata": {},
     "output_type": "display_data"
    },
    {
     "data": {
      "text/plain": [
       "\n",
       "\tAnderson-Darling normality test\n",
       "\n",
       "data:  df[df$X1 == \"b\" & df$X2 == \"a\", ]$Y\n",
       "A = 0.16003, p-value = 0.934\n"
      ]
     },
     "metadata": {},
     "output_type": "display_data"
    },
    {
     "data": {
      "text/plain": [
       "\n",
       "\tAnderson-Darling normality test\n",
       "\n",
       "data:  df[df$X1 == \"b\" & df$X2 == \"b\", ]$Y\n",
       "A = 1.4167, p-value = 0.0007191\n"
      ]
     },
     "metadata": {},
     "output_type": "display_data"
    }
   ],
   "source": [
    "library(nortest)\n",
    "ad.test(df[df$X1 == \"a\" & df$X2 == \"a\",]$Y) # condition a,a\n",
    "ad.test(df[df$X1 == \"a\" & df$X2 == \"b\",]$Y) # condition a,b\n",
    "ad.test(df[df$X1 == \"b\" & df$X2 == \"a\",]$Y) # condition b,a\n",
    "ad.test(df[df$X1 == \"b\" & df$X2 == \"b\",]$Y) # condition b,b"
   ]
  },
  {
   "cell_type": "markdown",
   "id": "074c66d8-1472-47cc-b5c6-f5560544a344",
   "metadata": {
    "tags": []
   },
   "source": [
    "## Anderson-Darling Test (on residuals)\n",
    "\n",
    "* **Assumption:** Normality\n",
    "* **Context of Use:** t-test, ANOVA, LM, LMM\n",
    "* **Reporting:** \"To test the normality assumption, an Anderson-Darling test was run on the residuals of a between-subjects full-factorial ANOVA model. The test was statistically non-significant (A = 0.329, p = .510), indicating compliance with the normality assumption. A Q-Q plot of residuals visually confirms the same (Figure 1).\""
   ]
  },
  {
   "cell_type": "code",
   "execution_count": 10,
   "id": "1009101b-af2e-4712-92d6-2a49fef88d68",
   "metadata": {},
   "outputs": [
    {
     "data": {
      "text/html": [
       "<table class=\"dataframe\">\n",
       "<caption>A data.frame: 20 × 4</caption>\n",
       "<thead>\n",
       "\t<tr><th></th><th scope=col>S</th><th scope=col>X1</th><th scope=col>X2</th><th scope=col>Y</th></tr>\n",
       "\t<tr><th></th><th scope=col>&lt;int&gt;</th><th scope=col>&lt;chr&gt;</th><th scope=col>&lt;chr&gt;</th><th scope=col>&lt;dbl&gt;</th></tr>\n",
       "</thead>\n",
       "<tbody>\n",
       "\t<tr><th scope=row>1</th><td> 1</td><td>a</td><td>a</td><td>11.867340</td></tr>\n",
       "\t<tr><th scope=row>2</th><td> 2</td><td>a</td><td>b</td><td>15.453745</td></tr>\n",
       "\t<tr><th scope=row>3</th><td> 3</td><td>b</td><td>a</td><td>15.782415</td></tr>\n",
       "\t<tr><th scope=row>4</th><td> 4</td><td>b</td><td>b</td><td>13.626554</td></tr>\n",
       "\t<tr><th scope=row>5</th><td> 5</td><td>a</td><td>a</td><td>11.608195</td></tr>\n",
       "\t<tr><th scope=row>6</th><td> 6</td><td>a</td><td>b</td><td>19.540674</td></tr>\n",
       "\t<tr><th scope=row>7</th><td> 7</td><td>b</td><td>a</td><td>15.878829</td></tr>\n",
       "\t<tr><th scope=row>8</th><td> 8</td><td>b</td><td>b</td><td>16.654611</td></tr>\n",
       "\t<tr><th scope=row>9</th><td> 9</td><td>a</td><td>a</td><td>17.370245</td></tr>\n",
       "\t<tr><th scope=row>10</th><td>10</td><td>a</td><td>b</td><td>17.547025</td></tr>\n",
       "\t<tr><th scope=row>11</th><td>11</td><td>b</td><td>a</td><td>19.423109</td></tr>\n",
       "\t<tr><th scope=row>12</th><td>12</td><td>b</td><td>b</td><td>16.369147</td></tr>\n",
       "\t<tr><th scope=row>13</th><td>13</td><td>a</td><td>a</td><td>22.896627</td></tr>\n",
       "\t<tr><th scope=row>14</th><td>14</td><td>a</td><td>b</td><td>14.037504</td></tr>\n",
       "\t<tr><th scope=row>15</th><td>15</td><td>b</td><td>a</td><td>15.564130</td></tr>\n",
       "\t<tr><th scope=row>16</th><td>16</td><td>b</td><td>b</td><td>16.109281</td></tr>\n",
       "\t<tr><th scope=row>17</th><td>17</td><td>a</td><td>a</td><td> 7.028036</td></tr>\n",
       "\t<tr><th scope=row>18</th><td>18</td><td>a</td><td>b</td><td>21.508059</td></tr>\n",
       "\t<tr><th scope=row>19</th><td>19</td><td>b</td><td>a</td><td>17.644257</td></tr>\n",
       "\t<tr><th scope=row>20</th><td>20</td><td>b</td><td>b</td><td>16.054999</td></tr>\n",
       "</tbody>\n",
       "</table>\n"
      ],
      "text/latex": [
       "A data.frame: 20 × 4\n",
       "\\begin{tabular}{r|llll}\n",
       "  & S & X1 & X2 & Y\\\\\n",
       "  & <int> & <chr> & <chr> & <dbl>\\\\\n",
       "\\hline\n",
       "\t1 &  1 & a & a & 11.867340\\\\\n",
       "\t2 &  2 & a & b & 15.453745\\\\\n",
       "\t3 &  3 & b & a & 15.782415\\\\\n",
       "\t4 &  4 & b & b & 13.626554\\\\\n",
       "\t5 &  5 & a & a & 11.608195\\\\\n",
       "\t6 &  6 & a & b & 19.540674\\\\\n",
       "\t7 &  7 & b & a & 15.878829\\\\\n",
       "\t8 &  8 & b & b & 16.654611\\\\\n",
       "\t9 &  9 & a & a & 17.370245\\\\\n",
       "\t10 & 10 & a & b & 17.547025\\\\\n",
       "\t11 & 11 & b & a & 19.423109\\\\\n",
       "\t12 & 12 & b & b & 16.369147\\\\\n",
       "\t13 & 13 & a & a & 22.896627\\\\\n",
       "\t14 & 14 & a & b & 14.037504\\\\\n",
       "\t15 & 15 & b & a & 15.564130\\\\\n",
       "\t16 & 16 & b & b & 16.109281\\\\\n",
       "\t17 & 17 & a & a &  7.028036\\\\\n",
       "\t18 & 18 & a & b & 21.508059\\\\\n",
       "\t19 & 19 & b & a & 17.644257\\\\\n",
       "\t20 & 20 & b & b & 16.054999\\\\\n",
       "\\end{tabular}\n"
      ],
      "text/markdown": [
       "\n",
       "A data.frame: 20 × 4\n",
       "\n",
       "| <!--/--> | S &lt;int&gt; | X1 &lt;chr&gt; | X2 &lt;chr&gt; | Y &lt;dbl&gt; |\n",
       "|---|---|---|---|---|\n",
       "| 1 |  1 | a | a | 11.867340 |\n",
       "| 2 |  2 | a | b | 15.453745 |\n",
       "| 3 |  3 | b | a | 15.782415 |\n",
       "| 4 |  4 | b | b | 13.626554 |\n",
       "| 5 |  5 | a | a | 11.608195 |\n",
       "| 6 |  6 | a | b | 19.540674 |\n",
       "| 7 |  7 | b | a | 15.878829 |\n",
       "| 8 |  8 | b | b | 16.654611 |\n",
       "| 9 |  9 | a | a | 17.370245 |\n",
       "| 10 | 10 | a | b | 17.547025 |\n",
       "| 11 | 11 | b | a | 19.423109 |\n",
       "| 12 | 12 | b | b | 16.369147 |\n",
       "| 13 | 13 | a | a | 22.896627 |\n",
       "| 14 | 14 | a | b | 14.037504 |\n",
       "| 15 | 15 | b | a | 15.564130 |\n",
       "| 16 | 16 | b | b | 16.109281 |\n",
       "| 17 | 17 | a | a |  7.028036 |\n",
       "| 18 | 18 | a | b | 21.508059 |\n",
       "| 19 | 19 | b | a | 17.644257 |\n",
       "| 20 | 20 | b | b | 16.054999 |\n",
       "\n"
      ],
      "text/plain": [
       "   S  X1 X2 Y        \n",
       "1   1 a  a  11.867340\n",
       "2   2 a  b  15.453745\n",
       "3   3 b  a  15.782415\n",
       "4   4 b  b  13.626554\n",
       "5   5 a  a  11.608195\n",
       "6   6 a  b  19.540674\n",
       "7   7 b  a  15.878829\n",
       "8   8 b  b  16.654611\n",
       "9   9 a  a  17.370245\n",
       "10 10 a  b  17.547025\n",
       "11 11 b  a  19.423109\n",
       "12 12 b  b  16.369147\n",
       "13 13 a  a  22.896627\n",
       "14 14 a  b  14.037504\n",
       "15 15 b  a  15.564130\n",
       "16 16 b  b  16.109281\n",
       "17 17 a  a   7.028036\n",
       "18 18 a  b  21.508059\n",
       "19 19 b  a  17.644257\n",
       "20 20 b  b  16.054999"
      ]
     },
     "metadata": {},
     "output_type": "display_data"
    }
   ],
   "source": [
    "# Example data\n",
    "# df has two factors (X1,X2) each w/two levels (a,b) and continuous response Y\n",
    "df <- read.csv(\"data/2F2LBs_normal.csv\")\n",
    "head(df, 20)"
   ]
  },
  {
   "cell_type": "code",
   "execution_count": 11,
   "id": "b4f2658b-96b6-4ac4-b033-1689c9eb4b3c",
   "metadata": {},
   "outputs": [
    {
     "data": {
      "text/plain": [
       "\n",
       "\tAnderson-Darling normality test\n",
       "\n",
       "data:  residuals(m)\n",
       "A = 0.32859, p-value = 0.5102\n"
      ]
     },
     "metadata": {},
     "output_type": "display_data"
    }
   ],
   "source": [
    "library(nortest)\n",
    "m = aov(Y ~ X1*X2, data=df) # make anova model\n",
    "ad.test(residuals(m))"
   ]
  },
  {
   "cell_type": "code",
   "execution_count": 12,
   "id": "02e7e704-2868-42c9-8cda-1603555e0dfb",
   "metadata": {},
   "outputs": [
    {
     "data": {
      "image/png": "[encoded data removed]",
      "text/plain": [
       "Plot with title “Normal Q-Q Plot”"
      ]
     },
     "metadata": {
      "image/png": {
       "height": 420,
       "width": 420
      }
     },
     "output_type": "display_data"
    }
   ],
   "source": [
    "par(mfrow=c(1,1))\n",
    "qqnorm(residuals(m)); qqline(residuals(m)) # Q-Q plot"
   ]
  },
  {
   "cell_type": "markdown",
   "id": "9277a9d4-32e8-4bd9-a7e7-54f9011191ec",
   "metadata": {
    "tags": []
   },
   "source": [
    "## Levene's Test\n",
    "\n",
    "* **Assumption:** Homoscedasticity (Homogeneity of Variance)\n",
    "* **Context of Use:** t-test, ANOVA, LM, LMM\n",
    "* **Reporting:** \"To test the homoscedasticity assumption, Levene’s test was run on a between-subjects full-factorial ANOVA model. The test was statistically significant (F(3, 56) = 3.97, p < .05), indicating a departure from homoscedasticity.\""
   ]
  },
  {
   "cell_type": "code",
   "execution_count": 13,
   "id": "c40b584c-acab-48a9-a4a2-5a57bb39e46f",
   "metadata": {
    "tags": []
   },
   "outputs": [
    {
     "data": {
      "text/html": [
       "<table class=\"dataframe\">\n",
       "<caption>A data.frame: 20 × 4</caption>\n",
       "<thead>\n",
       "\t<tr><th></th><th scope=col>S</th><th scope=col>X1</th><th scope=col>X2</th><th scope=col>Y</th></tr>\n",
       "\t<tr><th></th><th scope=col>&lt;int&gt;</th><th scope=col>&lt;chr&gt;</th><th scope=col>&lt;chr&gt;</th><th scope=col>&lt;dbl&gt;</th></tr>\n",
       "</thead>\n",
       "<tbody>\n",
       "\t<tr><th scope=row>1</th><td> 1</td><td>a</td><td>a</td><td>11.867340</td></tr>\n",
       "\t<tr><th scope=row>2</th><td> 2</td><td>a</td><td>b</td><td>15.453745</td></tr>\n",
       "\t<tr><th scope=row>3</th><td> 3</td><td>b</td><td>a</td><td>15.782415</td></tr>\n",
       "\t<tr><th scope=row>4</th><td> 4</td><td>b</td><td>b</td><td>13.626554</td></tr>\n",
       "\t<tr><th scope=row>5</th><td> 5</td><td>a</td><td>a</td><td>11.608195</td></tr>\n",
       "\t<tr><th scope=row>6</th><td> 6</td><td>a</td><td>b</td><td>19.540674</td></tr>\n",
       "\t<tr><th scope=row>7</th><td> 7</td><td>b</td><td>a</td><td>15.878829</td></tr>\n",
       "\t<tr><th scope=row>8</th><td> 8</td><td>b</td><td>b</td><td>16.654611</td></tr>\n",
       "\t<tr><th scope=row>9</th><td> 9</td><td>a</td><td>a</td><td>17.370245</td></tr>\n",
       "\t<tr><th scope=row>10</th><td>10</td><td>a</td><td>b</td><td>17.547025</td></tr>\n",
       "\t<tr><th scope=row>11</th><td>11</td><td>b</td><td>a</td><td>19.423109</td></tr>\n",
       "\t<tr><th scope=row>12</th><td>12</td><td>b</td><td>b</td><td>16.369147</td></tr>\n",
       "\t<tr><th scope=row>13</th><td>13</td><td>a</td><td>a</td><td>22.896627</td></tr>\n",
       "\t<tr><th scope=row>14</th><td>14</td><td>a</td><td>b</td><td>14.037504</td></tr>\n",
       "\t<tr><th scope=row>15</th><td>15</td><td>b</td><td>a</td><td>15.564130</td></tr>\n",
       "\t<tr><th scope=row>16</th><td>16</td><td>b</td><td>b</td><td>16.109281</td></tr>\n",
       "\t<tr><th scope=row>17</th><td>17</td><td>a</td><td>a</td><td> 7.028036</td></tr>\n",
       "\t<tr><th scope=row>18</th><td>18</td><td>a</td><td>b</td><td>21.508059</td></tr>\n",
       "\t<tr><th scope=row>19</th><td>19</td><td>b</td><td>a</td><td>17.644257</td></tr>\n",
       "\t<tr><th scope=row>20</th><td>20</td><td>b</td><td>b</td><td>16.054999</td></tr>\n",
       "</tbody>\n",
       "</table>\n"
      ],
      "text/latex": [
       "A data.frame: 20 × 4\n",
       "\\begin{tabular}{r|llll}\n",
       "  & S & X1 & X2 & Y\\\\\n",
       "  & <int> & <chr> & <chr> & <dbl>\\\\\n",
       "\\hline\n",
       "\t1 &  1 & a & a & 11.867340\\\\\n",
       "\t2 &  2 & a & b & 15.453745\\\\\n",
       "\t3 &  3 & b & a & 15.782415\\\\\n",
       "\t4 &  4 & b & b & 13.626554\\\\\n",
       "\t5 &  5 & a & a & 11.608195\\\\\n",
       "\t6 &  6 & a & b & 19.540674\\\\\n",
       "\t7 &  7 & b & a & 15.878829\\\\\n",
       "\t8 &  8 & b & b & 16.654611\\\\\n",
       "\t9 &  9 & a & a & 17.370245\\\\\n",
       "\t10 & 10 & a & b & 17.547025\\\\\n",
       "\t11 & 11 & b & a & 19.423109\\\\\n",
       "\t12 & 12 & b & b & 16.369147\\\\\n",
       "\t13 & 13 & a & a & 22.896627\\\\\n",
       "\t14 & 14 & a & b & 14.037504\\\\\n",
       "\t15 & 15 & b & a & 15.564130\\\\\n",
       "\t16 & 16 & b & b & 16.109281\\\\\n",
       "\t17 & 17 & a & a &  7.028036\\\\\n",
       "\t18 & 18 & a & b & 21.508059\\\\\n",
       "\t19 & 19 & b & a & 17.644257\\\\\n",
       "\t20 & 20 & b & b & 16.054999\\\\\n",
       "\\end{tabular}\n"
      ],
      "text/markdown": [
       "\n",
       "A data.frame: 20 × 4\n",
       "\n",
       "| <!--/--> | S &lt;int&gt; | X1 &lt;chr&gt; | X2 &lt;chr&gt; | Y &lt;dbl&gt; |\n",
       "|---|---|---|---|---|\n",
       "| 1 |  1 | a | a | 11.867340 |\n",
       "| 2 |  2 | a | b | 15.453745 |\n",
       "| 3 |  3 | b | a | 15.782415 |\n",
       "| 4 |  4 | b | b | 13.626554 |\n",
       "| 5 |  5 | a | a | 11.608195 |\n",
       "| 6 |  6 | a | b | 19.540674 |\n",
       "| 7 |  7 | b | a | 15.878829 |\n",
       "| 8 |  8 | b | b | 16.654611 |\n",
       "| 9 |  9 | a | a | 17.370245 |\n",
       "| 10 | 10 | a | b | 17.547025 |\n",
       "| 11 | 11 | b | a | 19.423109 |\n",
       "| 12 | 12 | b | b | 16.369147 |\n",
       "| 13 | 13 | a | a | 22.896627 |\n",
       "| 14 | 14 | a | b | 14.037504 |\n",
       "| 15 | 15 | b | a | 15.564130 |\n",
       "| 16 | 16 | b | b | 16.109281 |\n",
       "| 17 | 17 | a | a |  7.028036 |\n",
       "| 18 | 18 | a | b | 21.508059 |\n",
       "| 19 | 19 | b | a | 17.644257 |\n",
       "| 20 | 20 | b | b | 16.054999 |\n",
       "\n"
      ],
      "text/plain": [
       "   S  X1 X2 Y        \n",
       "1   1 a  a  11.867340\n",
       "2   2 a  b  15.453745\n",
       "3   3 b  a  15.782415\n",
       "4   4 b  b  13.626554\n",
       "5   5 a  a  11.608195\n",
       "6   6 a  b  19.540674\n",
       "7   7 b  a  15.878829\n",
       "8   8 b  b  16.654611\n",
       "9   9 a  a  17.370245\n",
       "10 10 a  b  17.547025\n",
       "11 11 b  a  19.423109\n",
       "12 12 b  b  16.369147\n",
       "13 13 a  a  22.896627\n",
       "14 14 a  b  14.037504\n",
       "15 15 b  a  15.564130\n",
       "16 16 b  b  16.109281\n",
       "17 17 a  a   7.028036\n",
       "18 18 a  b  21.508059\n",
       "19 19 b  a  17.644257\n",
       "20 20 b  b  16.054999"
      ]
     },
     "metadata": {},
     "output_type": "display_data"
    }
   ],
   "source": [
    "# Example data\n",
    "# df has two factors (X1,X2) each w/two levels (a,b) and continuous response Y\n",
    "df <- read.csv(\"data/2F2LBs_normal.csv\")\n",
    "head(df, 20)"
   ]
  },
  {
   "cell_type": "code",
   "execution_count": 14,
   "id": "01dd3f44-3fd1-4517-9b58-4d699851b5b5",
   "metadata": {
    "tags": []
   },
   "outputs": [
    {
     "name": "stderr",
     "output_type": "stream",
     "text": [
      "Loading required package: carData\n",
      "\n"
     ]
    },
    {
     "data": {
      "text/html": [
       "<table class=\"dataframe\">\n",
       "<caption>A anova: 2 × 3</caption>\n",
       "<thead>\n",
       "\t<tr><th></th><th scope=col>Df</th><th scope=col>F value</th><th scope=col>Pr(&gt;F)</th></tr>\n",
       "\t<tr><th></th><th scope=col>&lt;int&gt;</th><th scope=col>&lt;dbl&gt;</th><th scope=col>&lt;dbl&gt;</th></tr>\n",
       "</thead>\n",
       "<tbody>\n",
       "\t<tr><th scope=row>group</th><td> 3</td><td>3.965124</td><td>0.01238959</td></tr>\n",
       "\t<tr><th scope=row> </th><td>56</td><td>      NA</td><td>        NA</td></tr>\n",
       "</tbody>\n",
       "</table>\n"
      ],
      "text/latex": [
       "A anova: 2 × 3\n",
       "\\begin{tabular}{r|lll}\n",
       "  & Df & F value & Pr(>F)\\\\\n",
       "  & <int> & <dbl> & <dbl>\\\\\n",
       "\\hline\n",
       "\tgroup &  3 & 3.965124 & 0.01238959\\\\\n",
       "\t  & 56 &       NA &         NA\\\\\n",
       "\\end{tabular}\n"
      ],
      "text/markdown": [
       "\n",
       "A anova: 2 × 3\n",
       "\n",
       "| <!--/--> | Df &lt;int&gt; | F value &lt;dbl&gt; | Pr(&gt;F) &lt;dbl&gt; |\n",
       "|---|---|---|---|\n",
       "| group |  3 | 3.965124 | 0.01238959 |\n",
       "| <!----> | 56 |       NA |         NA |\n",
       "\n"
      ],
      "text/plain": [
       "      Df F value  Pr(>F)    \n",
       "group  3 3.965124 0.01238959\n",
       "      56       NA         NA"
      ]
     },
     "metadata": {},
     "output_type": "display_data"
    },
    {
     "data": {
      "text/plain": [
       "\n",
       "\tWelch Two Sample t-test\n",
       "\n",
       "data:  Y by X1\n",
       "t = 0.80702, df = 43.125, p-value = 0.4241\n",
       "alternative hypothesis: true difference in means between group a and group b is not equal to 0\n",
       "95 percent confidence interval:\n",
       " -1.188936  2.775540\n",
       "sample estimates:\n",
       "mean in group a mean in group b \n",
       "       15.56348        14.77018 \n"
      ]
     },
     "metadata": {},
     "output_type": "display_data"
    },
    {
     "name": "stderr",
     "output_type": "stream",
     "text": [
      "Coefficient covariances computed by hccm()\n",
      "\n"
     ]
    },
    {
     "data": {
      "text/html": [
       "<table class=\"dataframe\">\n",
       "<caption>A anova: 5 × 3</caption>\n",
       "<thead>\n",
       "\t<tr><th></th><th scope=col>Df</th><th scope=col>F</th><th scope=col>Pr(&gt;F)</th></tr>\n",
       "\t<tr><th></th><th scope=col>&lt;dbl&gt;</th><th scope=col>&lt;dbl&gt;</th><th scope=col>&lt;dbl&gt;</th></tr>\n",
       "</thead>\n",
       "<tbody>\n",
       "\t<tr><th scope=row>(Intercept)</th><td> 1</td><td>103.0349856</td><td>2.652463e-14</td></tr>\n",
       "\t<tr><th scope=row>X1</th><td> 1</td><td>  0.4129862</td><td>5.230802e-01</td></tr>\n",
       "\t<tr><th scope=row>X2</th><td> 1</td><td>  8.0591851</td><td>6.296776e-03</td></tr>\n",
       "\t<tr><th scope=row>X1:X2</th><td> 1</td><td>  3.6441353</td><td>6.139637e-02</td></tr>\n",
       "\t<tr><th scope=row>Residuals</th><td>56</td><td>         NA</td><td>          NA</td></tr>\n",
       "</tbody>\n",
       "</table>\n"
      ],
      "text/latex": [
       "A anova: 5 × 3\n",
       "\\begin{tabular}{r|lll}\n",
       "  & Df & F & Pr(>F)\\\\\n",
       "  & <dbl> & <dbl> & <dbl>\\\\\n",
       "\\hline\n",
       "\t(Intercept) &  1 & 103.0349856 & 2.652463e-14\\\\\n",
       "\tX1 &  1 &   0.4129862 & 5.230802e-01\\\\\n",
       "\tX2 &  1 &   8.0591851 & 6.296776e-03\\\\\n",
       "\tX1:X2 &  1 &   3.6441353 & 6.139637e-02\\\\\n",
       "\tResiduals & 56 &          NA &           NA\\\\\n",
       "\\end{tabular}\n"
      ],
      "text/markdown": [
       "\n",
       "A anova: 5 × 3\n",
       "\n",
       "| <!--/--> | Df &lt;dbl&gt; | F &lt;dbl&gt; | Pr(&gt;F) &lt;dbl&gt; |\n",
       "|---|---|---|---|\n",
       "| (Intercept) |  1 | 103.0349856 | 2.652463e-14 |\n",
       "| X1 |  1 |   0.4129862 | 5.230802e-01 |\n",
       "| X2 |  1 |   8.0591851 | 6.296776e-03 |\n",
       "| X1:X2 |  1 |   3.6441353 | 6.139637e-02 |\n",
       "| Residuals | 56 |          NA |           NA |\n",
       "\n"
      ],
      "text/plain": [
       "            Df F           Pr(>F)      \n",
       "(Intercept)  1 103.0349856 2.652463e-14\n",
       "X1           1   0.4129862 5.230802e-01\n",
       "X2           1   8.0591851 6.296776e-03\n",
       "X1:X2        1   3.6441353 6.139637e-02\n",
       "Residuals   56          NA           NA"
      ]
     },
     "metadata": {},
     "output_type": "display_data"
    }
   ],
   "source": [
    "library(car) # for leveneTest and Anova\n",
    "leveneTest(Y ~ X1*X2, data=df, center=mean)\n",
    "# if a violation occurs and only a t-test is needed, use a Welch t-test\n",
    "t.test(Y ~ X1, data=df, var.equal=FALSE) # Welch t-test\n",
    "# if a violation occurs and an ANOVA is needed, use a White-adjusted ANOVA\n",
    "m = aov(Y ~ X1*X2, data=df)\n",
    "Anova(m, type=3, white.adjust=TRUE)"
   ]
  },
  {
   "cell_type": "markdown",
   "id": "c2d8522a-6a1e-455e-bd34-1c840b35ae04",
   "metadata": {
    "tags": []
   },
   "source": [
    "## Brown-Forsythe Test\n",
    "\n",
    "* **Assumption:** Homoscedasticity (Homogeneity of Variance)\n",
    "* **Context of Use:** t-test, ANOVA, LM, LMM\n",
    "* **Reporting:** \"To test the homoscedasticity assumption, the Brown-Forsythe test was run on a between-subjects full-factorial ANOVA model. The test was statistically significant (F(3, 56) = 3.75, p < .05), indicating a departure from homoscedasticity.\""
   ]
  },
  {
   "cell_type": "code",
   "execution_count": 15,
   "id": "70d3af27-f903-4ded-9c83-4ac05ed7a980",
   "metadata": {
    "tags": []
   },
   "outputs": [
    {
     "data": {
      "text/html": [
       "<table class=\"dataframe\">\n",
       "<caption>A data.frame: 20 × 4</caption>\n",
       "<thead>\n",
       "\t<tr><th></th><th scope=col>S</th><th scope=col>X1</th><th scope=col>X2</th><th scope=col>Y</th></tr>\n",
       "\t<tr><th></th><th scope=col>&lt;int&gt;</th><th scope=col>&lt;chr&gt;</th><th scope=col>&lt;chr&gt;</th><th scope=col>&lt;dbl&gt;</th></tr>\n",
       "</thead>\n",
       "<tbody>\n",
       "\t<tr><th scope=row>1</th><td> 1</td><td>a</td><td>a</td><td>11.867340</td></tr>\n",
       "\t<tr><th scope=row>2</th><td> 2</td><td>a</td><td>b</td><td>15.453745</td></tr>\n",
       "\t<tr><th scope=row>3</th><td> 3</td><td>b</td><td>a</td><td>15.782415</td></tr>\n",
       "\t<tr><th scope=row>4</th><td> 4</td><td>b</td><td>b</td><td>13.626554</td></tr>\n",
       "\t<tr><th scope=row>5</th><td> 5</td><td>a</td><td>a</td><td>11.608195</td></tr>\n",
       "\t<tr><th scope=row>6</th><td> 6</td><td>a</td><td>b</td><td>19.540674</td></tr>\n",
       "\t<tr><th scope=row>7</th><td> 7</td><td>b</td><td>a</td><td>15.878829</td></tr>\n",
       "\t<tr><th scope=row>8</th><td> 8</td><td>b</td><td>b</td><td>16.654611</td></tr>\n",
       "\t<tr><th scope=row>9</th><td> 9</td><td>a</td><td>a</td><td>17.370245</td></tr>\n",
       "\t<tr><th scope=row>10</th><td>10</td><td>a</td><td>b</td><td>17.547025</td></tr>\n",
       "\t<tr><th scope=row>11</th><td>11</td><td>b</td><td>a</td><td>19.423109</td></tr>\n",
       "\t<tr><th scope=row>12</th><td>12</td><td>b</td><td>b</td><td>16.369147</td></tr>\n",
       "\t<tr><th scope=row>13</th><td>13</td><td>a</td><td>a</td><td>22.896627</td></tr>\n",
       "\t<tr><th scope=row>14</th><td>14</td><td>a</td><td>b</td><td>14.037504</td></tr>\n",
       "\t<tr><th scope=row>15</th><td>15</td><td>b</td><td>a</td><td>15.564130</td></tr>\n",
       "\t<tr><th scope=row>16</th><td>16</td><td>b</td><td>b</td><td>16.109281</td></tr>\n",
       "\t<tr><th scope=row>17</th><td>17</td><td>a</td><td>a</td><td> 7.028036</td></tr>\n",
       "\t<tr><th scope=row>18</th><td>18</td><td>a</td><td>b</td><td>21.508059</td></tr>\n",
       "\t<tr><th scope=row>19</th><td>19</td><td>b</td><td>a</td><td>17.644257</td></tr>\n",
       "\t<tr><th scope=row>20</th><td>20</td><td>b</td><td>b</td><td>16.054999</td></tr>\n",
       "</tbody>\n",
       "</table>\n"
      ],
      "text/latex": [
       "A data.frame: 20 × 4\n",
       "\\begin{tabular}{r|llll}\n",
       "  & S & X1 & X2 & Y\\\\\n",
       "  & <int> & <chr> & <chr> & <dbl>\\\\\n",
       "\\hline\n",
       "\t1 &  1 & a & a & 11.867340\\\\\n",
       "\t2 &  2 & a & b & 15.453745\\\\\n",
       "\t3 &  3 & b & a & 15.782415\\\\\n",
       "\t4 &  4 & b & b & 13.626554\\\\\n",
       "\t5 &  5 & a & a & 11.608195\\\\\n",
       "\t6 &  6 & a & b & 19.540674\\\\\n",
       "\t7 &  7 & b & a & 15.878829\\\\\n",
       "\t8 &  8 & b & b & 16.654611\\\\\n",
       "\t9 &  9 & a & a & 17.370245\\\\\n",
       "\t10 & 10 & a & b & 17.547025\\\\\n",
       "\t11 & 11 & b & a & 19.423109\\\\\n",
       "\t12 & 12 & b & b & 16.369147\\\\\n",
       "\t13 & 13 & a & a & 22.896627\\\\\n",
       "\t14 & 14 & a & b & 14.037504\\\\\n",
       "\t15 & 15 & b & a & 15.564130\\\\\n",
       "\t16 & 16 & b & b & 16.109281\\\\\n",
       "\t17 & 17 & a & a &  7.028036\\\\\n",
       "\t18 & 18 & a & b & 21.508059\\\\\n",
       "\t19 & 19 & b & a & 17.644257\\\\\n",
       "\t20 & 20 & b & b & 16.054999\\\\\n",
       "\\end{tabular}\n"
      ],
      "text/markdown": [
       "\n",
       "A data.frame: 20 × 4\n",
       "\n",
       "| <!--/--> | S &lt;int&gt; | X1 &lt;chr&gt; | X2 &lt;chr&gt; | Y &lt;dbl&gt; |\n",
       "|---|---|---|---|---|\n",
       "| 1 |  1 | a | a | 11.867340 |\n",
       "| 2 |  2 | a | b | 15.453745 |\n",
       "| 3 |  3 | b | a | 15.782415 |\n",
       "| 4 |  4 | b | b | 13.626554 |\n",
       "| 5 |  5 | a | a | 11.608195 |\n",
       "| 6 |  6 | a | b | 19.540674 |\n",
       "| 7 |  7 | b | a | 15.878829 |\n",
       "| 8 |  8 | b | b | 16.654611 |\n",
       "| 9 |  9 | a | a | 17.370245 |\n",
       "| 10 | 10 | a | b | 17.547025 |\n",
       "| 11 | 11 | b | a | 19.423109 |\n",
       "| 12 | 12 | b | b | 16.369147 |\n",
       "| 13 | 13 | a | a | 22.896627 |\n",
       "| 14 | 14 | a | b | 14.037504 |\n",
       "| 15 | 15 | b | a | 15.564130 |\n",
       "| 16 | 16 | b | b | 16.109281 |\n",
       "| 17 | 17 | a | a |  7.028036 |\n",
       "| 18 | 18 | a | b | 21.508059 |\n",
       "| 19 | 19 | b | a | 17.644257 |\n",
       "| 20 | 20 | b | b | 16.054999 |\n",
       "\n"
      ],
      "text/plain": [
       "   S  X1 X2 Y        \n",
       "1   1 a  a  11.867340\n",
       "2   2 a  b  15.453745\n",
       "3   3 b  a  15.782415\n",
       "4   4 b  b  13.626554\n",
       "5   5 a  a  11.608195\n",
       "6   6 a  b  19.540674\n",
       "7   7 b  a  15.878829\n",
       "8   8 b  b  16.654611\n",
       "9   9 a  a  17.370245\n",
       "10 10 a  b  17.547025\n",
       "11 11 b  a  19.423109\n",
       "12 12 b  b  16.369147\n",
       "13 13 a  a  22.896627\n",
       "14 14 a  b  14.037504\n",
       "15 15 b  a  15.564130\n",
       "16 16 b  b  16.109281\n",
       "17 17 a  a   7.028036\n",
       "18 18 a  b  21.508059\n",
       "19 19 b  a  17.644257\n",
       "20 20 b  b  16.054999"
      ]
     },
     "metadata": {},
     "output_type": "display_data"
    }
   ],
   "source": [
    "# Example data\n",
    "# df has two factors (X1,X2) each w/two levels (a,b) and continuous response Y\n",
    "df <- read.csv(\"data/2F2LBs_normal.csv\")\n",
    "head(df, 20)"
   ]
  },
  {
   "cell_type": "code",
   "execution_count": 16,
   "id": "23adc841-c99a-41bb-bcea-131e7323e035",
   "metadata": {
    "tags": []
   },
   "outputs": [
    {
     "data": {
      "text/html": [
       "<table class=\"dataframe\">\n",
       "<caption>A anova: 2 × 3</caption>\n",
       "<thead>\n",
       "\t<tr><th></th><th scope=col>Df</th><th scope=col>F value</th><th scope=col>Pr(&gt;F)</th></tr>\n",
       "\t<tr><th></th><th scope=col>&lt;int&gt;</th><th scope=col>&lt;dbl&gt;</th><th scope=col>&lt;dbl&gt;</th></tr>\n",
       "</thead>\n",
       "<tbody>\n",
       "\t<tr><th scope=row>group</th><td> 3</td><td>3.750252</td><td>0.01587369</td></tr>\n",
       "\t<tr><th scope=row> </th><td>56</td><td>      NA</td><td>        NA</td></tr>\n",
       "</tbody>\n",
       "</table>\n"
      ],
      "text/latex": [
       "A anova: 2 × 3\n",
       "\\begin{tabular}{r|lll}\n",
       "  & Df & F value & Pr(>F)\\\\\n",
       "  & <int> & <dbl> & <dbl>\\\\\n",
       "\\hline\n",
       "\tgroup &  3 & 3.750252 & 0.01587369\\\\\n",
       "\t  & 56 &       NA &         NA\\\\\n",
       "\\end{tabular}\n"
      ],
      "text/markdown": [
       "\n",
       "A anova: 2 × 3\n",
       "\n",
       "| <!--/--> | Df &lt;int&gt; | F value &lt;dbl&gt; | Pr(&gt;F) &lt;dbl&gt; |\n",
       "|---|---|---|---|\n",
       "| group |  3 | 3.750252 | 0.01587369 |\n",
       "| <!----> | 56 |       NA |         NA |\n",
       "\n"
      ],
      "text/plain": [
       "      Df F value  Pr(>F)    \n",
       "group  3 3.750252 0.01587369\n",
       "      56       NA         NA"
      ]
     },
     "metadata": {},
     "output_type": "display_data"
    },
    {
     "data": {
      "text/plain": [
       "\n",
       "\tWelch Two Sample t-test\n",
       "\n",
       "data:  Y by X1\n",
       "t = 0.80702, df = 43.125, p-value = 0.4241\n",
       "alternative hypothesis: true difference in means between group a and group b is not equal to 0\n",
       "95 percent confidence interval:\n",
       " -1.188936  2.775540\n",
       "sample estimates:\n",
       "mean in group a mean in group b \n",
       "       15.56348        14.77018 \n"
      ]
     },
     "metadata": {},
     "output_type": "display_data"
    },
    {
     "name": "stderr",
     "output_type": "stream",
     "text": [
      "Coefficient covariances computed by hccm()\n",
      "\n"
     ]
    },
    {
     "data": {
      "text/html": [
       "<table class=\"dataframe\">\n",
       "<caption>A anova: 5 × 3</caption>\n",
       "<thead>\n",
       "\t<tr><th></th><th scope=col>Df</th><th scope=col>F</th><th scope=col>Pr(&gt;F)</th></tr>\n",
       "\t<tr><th></th><th scope=col>&lt;dbl&gt;</th><th scope=col>&lt;dbl&gt;</th><th scope=col>&lt;dbl&gt;</th></tr>\n",
       "</thead>\n",
       "<tbody>\n",
       "\t<tr><th scope=row>(Intercept)</th><td> 1</td><td>103.0349856</td><td>2.652463e-14</td></tr>\n",
       "\t<tr><th scope=row>X1</th><td> 1</td><td>  0.4129862</td><td>5.230802e-01</td></tr>\n",
       "\t<tr><th scope=row>X2</th><td> 1</td><td>  8.0591851</td><td>6.296776e-03</td></tr>\n",
       "\t<tr><th scope=row>X1:X2</th><td> 1</td><td>  3.6441353</td><td>6.139637e-02</td></tr>\n",
       "\t<tr><th scope=row>Residuals</th><td>56</td><td>         NA</td><td>          NA</td></tr>\n",
       "</tbody>\n",
       "</table>\n"
      ],
      "text/latex": [
       "A anova: 5 × 3\n",
       "\\begin{tabular}{r|lll}\n",
       "  & Df & F & Pr(>F)\\\\\n",
       "  & <dbl> & <dbl> & <dbl>\\\\\n",
       "\\hline\n",
       "\t(Intercept) &  1 & 103.0349856 & 2.652463e-14\\\\\n",
       "\tX1 &  1 &   0.4129862 & 5.230802e-01\\\\\n",
       "\tX2 &  1 &   8.0591851 & 6.296776e-03\\\\\n",
       "\tX1:X2 &  1 &   3.6441353 & 6.139637e-02\\\\\n",
       "\tResiduals & 56 &          NA &           NA\\\\\n",
       "\\end{tabular}\n"
      ],
      "text/markdown": [
       "\n",
       "A anova: 5 × 3\n",
       "\n",
       "| <!--/--> | Df &lt;dbl&gt; | F &lt;dbl&gt; | Pr(&gt;F) &lt;dbl&gt; |\n",
       "|---|---|---|---|\n",
       "| (Intercept) |  1 | 103.0349856 | 2.652463e-14 |\n",
       "| X1 |  1 |   0.4129862 | 5.230802e-01 |\n",
       "| X2 |  1 |   8.0591851 | 6.296776e-03 |\n",
       "| X1:X2 |  1 |   3.6441353 | 6.139637e-02 |\n",
       "| Residuals | 56 |          NA |           NA |\n",
       "\n"
      ],
      "text/plain": [
       "            Df F           Pr(>F)      \n",
       "(Intercept)  1 103.0349856 2.652463e-14\n",
       "X1           1   0.4129862 5.230802e-01\n",
       "X2           1   8.0591851 6.296776e-03\n",
       "X1:X2        1   3.6441353 6.139637e-02\n",
       "Residuals   56          NA           NA"
      ]
     },
     "metadata": {},
     "output_type": "display_data"
    }
   ],
   "source": [
    "library(car) # for leveneTest, Anova\n",
    "leveneTest(Y ~ X1*X2, data=df, center=median)\n",
    "# if a violation occurs and only a t-test is needed, use a Welch t-test\n",
    "t.test(Y ~ X1, data=df, var.equal=FALSE) # Welch t-test\n",
    "# if a violation occurs and an ANOVA is needed, use a White-adjusted ANOVA\n",
    "m = aov(Y ~ X1*X2, data=df)\n",
    "Anova(m, type=3, white.adjust=TRUE)"
   ]
  },
  {
   "cell_type": "markdown",
   "id": "5c007c1f-7299-47a1-8ca1-a7108fd64c01",
   "metadata": {
    "tags": []
   },
   "source": [
    "## Mauchly's Test of Sphericity\n",
    "\n",
    "* **Assumption:** Sphericity\n",
    "* **Context of Use:** repeated measures ANOVA\n",
    "* **Reporting:** \"To test the sphericity assumption for repeated measures ANOVA, Mauchly’s test of sphericity was run on a mixed factorial ANOVA model with a between-subjects factor X1 and a within-subjects factor X2. The test was statistically significant for both X2 (W = .637, p < .01) and X1×X2 (W = .637, p < .01), indicating sphericity violations. Accordingly, the Greenhouse-Geisser correction was used when reporting these ANOVA results.\""
   ]
  },
  {
   "cell_type": "code",
   "execution_count": 17,
   "id": "14ce354c-76c9-4478-8ea3-9029293290ea",
   "metadata": {
    "tags": []
   },
   "outputs": [
    {
     "data": {
      "text/html": [
       "<table class=\"dataframe\">\n",
       "<caption>A data.frame: 20 × 4</caption>\n",
       "<thead>\n",
       "\t<tr><th></th><th scope=col>S</th><th scope=col>X1</th><th scope=col>X2</th><th scope=col>Y</th></tr>\n",
       "\t<tr><th></th><th scope=col>&lt;int&gt;</th><th scope=col>&lt;chr&gt;</th><th scope=col>&lt;chr&gt;</th><th scope=col>&lt;dbl&gt;</th></tr>\n",
       "</thead>\n",
       "<tbody>\n",
       "\t<tr><th scope=row>1</th><td>1</td><td>a</td><td>a</td><td>20.2145</td></tr>\n",
       "\t<tr><th scope=row>2</th><td>1</td><td>a</td><td>b</td><td>23.7485</td></tr>\n",
       "\t<tr><th scope=row>3</th><td>1</td><td>a</td><td>c</td><td>20.7960</td></tr>\n",
       "\t<tr><th scope=row>4</th><td>2</td><td>a</td><td>a</td><td>20.8805</td></tr>\n",
       "\t<tr><th scope=row>5</th><td>2</td><td>a</td><td>b</td><td>23.2595</td></tr>\n",
       "\t<tr><th scope=row>6</th><td>2</td><td>a</td><td>c</td><td>19.1305</td></tr>\n",
       "\t<tr><th scope=row>7</th><td>3</td><td>a</td><td>a</td><td>21.2635</td></tr>\n",
       "\t<tr><th scope=row>8</th><td>3</td><td>a</td><td>b</td><td>23.4945</td></tr>\n",
       "\t<tr><th scope=row>9</th><td>3</td><td>a</td><td>c</td><td>20.8545</td></tr>\n",
       "\t<tr><th scope=row>10</th><td>4</td><td>a</td><td>a</td><td>20.7080</td></tr>\n",
       "\t<tr><th scope=row>11</th><td>4</td><td>a</td><td>b</td><td>23.9220</td></tr>\n",
       "\t<tr><th scope=row>12</th><td>4</td><td>a</td><td>c</td><td>18.2575</td></tr>\n",
       "\t<tr><th scope=row>13</th><td>5</td><td>a</td><td>a</td><td>21.0075</td></tr>\n",
       "\t<tr><th scope=row>14</th><td>5</td><td>a</td><td>b</td><td>23.4700</td></tr>\n",
       "\t<tr><th scope=row>15</th><td>5</td><td>a</td><td>c</td><td>17.7105</td></tr>\n",
       "\t<tr><th scope=row>16</th><td>6</td><td>a</td><td>a</td><td>19.9115</td></tr>\n",
       "\t<tr><th scope=row>17</th><td>6</td><td>a</td><td>b</td><td>24.2975</td></tr>\n",
       "\t<tr><th scope=row>18</th><td>6</td><td>a</td><td>c</td><td>19.8550</td></tr>\n",
       "\t<tr><th scope=row>19</th><td>7</td><td>a</td><td>a</td><td>22.1050</td></tr>\n",
       "\t<tr><th scope=row>20</th><td>7</td><td>a</td><td>b</td><td>25.3800</td></tr>\n",
       "</tbody>\n",
       "</table>\n"
      ],
      "text/latex": [
       "A data.frame: 20 × 4\n",
       "\\begin{tabular}{r|llll}\n",
       "  & S & X1 & X2 & Y\\\\\n",
       "  & <int> & <chr> & <chr> & <dbl>\\\\\n",
       "\\hline\n",
       "\t1 & 1 & a & a & 20.2145\\\\\n",
       "\t2 & 1 & a & b & 23.7485\\\\\n",
       "\t3 & 1 & a & c & 20.7960\\\\\n",
       "\t4 & 2 & a & a & 20.8805\\\\\n",
       "\t5 & 2 & a & b & 23.2595\\\\\n",
       "\t6 & 2 & a & c & 19.1305\\\\\n",
       "\t7 & 3 & a & a & 21.2635\\\\\n",
       "\t8 & 3 & a & b & 23.4945\\\\\n",
       "\t9 & 3 & a & c & 20.8545\\\\\n",
       "\t10 & 4 & a & a & 20.7080\\\\\n",
       "\t11 & 4 & a & b & 23.9220\\\\\n",
       "\t12 & 4 & a & c & 18.2575\\\\\n",
       "\t13 & 5 & a & a & 21.0075\\\\\n",
       "\t14 & 5 & a & b & 23.4700\\\\\n",
       "\t15 & 5 & a & c & 17.7105\\\\\n",
       "\t16 & 6 & a & a & 19.9115\\\\\n",
       "\t17 & 6 & a & b & 24.2975\\\\\n",
       "\t18 & 6 & a & c & 19.8550\\\\\n",
       "\t19 & 7 & a & a & 22.1050\\\\\n",
       "\t20 & 7 & a & b & 25.3800\\\\\n",
       "\\end{tabular}\n"
      ],
      "text/markdown": [
       "\n",
       "A data.frame: 20 × 4\n",
       "\n",
       "| <!--/--> | S &lt;int&gt; | X1 &lt;chr&gt; | X2 &lt;chr&gt; | Y &lt;dbl&gt; |\n",
       "|---|---|---|---|---|\n",
       "| 1 | 1 | a | a | 20.2145 |\n",
       "| 2 | 1 | a | b | 23.7485 |\n",
       "| 3 | 1 | a | c | 20.7960 |\n",
       "| 4 | 2 | a | a | 20.8805 |\n",
       "| 5 | 2 | a | b | 23.2595 |\n",
       "| 6 | 2 | a | c | 19.1305 |\n",
       "| 7 | 3 | a | a | 21.2635 |\n",
       "| 8 | 3 | a | b | 23.4945 |\n",
       "| 9 | 3 | a | c | 20.8545 |\n",
       "| 10 | 4 | a | a | 20.7080 |\n",
       "| 11 | 4 | a | b | 23.9220 |\n",
       "| 12 | 4 | a | c | 18.2575 |\n",
       "| 13 | 5 | a | a | 21.0075 |\n",
       "| 14 | 5 | a | b | 23.4700 |\n",
       "| 15 | 5 | a | c | 17.7105 |\n",
       "| 16 | 6 | a | a | 19.9115 |\n",
       "| 17 | 6 | a | b | 24.2975 |\n",
       "| 18 | 6 | a | c | 19.8550 |\n",
       "| 19 | 7 | a | a | 22.1050 |\n",
       "| 20 | 7 | a | b | 25.3800 |\n",
       "\n"
      ],
      "text/plain": [
       "   S X1 X2 Y      \n",
       "1  1 a  a  20.2145\n",
       "2  1 a  b  23.7485\n",
       "3  1 a  c  20.7960\n",
       "4  2 a  a  20.8805\n",
       "5  2 a  b  23.2595\n",
       "6  2 a  c  19.1305\n",
       "7  3 a  a  21.2635\n",
       "8  3 a  b  23.4945\n",
       "9  3 a  c  20.8545\n",
       "10 4 a  a  20.7080\n",
       "11 4 a  b  23.9220\n",
       "12 4 a  c  18.2575\n",
       "13 5 a  a  21.0075\n",
       "14 5 a  b  23.4700\n",
       "15 5 a  c  17.7105\n",
       "16 6 a  a  19.9115\n",
       "17 6 a  b  24.2975\n",
       "18 6 a  c  19.8550\n",
       "19 7 a  a  22.1050\n",
       "20 7 a  b  25.3800"
      ]
     },
     "metadata": {},
     "output_type": "display_data"
    }
   ],
   "source": [
    "# Example data\n",
    "# df has subjects (S), one between-Ss factor (X1), and one within-Ss factor (X2)\n",
    "df <- read.csv(\"data/2F23LMs_mauchly.csv\")\n",
    "head(df, 20)"
   ]
  },
  {
   "cell_type": "code",
   "execution_count": 21,
   "id": "a35b810c-a8ba-469e-aea2-62a04f5de213",
   "metadata": {
    "tags": []
   },
   "outputs": [
    {
     "name": "stderr",
     "output_type": "stream",
     "text": [
      "Warning message:\n",
      "“Converting \"X2\" to factor for ANOVA.”\n",
      "Warning message:\n",
      "“Converting \"X1\" to factor for ANOVA.”\n"
     ]
    },
    {
     "data": {
      "text/html": [
       "<table class=\"dataframe\">\n",
       "<caption>A data.frame: 2 × 4</caption>\n",
       "<thead>\n",
       "\t<tr><th></th><th scope=col>Effect</th><th scope=col>W</th><th scope=col>p</th><th scope=col>p&lt;.05</th></tr>\n",
       "\t<tr><th></th><th scope=col>&lt;chr&gt;</th><th scope=col>&lt;dbl&gt;</th><th scope=col>&lt;dbl&gt;</th><th scope=col>&lt;chr&gt;</th></tr>\n",
       "</thead>\n",
       "<tbody>\n",
       "\t<tr><th scope=row>3</th><td>X2   </td><td>0.6370236</td><td>0.008782794</td><td>*</td></tr>\n",
       "\t<tr><th scope=row>4</th><td>X1:X2</td><td>0.6370236</td><td>0.008782794</td><td>*</td></tr>\n",
       "</tbody>\n",
       "</table>\n"
      ],
      "text/latex": [
       "A data.frame: 2 × 4\n",
       "\\begin{tabular}{r|llll}\n",
       "  & Effect & W & p & p<.05\\\\\n",
       "  & <chr> & <dbl> & <dbl> & <chr>\\\\\n",
       "\\hline\n",
       "\t3 & X2    & 0.6370236 & 0.008782794 & *\\\\\n",
       "\t4 & X1:X2 & 0.6370236 & 0.008782794 & *\\\\\n",
       "\\end{tabular}\n"
      ],
      "text/markdown": [
       "\n",
       "A data.frame: 2 × 4\n",
       "\n",
       "| <!--/--> | Effect &lt;chr&gt; | W &lt;dbl&gt; | p &lt;dbl&gt; | p&lt;.05 &lt;chr&gt; |\n",
       "|---|---|---|---|---|\n",
       "| 3 | X2    | 0.6370236 | 0.008782794 | * |\n",
       "| 4 | X1:X2 | 0.6370236 | 0.008782794 | * |\n",
       "\n"
      ],
      "text/plain": [
       "  Effect W         p           p<.05\n",
       "3 X2     0.6370236 0.008782794 *    \n",
       "4 X1:X2  0.6370236 0.008782794 *    "
      ]
     },
     "metadata": {},
     "output_type": "display_data"
    }
   ],
   "source": [
    "library(ez) # for ezANOVA\n",
    "df <- read.csv(\"data/2F23LMs_mauchly.csv\")\n",
    "df$S = factor(df$S) # Subject id is nominal\n",
    "m = ezANOVA(dv=Y, between=c(X1), within=c(X2), wid=S, type=3, data=df) # use c() for >1 factors\n",
    "m$Mauchly # p<.05 indicates a sphericity violation for within-Ss effects"
   ]
  }
 ],
 "metadata": {
  "kernelspec": {
   "display_name": "R",
   "language": "R",
   "name": "ir"
  },
  "language_info": {
   "codemirror_mode": "r",
   "file_extension": ".r",
   "mimetype": "text/x-r-source",
   "name": "R",
   "pygments_lexer": "r",
   "version": "4.2.2"
  }
 },
 "nbformat": 4,
 "nbformat_minor": 5
}
